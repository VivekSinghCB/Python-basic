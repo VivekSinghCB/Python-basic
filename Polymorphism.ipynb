{
 "cells": [
  {
   "cell_type": "code",
   "execution_count": 10,
   "id": "60c97df9-3547-461d-8587-39f61b97c186",
   "metadata": {},
   "outputs": [
    {
     "data": {
      "text/plain": [
       "17"
      ]
     },
     "execution_count": 10,
     "metadata": {},
     "output_type": "execute_result"
    }
   ],
   "source": [
    "# Polymorphism- means \"many forms\", and it allows the same method or function to behave differently based on the object or data type\n",
    "def test (b,c):\n",
    "    return b+c\n",
    "test(8,9)"
   ]
  },
  {
   "cell_type": "code",
   "execution_count": 16,
   "id": "3f677bd7-a242-4e2c-96d2-9f5bf3fe3f6b",
   "metadata": {},
   "outputs": [
    {
     "data": {
      "text/plain": [
       "'hbfyueo'"
      ]
     },
     "execution_count": 16,
     "metadata": {},
     "output_type": "execute_result"
    }
   ],
   "source": [
    "# same function 'test' performs concatenation for string\n",
    "test(\"hbf\" , \"yueo\")"
   ]
  },
  {
   "cell_type": "code",
   "execution_count": 22,
   "id": "8879f58e-3e4a-462d-89f6-b59eefeab29d",
   "metadata": {},
   "outputs": [
    {
     "data": {
      "text/plain": [
       "[7, 9, 3, 4, 5, 5, 7, 6, 4, 5, 3, 4]"
      ]
     },
     "execution_count": 22,
     "metadata": {},
     "output_type": "execute_result"
    }
   ],
   "source": [
    "# same function 'test' perform append operation for list\n",
    "test([7,9,3,4,5,5] , [7,6,4,5,3,4])"
   ]
  },
  {
   "cell_type": "code",
   "execution_count": 24,
   "id": "60f78f1e-fe82-436b-9189-f4e6ad72a000",
   "metadata": {},
   "outputs": [
    {
     "name": "stdout",
     "output_type": "stream",
     "text": [
      "Animal makes a sound\n",
      "Dog barks\n"
     ]
    }
   ],
   "source": [
    "# class object example\n",
    "\n",
    "class Animal:\n",
    "    def make_sound(self):   # Parent method\n",
    "        print(\"Animal makes a sound\")\n",
    "\n",
    "class Dog(Animal):\n",
    "    def make_sound(self):  # Overriding the parent method\n",
    "        print(\"Dog barks\")\n",
    "\n",
    "a = Animal()\n",
    "b = Dog()\n",
    "\n",
    "a.make_sound()  \n",
    "b.make_sound()"
   ]
  },
  {
   "cell_type": "code",
   "execution_count": 30,
   "id": "61cb09b5-0f8d-4702-b34d-3bf8468ef6ce",
   "metadata": {},
   "outputs": [
    {
     "name": "stdout",
     "output_type": "stream",
     "text": [
      "Welcome to ds\n",
      "Welcome to wb\n"
     ]
    }
   ],
   "source": [
    "class ds:\n",
    "    def syllabus(self):\n",
    "        print(\"Welcome to ds\")\n",
    "\n",
    "class wb:\n",
    "    def syllabus(self):\n",
    "        print(\"Welcome to wb\")\n",
    "\n",
    "def class_parcer(class_obj): # making a function class_parcer\n",
    "    for i in class_obj:\n",
    "        i.syllabus()  # Call syllabus() method on each instance\n",
    "\n",
    "# Creating instances\n",
    "data = ds()\n",
    "web = wb()\n",
    "\n",
    "# Passing instances instead of class names\n",
    "class_obj = [data, web]\n",
    "class_parcer(class_obj)"
   ]
  },
  {
   "cell_type": "code",
   "execution_count": null,
   "id": "f91adf0b-95d1-4844-a34f-158f18a4813f",
   "metadata": {},
   "outputs": [],
   "source": []
  }
 ],
 "metadata": {
  "kernelspec": {
   "display_name": "Python [conda env:base] *",
   "language": "python",
   "name": "conda-base-py"
  },
  "language_info": {
   "codemirror_mode": {
    "name": "ipython",
    "version": 3
   },
   "file_extension": ".py",
   "mimetype": "text/x-python",
   "name": "python",
   "nbconvert_exporter": "python",
   "pygments_lexer": "ipython3",
   "version": "3.12.7"
  }
 },
 "nbformat": 4,
 "nbformat_minor": 5
}
