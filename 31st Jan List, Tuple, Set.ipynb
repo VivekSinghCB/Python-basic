{
 "cells": [
  {
   "cell_type": "code",
   "execution_count": 2,
   "id": "9ced2720-af6c-4288-a2d1-91a615f39eba",
   "metadata": {},
   "outputs": [],
   "source": [
    "# String is a set of characters and we will learn List Data type\n",
    "# List Data type- contains all data types as well as self i.e. List can be kept inside a List\n",
    "# Indexing and Slicing can also be performed for list\n",
    "\n",
    "a=[40,585.7, \"njkf\", True, 5+8j]\n"
   ]
  },
  {
   "cell_type": "code",
   "execution_count": 4,
   "id": "dc3a7fa1-6fc5-4a99-8e35-881bbb80cf3f",
   "metadata": {},
   "outputs": [
    {
     "data": {
      "text/plain": [
       "list"
      ]
     },
     "execution_count": 4,
     "metadata": {},
     "output_type": "execute_result"
    }
   ],
   "source": [
    "type(a)"
   ]
  },
  {
   "cell_type": "code",
   "execution_count": 12,
   "id": "b056377d-d805-4152-bd5c-e5107b30d717",
   "metadata": {},
   "outputs": [
    {
     "data": {
      "text/plain": [
       "'njkf'"
      ]
     },
     "execution_count": 12,
     "metadata": {},
     "output_type": "execute_result"
    }
   ],
   "source": [
    "a[2]"
   ]
  },
  {
   "cell_type": "code",
   "execution_count": 14,
   "id": "c5055621-b09a-4ff9-88fc-848f70043cff",
   "metadata": {},
   "outputs": [
    {
     "data": {
      "text/plain": [
       "[40, 585.7, 'njkf', True, (5+8j)]"
      ]
     },
     "execution_count": 14,
     "metadata": {},
     "output_type": "execute_result"
    }
   ],
   "source": [
    "# Slicing\n",
    "a[0:5]"
   ]
  },
  {
   "cell_type": "code",
   "execution_count": 28,
   "id": "f21903de-2ba3-47d5-9983-254fffa8cfdd",
   "metadata": {},
   "outputs": [
    {
     "data": {
      "text/plain": [
       "[40, 'njkf', (5+8j)]"
      ]
     },
     "execution_count": 28,
     "metadata": {},
     "output_type": "execute_result"
    }
   ],
   "source": [
    "a[::2]"
   ]
  },
  {
   "cell_type": "code",
   "execution_count": 18,
   "id": "c20eec45-8e4e-4eec-b2b6-13b6fe6bfe7e",
   "metadata": {},
   "outputs": [
    {
     "data": {
      "text/plain": [
       "(5+8j)"
      ]
     },
     "execution_count": 18,
     "metadata": {},
     "output_type": "execute_result"
    }
   ],
   "source": [
    "a[-1]"
   ]
  },
  {
   "cell_type": "code",
   "execution_count": 40,
   "id": "db779648-ffee-4eee-986d-e5d96a0bd6e9",
   "metadata": {},
   "outputs": [
    {
     "data": {
      "text/plain": [
       "'Tr'"
      ]
     },
     "execution_count": 40,
     "metadata": {},
     "output_type": "execute_result"
    }
   ],
   "source": [
    "# suppose we want to extract 'nj' from the string available inside the list\n",
    "a[2] [0:2]\n",
    "\n",
    "# suppose we want to extract 'Tr' from the string available inside the list, first do typecasting\n",
    "str (a[3]) [0:2]"
   ]
  },
  {
   "cell_type": "code",
   "execution_count": 20,
   "id": "b49e81dd-07b2-493b-beb5-7b26339291b1",
   "metadata": {},
   "outputs": [
    {
     "data": {
      "text/plain": [
       "[(5+8j), True, 'njkf', 585.7, 40]"
      ]
     },
     "execution_count": 20,
     "metadata": {},
     "output_type": "execute_result"
    }
   ],
   "source": [
    "a[::-1]"
   ]
  },
  {
   "cell_type": "code",
   "execution_count": 24,
   "id": "02ea1908-56c1-45c8-ac9b-da51eb61c095",
   "metadata": {},
   "outputs": [],
   "source": [
    "b=\"pwskills\""
   ]
  },
  {
   "cell_type": "code",
   "execution_count": 26,
   "id": "4db5e5a9-d6a4-48da-bc2d-70304e76a0ec",
   "metadata": {},
   "outputs": [
    {
     "ename": "TypeError",
     "evalue": "can only concatenate list (not \"str\") to list",
     "output_type": "error",
     "traceback": [
      "\u001b[1;31m---------------------------------------------------------------------------\u001b[0m",
      "\u001b[1;31mTypeError\u001b[0m                                 Traceback (most recent call last)",
      "Cell \u001b[1;32mIn[26], line 2\u001b[0m\n\u001b[0;32m      1\u001b[0m \u001b[38;5;66;03m# Concatanation of list and String\u001b[39;00m\n\u001b[1;32m----> 2\u001b[0m a\u001b[38;5;241m+\u001b[39mb\n",
      "\u001b[1;31mTypeError\u001b[0m: can only concatenate list (not \"str\") to list"
     ]
    }
   ],
   "source": [
    "# Concatanation of list and String\n",
    "# List and List can be concatanated directly by using + but not List + OTHER DATA TYPE\n",
    "a+b"
   ]
  },
  {
   "cell_type": "code",
   "execution_count": 46,
   "id": "d9b8bf29-f589-4490-b3e0-8fc05c602570",
   "metadata": {},
   "outputs": [],
   "source": [
    "# Use Append and Extend operation for the above purpose (Add data to last position)\n",
    "# Append= Joins the data as it is and EXTEND= Breaks then add e.g. \"viv\" then it will be v,i,v\n",
    "c=[541, 'fhgf', 752.82, True]"
   ]
  },
  {
   "cell_type": "code",
   "execution_count": 48,
   "id": "8a896f9e-8d2a-4658-8f37-03917baa0c23",
   "metadata": {},
   "outputs": [],
   "source": [
    "a+c # OR after concat. want to store it in a new function 'd' then, \n",
    "d=(a+c)"
   ]
  },
  {
   "cell_type": "code",
   "execution_count": 50,
   "id": "d9fd2cbc-d762-4f44-9da2-819afd6fada3",
   "metadata": {},
   "outputs": [
    {
     "data": {
      "text/plain": [
       "[40, 585.7, 'njkf', True, (5+8j), 541, 'fhgf', 752.82, True]"
      ]
     },
     "execution_count": 50,
     "metadata": {},
     "output_type": "execute_result"
    }
   ],
   "source": [
    "d"
   ]
  },
  {
   "cell_type": "code",
   "execution_count": 52,
   "id": "1352ed33-81f1-43a0-8f78-3f2f79eaf5d0",
   "metadata": {},
   "outputs": [
    {
     "data": {
      "text/plain": [
       "9"
      ]
     },
     "execution_count": 52,
     "metadata": {},
     "output_type": "execute_result"
    }
   ],
   "source": [
    "len(d)"
   ]
  },
  {
   "cell_type": "code",
   "execution_count": 54,
   "id": "5667f12d-7d6f-4ccb-82ce-dfe6047b0c4f",
   "metadata": {},
   "outputs": [],
   "source": [
    "# Appending\n",
    "d.append(8155666)"
   ]
  },
  {
   "cell_type": "code",
   "execution_count": 56,
   "id": "6ded68e4-2ee9-408d-9414-bf6d6d6fdee3",
   "metadata": {},
   "outputs": [
    {
     "data": {
      "text/plain": [
       "[40, 585.7, 'njkf', True, (5+8j), 541, 'fhgf', 752.82, True, 8155666]"
      ]
     },
     "execution_count": 56,
     "metadata": {},
     "output_type": "execute_result"
    }
   ],
   "source": [
    "d"
   ]
  },
  {
   "cell_type": "code",
   "execution_count": 68,
   "id": "96f81922-463e-4a88-b925-6c90d63a02fc",
   "metadata": {},
   "outputs": [],
   "source": [
    "d.append(523.045)"
   ]
  },
  {
   "cell_type": "code",
   "execution_count": 70,
   "id": "58a13789-a8b7-4fd3-a0cc-5918665fd5b0",
   "metadata": {},
   "outputs": [
    {
     "data": {
      "text/plain": [
       "[40,\n",
       " 585.7,\n",
       " 'njkf',\n",
       " True,\n",
       " (5+8j),\n",
       " 541,\n",
       " 'fhgf',\n",
       " 752.82,\n",
       " True,\n",
       " 8155666,\n",
       " 'pwskills',\n",
       " [40, 585.7, 'njkf', True, (5+8j)],\n",
       " [40, 585.7, 'njkf', True, (5+8j)],\n",
       " [541, 'fhgf', 752.82, True],\n",
       " 523.045]"
      ]
     },
     "execution_count": 70,
     "metadata": {},
     "output_type": "execute_result"
    }
   ],
   "source": [
    "d"
   ]
  },
  {
   "cell_type": "code",
   "execution_count": 72,
   "id": "c7038f3a-8138-4be9-b76d-f7a772a7e9b8",
   "metadata": {},
   "outputs": [],
   "source": [
    "e=[5440.50, \"bfgf\", 502, True]"
   ]
  },
  {
   "cell_type": "code",
   "execution_count": 76,
   "id": "37c6d57b-a926-4dd2-88aa-ff91bd1e48bd",
   "metadata": {},
   "outputs": [],
   "source": [
    "e.extend([3,4,5])"
   ]
  },
  {
   "cell_type": "code",
   "execution_count": 78,
   "id": "3bd89765-37f6-4146-a7f8-7b475ac77e9e",
   "metadata": {},
   "outputs": [
    {
     "data": {
      "text/plain": [
       "[5440.5, 'bfgf', 502, True, 3, 4, 5]"
      ]
     },
     "execution_count": 78,
     "metadata": {},
     "output_type": "execute_result"
    }
   ],
   "source": [
    "e"
   ]
  },
  {
   "cell_type": "code",
   "execution_count": 98,
   "id": "ed05efc6-26b4-4aa1-be8d-b9ce1a68aa08",
   "metadata": {},
   "outputs": [],
   "source": [
    "# Insert= This function add data to given specific position of our interest and NOT remove the data from that specific index, It will just push \n",
    "# how many times we will execute it will add that many time to that specific index\n",
    "h=[\"bvjv\",5862.04,True]"
   ]
  },
  {
   "cell_type": "code",
   "execution_count": 100,
   "id": "402ebe3f-ed07-40a8-81e4-21cf1d9206d1",
   "metadata": {},
   "outputs": [
    {
     "data": {
      "text/plain": [
       "['bvjv', 'singh', 5862.04, True]"
      ]
     },
     "execution_count": 100,
     "metadata": {},
     "output_type": "execute_result"
    }
   ],
   "source": [
    "h.insert(1,\"singh\") # i.e. (index position, data to be added)\n",
    "h"
   ]
  },
  {
   "cell_type": "code",
   "execution_count": 106,
   "id": "ade88486-e091-4a3c-bc0f-5c96d2b97864",
   "metadata": {},
   "outputs": [
    {
     "data": {
      "text/plain": [
       "['bvjv', 'singh', 5862.04, 814545, True]"
      ]
     },
     "execution_count": 106,
     "metadata": {},
     "output_type": "execute_result"
    }
   ],
   "source": [
    "# See carefully when reverse index is given\n",
    "h.insert(-1,814545)\n",
    "h"
   ]
  },
  {
   "cell_type": "code",
   "execution_count": 108,
   "id": "692fef0d-b3dc-43a6-8626-42924d01cf2c",
   "metadata": {},
   "outputs": [
    {
     "data": {
      "text/plain": [
       "['bvjv', 'singh', 5862.04, 814545]"
      ]
     },
     "execution_count": 108,
     "metadata": {},
     "output_type": "execute_result"
    }
   ],
   "source": [
    "# REMOVE by giving index using pop (default last index i.e. from -1 index) function\n",
    "h.pop()\n",
    "h"
   ]
  },
  {
   "cell_type": "code",
   "execution_count": 118,
   "id": "3e337720-e100-4454-902e-9e748f383af8",
   "metadata": {},
   "outputs": [],
   "source": [
    "i=[\"bfbbg\",652.0564,False,98112]"
   ]
  },
  {
   "cell_type": "code",
   "execution_count": 120,
   "id": "6cd7d70f-ac3d-4fc2-b178-d093b29e1c23",
   "metadata": {},
   "outputs": [
    {
     "data": {
      "text/plain": [
       "['bfbbg', 652.0564, 98112]"
      ]
     },
     "execution_count": 120,
     "metadata": {},
     "output_type": "execute_result"
    }
   ],
   "source": [
    "i.pop(2)\n",
    "i"
   ]
  },
  {
   "cell_type": "code",
   "execution_count": 126,
   "id": "8e86ca64-9e36-42fa-a663-c0d0efd2c065",
   "metadata": {},
   "outputs": [
    {
     "data": {
      "text/plain": [
       "['jkkkmf', False, True, 752.05, 87, [4, 5, 6]]"
      ]
     },
     "execution_count": 126,
     "metadata": {},
     "output_type": "execute_result"
    }
   ],
   "source": [
    "# REMOVE function- will remove the value whichever we want, It doen't takes the index\n",
    "j=[\"jkkkmf\",False,True,752.05,87,[4,5,6]]\n",
    "j"
   ]
  },
  {
   "cell_type": "code",
   "execution_count": 128,
   "id": "604017fa-f71c-463b-8ca9-b7f87919d8d2",
   "metadata": {},
   "outputs": [],
   "source": [
    "j[5].remove(6)"
   ]
  },
  {
   "cell_type": "code",
   "execution_count": 130,
   "id": "38c35733-34c6-43a2-b745-b836267e93f3",
   "metadata": {},
   "outputs": [
    {
     "data": {
      "text/plain": [
       "['jkkkmf', False, True, 752.05, 87, [4, 5]]"
      ]
     },
     "execution_count": 130,
     "metadata": {},
     "output_type": "execute_result"
    }
   ],
   "source": [
    "j"
   ]
  },
  {
   "cell_type": "code",
   "execution_count": 132,
   "id": "1894d118-481e-46bb-a6e5-8ad21fbd75c6",
   "metadata": {},
   "outputs": [
    {
     "ename": "AttributeError",
     "evalue": "'str' object has no attribute 'remove'",
     "output_type": "error",
     "traceback": [
      "\u001b[1;31m---------------------------------------------------------------------------\u001b[0m",
      "\u001b[1;31mAttributeError\u001b[0m                            Traceback (most recent call last)",
      "Cell \u001b[1;32mIn[132], line 2\u001b[0m\n\u001b[0;32m      1\u001b[0m \u001b[38;5;66;03m# string is immutable so we cant't remove\u001b[39;00m\n\u001b[1;32m----> 2\u001b[0m j[\u001b[38;5;241m0\u001b[39m]\u001b[38;5;241m.\u001b[39mremove(\u001b[38;5;124m'\u001b[39m\u001b[38;5;124mjk\u001b[39m\u001b[38;5;124m'\u001b[39m)\n\u001b[0;32m      3\u001b[0m j\n",
      "\u001b[1;31mAttributeError\u001b[0m: 'str' object has no attribute 'remove'"
     ]
    }
   ],
   "source": [
    "# string is Immutable so we can't remove\n",
    "j[0].remove('jk')\n",
    "j"
   ]
  },
  {
   "cell_type": "code",
   "execution_count": 134,
   "id": "3bcf7862-73b6-4e3d-9c56-e05af2ceee2f",
   "metadata": {},
   "outputs": [
    {
     "ename": "AttributeError",
     "evalue": "'str' object has no attribute 'remove'",
     "output_type": "error",
     "traceback": [
      "\u001b[1;31m---------------------------------------------------------------------------\u001b[0m",
      "\u001b[1;31mAttributeError\u001b[0m                            Traceback (most recent call last)",
      "Cell \u001b[1;32mIn[134], line 1\u001b[0m\n\u001b[1;32m----> 1\u001b[0m j[\u001b[38;5;241m0\u001b[39m]\u001b[38;5;241m.\u001b[39mremove(jk)\n\u001b[0;32m      2\u001b[0m j\n",
      "\u001b[1;31mAttributeError\u001b[0m: 'str' object has no attribute 'remove'"
     ]
    }
   ],
   "source": [
    "j[0].remove(jk)\n",
    "j"
   ]
  },
  {
   "cell_type": "code",
   "execution_count": 136,
   "id": "5a1599a0-5c59-4457-a694-754adc6ee86c",
   "metadata": {},
   "outputs": [
    {
     "data": {
      "text/plain": [
       "[[4, 5], 87, 752.05, True, False, 'jkkkmf']"
      ]
     },
     "execution_count": 136,
     "metadata": {},
     "output_type": "execute_result"
    }
   ],
   "source": [
    "# Reverse function- Permanently reverse our original List\n",
    "j.reverse()\n",
    "j"
   ]
  },
  {
   "cell_type": "code",
   "execution_count": 138,
   "id": "d6e10362-67f9-4198-8253-96abccbe77c9",
   "metadata": {},
   "outputs": [
    {
     "data": {
      "text/plain": [
       "[[4, 5], 87, 752.05, True, False, 'jkkkmf']"
      ]
     },
     "execution_count": 138,
     "metadata": {},
     "output_type": "execute_result"
    }
   ],
   "source": [
    "# If we want to make it permanent as REVERSE is doing, then perform reassignment j=j[::-1]\n",
    "j[::-1] # Temporarely reverse our original List\n",
    "j"
   ]
  },
  {
   "cell_type": "code",
   "execution_count": 140,
   "id": "289f63f7-d4df-4eef-a81b-e69d39d75ec0",
   "metadata": {},
   "outputs": [
    {
     "ename": "TypeError",
     "evalue": "'<' not supported between instances of 'int' and 'list'",
     "output_type": "error",
     "traceback": [
      "\u001b[1;31m---------------------------------------------------------------------------\u001b[0m",
      "\u001b[1;31mTypeError\u001b[0m                                 Traceback (most recent call last)",
      "Cell \u001b[1;32mIn[140], line 2\u001b[0m\n\u001b[0;32m      1\u001b[0m \u001b[38;5;66;03m# SORT function\u001b[39;00m\n\u001b[1;32m----> 2\u001b[0m j\u001b[38;5;241m.\u001b[39msort()\n\u001b[0;32m      3\u001b[0m j\n",
      "\u001b[1;31mTypeError\u001b[0m: '<' not supported between instances of 'int' and 'list'"
     ]
    }
   ],
   "source": [
    "# SORT function- ascending to descending (works for same data type inside list\n",
    "j.sort()\n",
    "j"
   ]
  },
  {
   "cell_type": "code",
   "execution_count": 144,
   "id": "244dc7bb-d683-4359-a873-7ac1537c629e",
   "metadata": {},
   "outputs": [
    {
     "data": {
      "text/plain": [
       "[0, 3, 4, 5, 7, 7, 8, 10, 10, 45, 99]"
      ]
     },
     "execution_count": 144,
     "metadata": {},
     "output_type": "execute_result"
    }
   ],
   "source": [
    "k=[0,7,5,8,99,4,10,45,3,7,10]\n",
    "k.sort()\n",
    "k"
   ]
  },
  {
   "cell_type": "code",
   "execution_count": 154,
   "id": "62a76e19-d654-4246-9cba-07ee56b60b7c",
   "metadata": {},
   "outputs": [
    {
     "data": {
      "text/plain": [
       "[99, 45, 10, 10, 8, 7, 7, 5, 4, 3, 0]"
      ]
     },
     "execution_count": 154,
     "metadata": {},
     "output_type": "execute_result"
    }
   ],
   "source": [
    "# for descending or alphabetically reverse\n",
    "k.sort(reverse=True)\n",
    "k"
   ]
  },
  {
   "cell_type": "code",
   "execution_count": 148,
   "id": "e740b87c-4fd0-4c35-a4b8-e60da3ba00f6",
   "metadata": {},
   "outputs": [
    {
     "data": {
      "text/plain": [
       "['aijjvjg', 'dbuhjko', 'njnvdjnv', 'shidd', 'yrnn']"
      ]
     },
     "execution_count": 148,
     "metadata": {},
     "output_type": "execute_result"
    }
   ],
   "source": [
    "l=[\"njnvdjnv\", \"shidd\", \"yrnn\", \"dbuhjko\", \"aijjvjg\"]\n",
    "l.sort() # Alphabetically\n",
    "l"
   ]
  },
  {
   "cell_type": "code",
   "execution_count": 156,
   "id": "d7890650-9493-48a7-9749-35040c9f3cc9",
   "metadata": {},
   "outputs": [
    {
     "data": {
      "text/plain": [
       "['yrnn', 'shidd', 'njnvdjnv', 'dbuhjko', 'aijjvjg']"
      ]
     },
     "execution_count": 156,
     "metadata": {},
     "output_type": "execute_result"
    }
   ],
   "source": [
    "# for descending or alphabetically reverse\n",
    "l.sort(reverse=True)\n",
    "l"
   ]
  },
  {
   "cell_type": "code",
   "execution_count": 160,
   "id": "c92c328f-f7c4-443c-a87a-ea9d5e3df586",
   "metadata": {},
   "outputs": [
    {
     "data": {
      "text/plain": [
       "1"
      ]
     },
     "execution_count": 160,
     "metadata": {},
     "output_type": "execute_result"
    }
   ],
   "source": [
    "# Count function- to know how many times a data is present\n",
    "l.count(\"yrnn\")"
   ]
  },
  {
   "cell_type": "code",
   "execution_count": 162,
   "id": "a3050b38-2a56-4590-a90c-34bedd9b7dd1",
   "metadata": {},
   "outputs": [
    {
     "ename": "TypeError",
     "evalue": "'str' object does not support item assignment",
     "output_type": "error",
     "traceback": [
      "\u001b[1;31m---------------------------------------------------------------------------\u001b[0m",
      "\u001b[1;31mTypeError\u001b[0m                                 Traceback (most recent call last)",
      "Cell \u001b[1;32mIn[162], line 4\u001b[0m\n\u001b[0;32m      1\u001b[0m \u001b[38;5;66;03m# Mutability and Immutability\u001b[39;00m\n\u001b[0;32m      2\u001b[0m \u001b[38;5;66;03m# String is Immutable and List is Mutable \u001b[39;00m\n\u001b[0;32m      3\u001b[0m m\u001b[38;5;241m=\u001b[39m\u001b[38;5;124m\"\u001b[39m\u001b[38;5;124mabhfio\u001b[39m\u001b[38;5;124m\"\u001b[39m\n\u001b[1;32m----> 4\u001b[0m m[\u001b[38;5;241m0\u001b[39m]\u001b[38;5;241m=\u001b[39m\u001b[38;5;124m'\u001b[39m\u001b[38;5;124mz\u001b[39m\u001b[38;5;124m'\u001b[39m \u001b[38;5;66;03m#i.e. replace index 0 i.e. 'a' present in m string with 'z'\u001b[39;00m\n\u001b[0;32m      5\u001b[0m m\n",
      "\u001b[1;31mTypeError\u001b[0m: 'str' object does not support item assignment"
     ]
    }
   ],
   "source": [
    "# Mutability and Immutability\n",
    "# String is Immutable and List is Mutable \n",
    "m=\"abhfio\"\n",
    "m[0]='z' #i.e. replace index 0 i.e. 'a' present in m string with 'z'\n",
    "m"
   ]
  },
  {
   "cell_type": "code",
   "execution_count": 174,
   "id": "c0baf4ed-0079-4449-bf18-a1e5b1c3a755",
   "metadata": {},
   "outputs": [
    {
     "data": {
      "text/plain": [
       "[4577, False, 89566.542]"
      ]
     },
     "execution_count": 174,
     "metadata": {},
     "output_type": "execute_result"
    }
   ],
   "source": [
    "n=[4577,True,89566.542]\n",
    "n[1]=False\n",
    "n"
   ]
  },
  {
   "cell_type": "code",
   "execution_count": 176,
   "id": "5c80014b-727d-4119-8c2b-697c87e5c1c0",
   "metadata": {},
   "outputs": [
    {
     "data": {
      "text/plain": [
       "(42, 455.45, 'duh', True, (45+417j), [5, 7, 8])"
      ]
     },
     "execution_count": 176,
     "metadata": {},
     "output_type": "execute_result"
    }
   ],
   "source": [
    "# TUPLE Data type, IMMUTABLE\n",
    "# Indexing and Slicing is applicable\n",
    "t=(42,455.45,\"duh\",True, 45+417j, [5,7,8])\n",
    "t"
   ]
  },
  {
   "cell_type": "code",
   "execution_count": 178,
   "id": "0280d174-af98-404c-ab8f-5caa7fd119b3",
   "metadata": {},
   "outputs": [
    {
     "data": {
      "text/plain": [
       "tuple"
      ]
     },
     "execution_count": 178,
     "metadata": {},
     "output_type": "execute_result"
    }
   ],
   "source": [
    "type(t)"
   ]
  },
  {
   "cell_type": "code",
   "execution_count": 182,
   "id": "d89c4cb0-9a11-46ed-870a-9e0381690793",
   "metadata": {},
   "outputs": [
    {
     "data": {
      "text/plain": [
       "42"
      ]
     },
     "execution_count": 182,
     "metadata": {},
     "output_type": "execute_result"
    }
   ],
   "source": [
    "t[0]"
   ]
  },
  {
   "cell_type": "code",
   "execution_count": 184,
   "id": "94933a37-a15a-4df1-a119-55439b6766db",
   "metadata": {},
   "outputs": [
    {
     "ename": "TypeError",
     "evalue": "'tuple' object does not support item assignment",
     "output_type": "error",
     "traceback": [
      "\u001b[1;31m---------------------------------------------------------------------------\u001b[0m",
      "\u001b[1;31mTypeError\u001b[0m                                 Traceback (most recent call last)",
      "Cell \u001b[1;32mIn[184], line 1\u001b[0m\n\u001b[1;32m----> 1\u001b[0m t[\u001b[38;5;241m0\u001b[39m]\u001b[38;5;241m=\u001b[39m\u001b[38;5;124m\"\u001b[39m\u001b[38;5;124m60\u001b[39m\u001b[38;5;124m\"\u001b[39m\n",
      "\u001b[1;31mTypeError\u001b[0m: 'tuple' object does not support item assignment"
     ]
    }
   ],
   "source": [
    "t[0]=\"60\""
   ]
  },
  {
   "cell_type": "code",
   "execution_count": 188,
   "id": "0d99b7c8-fb64-49e2-b114-f64e14b80385",
   "metadata": {},
   "outputs": [
    {
     "data": {
      "text/plain": [
       "1"
      ]
     },
     "execution_count": 188,
     "metadata": {},
     "output_type": "execute_result"
    }
   ],
   "source": [
    "# only two functions availables are count and index\n",
    "t.count(42)"
   ]
  },
  {
   "cell_type": "code",
   "execution_count": 190,
   "id": "e34e5d68-b971-4a53-b7a2-3054422ee202",
   "metadata": {},
   "outputs": [
    {
     "data": {
      "text/plain": [
       "dict"
      ]
     },
     "execution_count": 190,
     "metadata": {},
     "output_type": "execute_result"
    }
   ],
   "source": [
    "# SET Data type- Immutable and removes duplicates (looks ordered but it is unordered) present in the set  \n",
    "s={} # empty bracket will give dict type\n",
    "type(s)"
   ]
  },
  {
   "cell_type": "code",
   "execution_count": 202,
   "id": "73dbc4d8-84ab-4a58-815f-ab1bca1cffe5",
   "metadata": {},
   "outputs": [
    {
     "data": {
      "text/plain": [
       "set"
      ]
     },
     "execution_count": 202,
     "metadata": {},
     "output_type": "execute_result"
    }
   ],
   "source": [
    "s={50,40,488,6.15,\"cfggg\",False,78+89j}\n",
    "type(s)"
   ]
  },
  {
   "cell_type": "code",
   "execution_count": 204,
   "id": "8299acbd-08dc-44ef-8135-812a7ec08e74",
   "metadata": {},
   "outputs": [
    {
     "ename": "TypeError",
     "evalue": "unhashable type: 'list'",
     "output_type": "error",
     "traceback": [
      "\u001b[1;31m---------------------------------------------------------------------------\u001b[0m",
      "\u001b[1;31mTypeError\u001b[0m                                 Traceback (most recent call last)",
      "Cell \u001b[1;32mIn[204], line 1\u001b[0m\n\u001b[1;32m----> 1\u001b[0m s\u001b[38;5;241m=\u001b[39m{\u001b[38;5;241m50\u001b[39m,\u001b[38;5;241m40\u001b[39m,\u001b[38;5;241m488\u001b[39m,\u001b[38;5;241m6.15\u001b[39m,\u001b[38;5;124m\"\u001b[39m\u001b[38;5;124mcfggg\u001b[39m\u001b[38;5;124m\"\u001b[39m,\u001b[38;5;28;01mFalse\u001b[39;00m,\u001b[38;5;241m78\u001b[39m\u001b[38;5;241m+\u001b[39m\u001b[38;5;241m89\u001b[39mj,[\u001b[38;5;241m88\u001b[39m,\u001b[38;5;241m56\u001b[39m,\u001b[38;5;241m9\u001b[39m,]} \u001b[38;5;66;03m# Don't accept list\u001b[39;00m\n\u001b[0;32m      2\u001b[0m \u001b[38;5;28mtype\u001b[39m(s)\n",
      "\u001b[1;31mTypeError\u001b[0m: unhashable type: 'list'"
     ]
    }
   ],
   "source": [
    "s={50,40,488,6.15,\"cfggg\",False,78+89j,[88,56,9,]} # Accepts only IMMUTABLES \n",
    "                                                  # So, Don't accept list i.e. [88,56,9,]\n",
    "type(s)"
   ]
  },
  {
   "cell_type": "code",
   "execution_count": 208,
   "id": "ceb4748d-196f-43a1-a2c1-3221558c6d83",
   "metadata": {},
   "outputs": [
    {
     "data": {
      "text/plain": [
       "set"
      ]
     },
     "execution_count": 208,
     "metadata": {},
     "output_type": "execute_result"
    }
   ],
   "source": [
    "s={50,40,488,6.15,\"cfggg\",False,78+89j,(45,89,63,\"der\")} # accept Tuple \n",
    "type(s)"
   ]
  },
  {
   "cell_type": "code",
   "execution_count": 214,
   "id": "6c530a7e-f23e-48a7-9bcc-dc36f09d74ac",
   "metadata": {},
   "outputs": [
    {
     "data": {
      "text/plain": [
       "{0, 1, 2, 3, 4, 5, 6, 7, 8, 9, 'Fjj', 'fjj'}"
      ]
     },
     "execution_count": 214,
     "metadata": {},
     "output_type": "execute_result"
    }
   ],
   "source": [
    "# Set removes repwtitive data and gives only unique data\n",
    "q={1,5,5,8,9,1,4,5,2,3,7,5,6,4,2,6,3,4,7,8,6,9,7,0,3,0,7,8,5,6,9,2,3,1,\"fjj\",\"Fjj\"}\n",
    "q"
   ]
  },
  {
   "cell_type": "code",
   "execution_count": 222,
   "id": "5c5a85f6-1509-4fb5-baa9-b86ba5a38143",
   "metadata": {},
   "outputs": [
    {
     "data": {
      "text/plain": [
       "['h', 'j', 'k']"
      ]
     },
     "execution_count": 222,
     "metadata": {},
     "output_type": "execute_result"
    }
   ],
   "source": [
    "# change set to list and add an element i.e. reassignment\n",
    "q=list(set(\"jkh\"))\n",
    "q"
   ]
  },
  {
   "cell_type": "code",
   "execution_count": 230,
   "id": "01ce8821-7575-40b0-aede-0c7f1baf71d8",
   "metadata": {},
   "outputs": [
    {
     "data": {
      "text/plain": [
       "{12, 2, 44, 52, 63, 789, 88, 'gjkh'}"
      ]
     },
     "execution_count": 230,
     "metadata": {},
     "output_type": "execute_result"
    }
   ],
   "source": [
    "# set arranges the unique data in an unordered manner\n",
    "l={44,88,52,63,\"gjkh\",44,63,12,2,789}\n",
    "l"
   ]
  },
  {
   "cell_type": "code",
   "execution_count": 232,
   "id": "78f055fc-f303-4f3a-be1a-399d0843ff88",
   "metadata": {},
   "outputs": [
    {
     "ename": "TypeError",
     "evalue": "'set' object is not subscriptable",
     "output_type": "error",
     "traceback": [
      "\u001b[1;31m---------------------------------------------------------------------------\u001b[0m",
      "\u001b[1;31mTypeError\u001b[0m                                 Traceback (most recent call last)",
      "Cell \u001b[1;32mIn[232], line 2\u001b[0m\n\u001b[0;32m      1\u001b[0m \u001b[38;5;66;03m# set doesn't support indexing and slicing operation \u001b[39;00m\n\u001b[1;32m----> 2\u001b[0m l[\u001b[38;5;241m0\u001b[39m]\n",
      "\u001b[1;31mTypeError\u001b[0m: 'set' object is not subscriptable"
     ]
    }
   ],
   "source": [
    "# set doesn't support indexing and slicing operation \n",
    "l[0]"
   ]
  },
  {
   "cell_type": "code",
   "execution_count": 234,
   "id": "a07e4b4a-649b-49d1-a08c-fd9843d3f9be",
   "metadata": {},
   "outputs": [
    {
     "ename": "TypeError",
     "evalue": "'set' object is not subscriptable",
     "output_type": "error",
     "traceback": [
      "\u001b[1;31m---------------------------------------------------------------------------\u001b[0m",
      "\u001b[1;31mTypeError\u001b[0m                                 Traceback (most recent call last)",
      "Cell \u001b[1;32mIn[234], line 1\u001b[0m\n\u001b[1;32m----> 1\u001b[0m l[::\u001b[38;5;241m-\u001b[39m\u001b[38;5;241m1\u001b[39m]\n",
      "\u001b[1;31mTypeError\u001b[0m: 'set' object is not subscriptable"
     ]
    }
   ],
   "source": [
    "l[::-1]"
   ]
  },
  {
   "cell_type": "code",
   "execution_count": 236,
   "id": "e8aa847a-8eb7-49be-8340-a37e89db60ac",
   "metadata": {},
   "outputs": [
    {
     "data": {
      "text/plain": [
       "{12, 2, 44, 45, 52, 63, 789, 88, 'gjkh'}"
      ]
     },
     "execution_count": 236,
     "metadata": {},
     "output_type": "execute_result"
    }
   ],
   "source": [
    "# operations\n",
    "# add unique element if same element is present it will not allow to add \n",
    "l.add(45)\n",
    "l"
   ]
  },
  {
   "cell_type": "code",
   "execution_count": 246,
   "id": "3774082d-8ac3-49e9-beb0-ce9562c56429",
   "metadata": {},
   "outputs": [
    {
     "data": {
      "text/plain": [
       "{12, 2, 44, 45, 52, 63, 789, 'gjkh'}"
      ]
     },
     "execution_count": 246,
     "metadata": {},
     "output_type": "execute_result"
    }
   ],
   "source": [
    "# remove\n",
    "l.remove(88)\n",
    "l"
   ]
  },
  {
   "cell_type": "code",
   "execution_count": null,
   "id": "99bbb11e-698c-4e25-9c27-8d96e1be76d9",
   "metadata": {},
   "outputs": [],
   "source": []
  }
 ],
 "metadata": {
  "kernelspec": {
   "display_name": "Python [conda env:base] *",
   "language": "python",
   "name": "conda-base-py"
  },
  "language_info": {
   "codemirror_mode": {
    "name": "ipython",
    "version": 3
   },
   "file_extension": ".py",
   "mimetype": "text/x-python",
   "name": "python",
   "nbconvert_exporter": "python",
   "pygments_lexer": "ipython3",
   "version": "3.12.7"
  }
 },
 "nbformat": 4,
 "nbformat_minor": 5
}
