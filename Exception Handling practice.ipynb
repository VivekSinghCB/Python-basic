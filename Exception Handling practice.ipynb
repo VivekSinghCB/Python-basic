{
 "cells": [
  {
   "cell_type": "code",
   "execution_count": 4,
   "id": "ccded8a0-55b2-40e2-abd6-3133e0e90ea2",
   "metadata": {},
   "outputs": [
    {
     "name": "stdout",
     "output_type": "stream",
     "text": [
      "division by zero\n"
     ]
    }
   ],
   "source": [
    "# Exception Handling practice\n",
    "  # use always a specific function\n",
    "\n",
    "try:\n",
    "    809/0\n",
    "except Exception as t: # Using Exception as superclass \n",
    "    print(t)"
   ]
  },
  {
   "cell_type": "code",
   "execution_count": 8,
   "id": "9f46446f-8481-4f28-8f32-cf18393c5ff5",
   "metadata": {},
   "outputs": [
    {
     "name": "stdout",
     "output_type": "stream",
     "text": [
      "division by zero\n"
     ]
    }
   ],
   "source": [
    "# but above is not a good method to handle the error\n",
    "try:\n",
    "    600/0\n",
    "except ZeroDivisionError as t: # Using specific class 'ZeroDivisionError' to handle the error \n",
    "    print(t)"
   ]
  },
  {
   "cell_type": "code",
   "execution_count": 10,
   "id": "b05dc4c7-d167-4640-9b51-19a339afb724",
   "metadata": {},
   "outputs": [
    {
     "name": "stdout",
     "output_type": "stream",
     "text": [
      "Trying to handle zero division error division by zero\n"
     ]
    }
   ],
   "source": [
    "# always print a good message\n",
    "\n",
    "try:\n",
    "    600/0\n",
    "except ZeroDivisionError as t: # Using specific class 'ZeroDivisionError' to handle the error \n",
    "    print(\"Trying to handle zero division error\", t)"
   ]
  },
  {
   "cell_type": "code",
   "execution_count": 12,
   "id": "60110cef-c86f-48e7-9f3d-24b7916d9bd5",
   "metadata": {},
   "outputs": [],
   "source": [
    "# always try to log the error using logging method\n",
    "import logging\n",
    "logging.basicConfig(filename = \"error.log\" , level = logging.ERROR)\n",
    "try:\n",
    "    600/0\n",
    "except ZeroDivisionError as t: # Using specific class 'ZeroDivisionError' to handle the error \n",
    "    logging.error(\"Trying to handle zero division error {}\".format(t)) # using logging method instead of print"
   ]
  },
  {
   "cell_type": "code",
   "execution_count": 22,
   "id": "6f039a5e-d618-482b-84f5-165611cf4fb7",
   "metadata": {},
   "outputs": [],
   "source": [
    "# always avoid writing multiple exception handling as it increases the complexity of code\n",
    "\n",
    "try:\n",
    "    600/0\n",
    "    \n",
    "except FileNotFoundError as t:\n",
    "    logging.error(\"Handling file not found error {}\".format(t))\n",
    "except AttributeError as t:\n",
    "    logging.error(\"Handling attribute error {}\".format(t))\n",
    "except ZeroDivisionError as t:  \n",
    "    logging.error(\"Trying to handle zero division error {}\".format(t))"
   ]
  },
  {
   "cell_type": "code",
   "execution_count": 18,
   "id": "28bbf40a-9cdc-4ded-abf7-9a2d9fe060b1",
   "metadata": {},
   "outputs": [],
   "source": [
    "# document all the error\n",
    "# clean-up all the resources\n",
    "try:\n",
    "   with open(\"hfrh.txt\" , 'w') as f:\n",
    "       f.write(\"This is data for the file\")\n",
    "except FileNotFoundError as t:\n",
    "    logging.error(\"Handling file not found error {}\".format(t))\n",
    "finally:\n",
    "    f.close()"
   ]
  },
  {
   "cell_type": "code",
   "execution_count": null,
   "id": "b5fa3fc9-7f4c-4660-bf3e-340a28b366f0",
   "metadata": {},
   "outputs": [],
   "source": []
  }
 ],
 "metadata": {
  "kernelspec": {
   "display_name": "Python [conda env:base] *",
   "language": "python",
   "name": "conda-base-py"
  },
  "language_info": {
   "codemirror_mode": {
    "name": "ipython",
    "version": 3
   },
   "file_extension": ".py",
   "mimetype": "text/x-python",
   "name": "python",
   "nbconvert_exporter": "python",
   "pygments_lexer": "ipython3",
   "version": "3.12.7"
  }
 },
 "nbformat": 4,
 "nbformat_minor": 5
}
