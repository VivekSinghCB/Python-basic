{
 "cells": [
  {
   "cell_type": "code",
   "execution_count": 10,
   "id": "3e0666e6-2b00-4b60-9ef5-720ae472e264",
   "metadata": {},
   "outputs": [
    {
     "name": "stdout",
     "output_type": "stream",
     "text": [
      "Getting Age\n",
      "25\n",
      "Setting Age\n",
      "Deleting Age\n"
     ]
    }
   ],
   "source": [
    "# Property_Decorators_Getters, Setters, and Deleters- \n",
    "   # Getter: @property- Used to retrieve (get) the value of an attribute in an object-oriented way.\n",
    "  # Setter: @<property_name>.setter- Used to modify (set) the value of an attribute with additional validation logic.\n",
    "  # Deleter: @<property_name>.deleter- Used to delete an attribute from an object\n",
    "\n",
    "class Person:\n",
    "    def __init__(self, name, age):\n",
    "        self._name = name  # Private attribute (convention)\n",
    "        self._age = age  \n",
    "\n",
    "    @property  # Getter\n",
    "    def age(self):\n",
    "        print(\"Getting Age\")  \n",
    "        return self._age  # Returns the age\n",
    "\n",
    "    @age.setter  # Setter\n",
    "    def age(self, value):\n",
    "        if value < 0:  # Prevents negative age\n",
    "            raise ValueError(\"Age cannot be negative\")\n",
    "        print(\"Setting Age\")  \n",
    "        self._age = value  \n",
    "\n",
    "    @age.deleter  # Deleter\n",
    "    def age(self):\n",
    "        print(\"Deleting Age\")\n",
    "        del self._age  # Deletes the attribute\n",
    "\n",
    "# Create object\n",
    "p = Person(\"Alice\", 25)\n",
    "\n",
    "# Access property (calls getter)\n",
    "print(p.age)  \n",
    "\n",
    "# Set property (calls setter)\n",
    "p.age = 30 \n",
    "\n",
    "# Delete property (calls deleter)\n",
    "del p.age "
   ]
  },
  {
   "cell_type": "code",
   "execution_count": 18,
   "id": "538d24f1-f270-431e-82b0-b0c14d013dc1",
   "metadata": {},
   "outputs": [
    {
     "data": {
      "text/plain": [
       "'Computer science'"
      ]
     },
     "execution_count": 18,
     "metadata": {},
     "output_type": "execute_result"
    }
   ],
   "source": [
    "class qwe :\n",
    "    def __init__(self, price, name):\n",
    "        self.__price = price  # __ makes price variable private \n",
    "        self.name = name\n",
    "x=qwe(8898,\"Computer science\")\n",
    "x.name"
   ]
  },
  {
   "cell_type": "code",
   "execution_count": 24,
   "id": "d548feb4-6b90-4109-8c33-2ecb5fe31ba9",
   "metadata": {},
   "outputs": [
    {
     "data": {
      "text/plain": [
       "898"
      ]
     },
     "execution_count": 24,
     "metadata": {},
     "output_type": "execute_result"
    }
   ],
   "source": [
    "# we can't directly access the price by x.price So, to access the price \n",
    "x._qwe__price"
   ]
  },
  {
   "cell_type": "code",
   "execution_count": 39,
   "id": "2300ba67-6bbd-44d7-86de-0f9a2b7ce338",
   "metadata": {},
   "outputs": [],
   "source": [
    "# suppose we want to access the user for our private variable to access, modify or delete\n",
    "# to give 'access' to user \n",
    "class qwe1:\n",
    "    def __init__(self, price, name):\n",
    "        self.__price = price  # '__x' makes price variable private,  '_x' makes variable protected\n",
    "        self.name = name\n",
    "        \n",
    "    @property  # using Decorator property so that user can access our private variable\n",
    "    def price_access(self):\n",
    "        return self.__price\n",
    "\n",
    "y = qwe1(8898, \"Computer price\")"
   ]
  },
  {
   "cell_type": "code",
   "execution_count": 41,
   "id": "1eda86dc-c115-4925-8ef3-4f007369f4d8",
   "metadata": {},
   "outputs": [
    {
     "data": {
      "text/plain": [
       "8898"
      ]
     },
     "execution_count": 41,
     "metadata": {},
     "output_type": "execute_result"
    }
   ],
   "source": [
    "y.price_access"
   ]
  },
  {
   "cell_type": "code",
   "execution_count": 98,
   "id": "5789532e-40ea-4426-9259-0747f630acb5",
   "metadata": {},
   "outputs": [],
   "source": [
    "# to give access to user to 'modify'\n",
    "\n",
    "class qwe2:\n",
    "    def __init__(self, price, name):\n",
    "        self.__price = price  # __ makes price variable private\n",
    "        self.name = name\n",
    "        \n",
    "    @property  # using Decorator property so that user can access our private variable\n",
    "    def price_access(self):\n",
    "        return self.__price\n",
    "\n",
    "    @price_access.setter  # using Decorator setter property so that user can modify the price\n",
    "    def price_set(self, price):\n",
    "        if price <= 7000:\n",
    "            pass\n",
    "        else:\n",
    "            self.__price=price\n",
    "            \n",
    "z=qwe2(8898, \"Computer science\")\n",
    "# y.price_access\n",
    "z.price_set=9000 # Updating the price"
   ]
  },
  {
   "cell_type": "code",
   "execution_count": 100,
   "id": "923d8319-f62b-4eed-98dd-78267e9baef9",
   "metadata": {},
   "outputs": [
    {
     "data": {
      "text/plain": [
       "9000"
      ]
     },
     "execution_count": 100,
     "metadata": {},
     "output_type": "execute_result"
    }
   ],
   "source": [
    "z.price_access"
   ]
  },
  {
   "cell_type": "code",
   "execution_count": 102,
   "id": "ea22cc6c-1883-4ad9-a5fd-f21b41c9f694",
   "metadata": {},
   "outputs": [],
   "source": [
    "# to give access to user to 'delete'\n",
    "\n",
    "class qwe3:\n",
    "    def __init__(self, price, name):\n",
    "        self.__price = price  # __ makes price variable private\n",
    "        self.name = name\n",
    "        \n",
    "    @property  # using Decorator property so that user can access our private variable\n",
    "    def price_access(self):\n",
    "        return self.__price\n",
    "\n",
    "    @price_access.setter  # using Decorator setter property so that user can modify the price\n",
    "    def price_set(self, price):\n",
    "        if price <= 7000:\n",
    "            pass\n",
    "        else:\n",
    "            self.__price=price\n",
    "\n",
    "    @price_access.deleter # using Decorator delete property so that user can delete the price, \n",
    "    def del_price(self):  # define the function to be deleted\n",
    "        del  self.__price\n",
    "\n",
    "\n",
    "p=qwe3(78821, \"jjjg\")"
   ]
  },
  {
   "cell_type": "code",
   "execution_count": 104,
   "id": "365edd70-72b3-4152-9a22-c146430dcd47",
   "metadata": {},
   "outputs": [
    {
     "data": {
      "text/plain": [
       "78821"
      ]
     },
     "execution_count": 104,
     "metadata": {},
     "output_type": "execute_result"
    }
   ],
   "source": [
    "p.price_access"
   ]
  },
  {
   "cell_type": "code",
   "execution_count": 106,
   "id": "451176d9-9a12-4da7-8162-2fa7f6209451",
   "metadata": {},
   "outputs": [],
   "source": [
    "# to delete \n",
    "del p.del_price"
   ]
  },
  {
   "cell_type": "code",
   "execution_count": 108,
   "id": "664bbeeb-db31-49e8-9d9a-2370b8495026",
   "metadata": {},
   "outputs": [
    {
     "ename": "AttributeError",
     "evalue": "'qwe3' object has no attribute '_qwe3__price'",
     "output_type": "error",
     "traceback": [
      "\u001b[1;31m---------------------------------------------------------------------------\u001b[0m",
      "\u001b[1;31mAttributeError\u001b[0m                            Traceback (most recent call last)",
      "Cell \u001b[1;32mIn[108], line 1\u001b[0m\n\u001b[1;32m----> 1\u001b[0m p\u001b[38;5;241m.\u001b[39mprice_access\n",
      "Cell \u001b[1;32mIn[102], line 10\u001b[0m, in \u001b[0;36mqwe3.price_access\u001b[1;34m(self)\u001b[0m\n\u001b[0;32m      8\u001b[0m \u001b[38;5;129m@property\u001b[39m  \u001b[38;5;66;03m# using Decorator property so that user can access our private variable\u001b[39;00m\n\u001b[0;32m      9\u001b[0m \u001b[38;5;28;01mdef\u001b[39;00m \u001b[38;5;21mprice_access\u001b[39m(\u001b[38;5;28mself\u001b[39m):\n\u001b[1;32m---> 10\u001b[0m     \u001b[38;5;28;01mreturn\u001b[39;00m \u001b[38;5;28mself\u001b[39m\u001b[38;5;241m.\u001b[39m__price\n",
      "\u001b[1;31mAttributeError\u001b[0m: 'qwe3' object has no attribute '_qwe3__price'"
     ]
    }
   ],
   "source": [
    "p.price_access # it will give error as we have deleted the function "
   ]
  },
  {
   "cell_type": "code",
   "execution_count": null,
   "id": "42eb842e-a000-4611-992d-a8dd6623b7ae",
   "metadata": {},
   "outputs": [],
   "source": []
  }
 ],
 "metadata": {
  "kernelspec": {
   "display_name": "Python [conda env:base] *",
   "language": "python",
   "name": "conda-base-py"
  },
  "language_info": {
   "codemirror_mode": {
    "name": "ipython",
    "version": 3
   },
   "file_extension": ".py",
   "mimetype": "text/x-python",
   "name": "python",
   "nbconvert_exporter": "python",
   "pygments_lexer": "ipython3",
   "version": "3.12.7"
  }
 },
 "nbformat": 4,
 "nbformat_minor": 5
}
