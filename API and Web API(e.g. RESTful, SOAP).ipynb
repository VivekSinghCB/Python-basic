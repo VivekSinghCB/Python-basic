{
 "cells": [
  {
   "cell_type": "code",
   "execution_count": null,
   "id": "61fdebca-d054-4c32-9498-fd68509c100a",
   "metadata": {},
   "outputs": [],
   "source": [
    "# Web API- A Web API (Application Programming Interface) is a set of rules that allows different software applications to communicate with each other over the internet.\n",
    " # A special type of API that works over the internet using HTTP/HTTPS, Requires an internet or intranet connection, Uses web-based protocols like HTTP/HTTPS, Usually returns data in JSON or XML; Used in web applications, mobile apps, cloud services \n",
    "  #It enables developers to interact with web services, retrieve or send data, and integrate with other applications\n",
    "  # Allows different applications to interact with each other.\n",
    "  # Enables real-time communication between client and server.\n",
    "  # Helps developers use third-party services like Google Maps, Twitter, etc.\n",
    "  # Facilitates mobile and web app integration with backend services\n",
    "  # Types- RESTful API (Representational State Transfer), SOAP API (Simple Object Access Protocol), GraphQL API, WebSockets API etc.\n"
   ]
  },
  {
   "cell_type": "code",
   "execution_count": 3,
   "id": "ff1404e0-a469-4c51-a78f-568caeb30076",
   "metadata": {},
   "outputs": [],
   "source": [
    "# Difference between API and web API- A set of protocols that allow applications to communicate, Can be local (on the same machine) or remote\n",
    "  # Varies (can use any protocol, e.g., TCP, IPC, HTTP), Can return data in various formats (binary, JSON, XML), Used in operating systems, databases, hardware, etc., Windows API, Java API, File System API\n",
    "  # Acts as a bridge between two different software systems\n",
    "\n",
    "# We use a General API when we need software-to-software communication within the same system (e.g., connecting a mobile app to a database).\n",
    "# We use a Web API when we need remote access over the internet (e.g., fetching live weather data, accessing a cloud-based service).\n",
    "\n",
    "#####All Web APIs are APIs, but not all APIs are Web APIs########"
   ]
  },
  {
   "cell_type": "code",
   "execution_count": null,
   "id": "06e978be-d76a-4d23-b95e-25084905112c",
   "metadata": {},
   "outputs": [],
   "source": [
    "# Web API type example- RESTful API (Representational State Transfer) and SOAP API (Simple Object Access Protocol) Architecture-\n",
    "\n",
    "  #  RESTful API- it is HTTP based architecture- where we use; GET to Read data, POST to Create new data, PUT to Update existing, DELETE to Remove data\n",
    "    # Rest is very simple, scalable, flexible, basic security, best for Web & mobile apps\n",
    " # SOAP API- usually it is XML based architecture, XML uses WSDL- Web Service Description Language where we write everything\n",
    "       # SOAP supports HTTP, SMTP, TCP protocols\n",
    "       # SOAP is slower, high security, less flexible, best for Banking, enterprise apps\n",
    "\n",
    "\n",
    "# REST API Example (Using Flask in Python)\n",
    "from flask import Flask, jsonify, request\n",
    "\n",
    "app = Flask(__name__)\n",
    "\n",
    "# Sample user data\n",
    "users = [\n",
    "    {\"id\": 1, \"name\": \"Vivek\"},\n",
    "    {\"id\": 2, \"name\": \"Bobby\"}\n",
    "]\n",
    "\n",
    "# GET request to fetch all users\n",
    "@app.route('/api/users', methods=['GET'])\n",
    "def get_users():\n",
    "    return jsonify(users)\n",
    "\n",
    "# POST request to add a new user\n",
    "@app.route('/api/users', methods=['POST'])\n",
    "def add_user():\n",
    "    new_user = request.json\n",
    "    users.append(new_user)\n",
    "    return jsonify({\"message\": \"User added successfully\"}), 201\n",
    "\n",
    "# DELETE request to remove a user by ID\n",
    "@app.route('/api/users/<int:user_id>', methods=['DELETE'])\n",
    "def delete_user(user_id):\n",
    "    global users\n",
    "    users = [user for user in users if user[\"id\"] != user_id]\n",
    "    return jsonify({\"message\": \"User deleted successfully\"})\n",
    "\n",
    "if __name__ == '__main__':\n",
    "    app.run(debug=True, port=5001)"
   ]
  },
  {
   "cell_type": "code",
   "execution_count": null,
   "id": "5d1cccf5-4823-4f28-92d6-7464a888c6ca",
   "metadata": {},
   "outputs": [],
   "source": [
    "# SOAP API Example (Using Python & Flask with Zeep)\n",
    "from flask import Flask, request\n",
    "from zeep import Client\n",
    "from lxml import etree\n",
    "\n",
    "app = Flask(__name__)\n",
    "\n",
    "# Sample WSDL (Web Service Definition Language) URL\n",
    "wsdl_url = \"https://www.dataaccess.com/webservicesserver/NumberConversion.wso?WSDL\"\n",
    "\n",
    "# Initialize SOAP client\n",
    "client = Client(wsdl=wsdl_url)\n",
    "\n",
    "@app.route('/convert/number', methods=['POST'])\n",
    "def convert_number():\n",
    "    data = request.get_json()\n",
    "    number = data.get(\"number\", 0)\n",
    "    \n",
    "    # Call SOAP API method\n",
    "    response = client.service.NumberToWords(number)\n",
    "    \n",
    "    # Format response in XML\n",
    "    root = etree.Element(\"Response\")\n",
    "    word_element = etree.SubElement(root, \"Words\")\n",
    "    word_element.text = response\n",
    "    \n",
    "    return etree.tostring(root, pretty_print=True, encoding='utf-8')\n",
    "\n",
    "if __name__ == '__main__':\n",
    "    app.run(debug=True, port=5002)\n"
   ]
  },
  {
   "cell_type": "code",
   "execution_count": null,
   "id": "43661365-06bb-4723-b7da-55e4d1697670",
   "metadata": {},
   "outputs": [],
   "source": []
  },
  {
   "cell_type": "code",
   "execution_count": null,
   "id": "cc5fd205-8b75-4aed-a417-94c1f0f4fc36",
   "metadata": {},
   "outputs": [],
   "source": [
    "###### RESTful(Representational State Transfer) API services #########\n",
    "  # RESTful services, also known as RESTful APIs, are web services that follow the REST architectural style. REST stands for Representational State Transfer, which is a set of principles for building web services that use HTTP (Hypertext Transfer Protocol) as the communication protocol.\n",
    "\n",
    "# RESTful services are based on the following principles:\n",
    " # Client-server architecture: The client and server are separated, allowing them to evolve independently.\n",
    "   # Stateless: Each request sent to the server contains all the information needed to complete the request. The server does not maintain any client context between requests.\n",
    "   # Cacheable: Responses from the server can be cached to improve performance.\n",
    "   # Uniform interface: RESTful services use a uniform interface consisting of resources, HTTP verbs (GET, POST, PUT, DELETE), and hypermedia links.\n",
    "   # Layered system: RESTful services can be composed of multiple layers, allowing for scalability, flexibility, and security\n"
   ]
  },
  {
   "cell_type": "code",
   "execution_count": null,
   "id": "42f96b89-f7ef-444f-8e9b-97b636d6a5d6",
   "metadata": {},
   "outputs": [],
   "source": []
  }
 ],
 "metadata": {
  "kernelspec": {
   "display_name": "Python [conda env:base] *",
   "language": "python",
   "name": "conda-base-py"
  },
  "language_info": {
   "codemirror_mode": {
    "name": "ipython",
    "version": 3
   },
   "file_extension": ".py",
   "mimetype": "text/x-python",
   "name": "python",
   "nbconvert_exporter": "python",
   "pygments_lexer": "ipython3",
   "version": "3.12.7"
  }
 },
 "nbformat": 4,
 "nbformat_minor": 5
}
