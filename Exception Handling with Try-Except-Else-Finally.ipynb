{
 "cells": [
  {
   "cell_type": "code",
   "execution_count": 16,
   "id": "78731c79-5178-488c-bb3c-6674087583ae",
   "metadata": {},
   "outputs": [
    {
     "name": "stdin",
     "output_type": "stream",
     "text": [
      "Enter a number:  4\n"
     ]
    },
    {
     "name": "stdout",
     "output_type": "stream",
     "text": [
      "Result: 25.0\n"
     ]
    }
   ],
   "source": [
    "# Exception Handling with Try-Except- allows a program to handle runtime errors gracefully, preventing it from crashing.\n",
    "  #Python provides the try-except block to catch and manage exceptions\n",
    "\n",
    "    # If the user enters 0, ZeroDivisionError occurs.\n",
    "   # If the user enters \"abc\", ValueError occurs.\n",
    "try:\n",
    "    num = int(input(\"Enter a number: \"))  \n",
    "    result = 100 / num  \n",
    "except ZeroDivisionError:  \n",
    "    print(\"Error: Cannot divide by zero!\")  \n",
    "except ValueError:  \n",
    "    print(\"Error: Invalid input! Please enter a number.\")  \n",
    "else:\n",
    "    print(\"Result:\", result)  # Executes only if no exception occur"
   ]
  },
  {
   "cell_type": "code",
   "execution_count": 18,
   "id": "eca1264b-1287-43ba-822e-23b46c902e10",
   "metadata": {},
   "outputs": [
    {
     "name": "stdin",
     "output_type": "stream",
     "text": [
      "Enter a number:  0\n"
     ]
    },
    {
     "name": "stdout",
     "output_type": "stream",
     "text": [
      "Error: Cannot divide by zero!\n"
     ]
    }
   ],
   "source": [
    "try:\n",
    "    num = int(input(\"Enter a number: \"))  \n",
    "    result = 100 / num  \n",
    "except ZeroDivisionError:  \n",
    "    print(\"Error: Cannot divide by zero!\")  \n",
    "except ValueError:  \n",
    "    print(\"Error: Invalid input! Please enter a number.\")  \n",
    "else:\n",
    "    print(\"Result:\", result)  # Executes only if no exception occur"
   ]
  },
  {
   "cell_type": "code",
   "execution_count": 20,
   "id": "2b34654f-4e98-4b5b-a56c-fa09fac29f1f",
   "metadata": {},
   "outputs": [
    {
     "name": "stdin",
     "output_type": "stream",
     "text": [
      "Enter a number:  shdj\n"
     ]
    },
    {
     "name": "stdout",
     "output_type": "stream",
     "text": [
      "Error: Invalid input! Please enter a number.\n"
     ]
    }
   ],
   "source": [
    "try:\n",
    "    num = int(input(\"Enter a number: \"))  \n",
    "    result = 100 / num  \n",
    "except ZeroDivisionError:  \n",
    "    print(\"Error: Cannot divide by zero!\")  \n",
    "except ValueError:  \n",
    "    print(\"Error: Invalid input! Please enter a number.\")  \n",
    "else:\n",
    "    print(\"Result:\", result)  # Executes only if no exception occur"
   ]
  },
  {
   "cell_type": "code",
   "execution_count": null,
   "id": "76772ed1-85a3-46d3-8208-89e28b26bb61",
   "metadata": {},
   "outputs": [],
   "source": []
  },
  {
   "cell_type": "code",
   "execution_count": 23,
   "id": "0273c971-1047-4c6c-89e9-53b1f028036c",
   "metadata": {},
   "outputs": [
    {
     "ename": "ZeroDivisionError",
     "evalue": "division by zero",
     "output_type": "error",
     "traceback": [
      "\u001b[1;31m---------------------------------------------------------------------------\u001b[0m",
      "\u001b[1;31mZeroDivisionError\u001b[0m                         Traceback (most recent call last)",
      "Cell \u001b[1;32mIn[23], line 2\u001b[0m\n\u001b[0;32m      1\u001b[0m a \u001b[38;5;241m=\u001b[39m \u001b[38;5;241m10\u001b[39m\n\u001b[1;32m----> 2\u001b[0m a\u001b[38;5;241m/\u001b[39m\u001b[38;5;241m0\u001b[39m\n",
      "\u001b[1;31mZeroDivisionError\u001b[0m: division by zero"
     ]
    }
   ],
   "source": [
    "a = 10\n",
    "a/0"
   ]
  },
  {
   "cell_type": "code",
   "execution_count": 25,
   "id": "1cff3f70-014c-4ef1-86c1-6366f3d6c9e2",
   "metadata": {},
   "outputs": [
    {
     "ename": "FileNotFoundError",
     "evalue": "[Errno 2] No such file or directory: 'testtt.txt'",
     "output_type": "error",
     "traceback": [
      "\u001b[1;31m---------------------------------------------------------------------------\u001b[0m",
      "\u001b[1;31mFileNotFoundError\u001b[0m                         Traceback (most recent call last)",
      "Cell \u001b[1;32mIn[25], line 1\u001b[0m\n\u001b[1;32m----> 1\u001b[0m f \u001b[38;5;241m=\u001b[39m \u001b[38;5;28mopen\u001b[39m(\u001b[38;5;124m\"\u001b[39m\u001b[38;5;124mtesttt.txt\u001b[39m\u001b[38;5;124m\"\u001b[39m, \u001b[38;5;124m'\u001b[39m\u001b[38;5;124mr\u001b[39m\u001b[38;5;124m'\u001b[39m)\n\u001b[0;32m      2\u001b[0m \u001b[38;5;28mprint\u001b[39m(\u001b[38;5;124m\"\u001b[39m\u001b[38;5;124mThis is my print\u001b[39m\u001b[38;5;124m\"\u001b[39m)\n",
      "File \u001b[1;32m~\\anaconda3\\Lib\\site-packages\\IPython\\core\\interactiveshell.py:324\u001b[0m, in \u001b[0;36m_modified_open\u001b[1;34m(file, *args, **kwargs)\u001b[0m\n\u001b[0;32m    317\u001b[0m \u001b[38;5;28;01mif\u001b[39;00m file \u001b[38;5;129;01min\u001b[39;00m {\u001b[38;5;241m0\u001b[39m, \u001b[38;5;241m1\u001b[39m, \u001b[38;5;241m2\u001b[39m}:\n\u001b[0;32m    318\u001b[0m     \u001b[38;5;28;01mraise\u001b[39;00m \u001b[38;5;167;01mValueError\u001b[39;00m(\n\u001b[0;32m    319\u001b[0m         \u001b[38;5;124mf\u001b[39m\u001b[38;5;124m\"\u001b[39m\u001b[38;5;124mIPython won\u001b[39m\u001b[38;5;124m'\u001b[39m\u001b[38;5;124mt let you open fd=\u001b[39m\u001b[38;5;132;01m{\u001b[39;00mfile\u001b[38;5;132;01m}\u001b[39;00m\u001b[38;5;124m by default \u001b[39m\u001b[38;5;124m\"\u001b[39m\n\u001b[0;32m    320\u001b[0m         \u001b[38;5;124m\"\u001b[39m\u001b[38;5;124mas it is likely to crash IPython. If you know what you are doing, \u001b[39m\u001b[38;5;124m\"\u001b[39m\n\u001b[0;32m    321\u001b[0m         \u001b[38;5;124m\"\u001b[39m\u001b[38;5;124myou can use builtins\u001b[39m\u001b[38;5;124m'\u001b[39m\u001b[38;5;124m open.\u001b[39m\u001b[38;5;124m\"\u001b[39m\n\u001b[0;32m    322\u001b[0m     )\n\u001b[1;32m--> 324\u001b[0m \u001b[38;5;28;01mreturn\u001b[39;00m io_open(file, \u001b[38;5;241m*\u001b[39margs, \u001b[38;5;241m*\u001b[39m\u001b[38;5;241m*\u001b[39mkwargs)\n",
      "\u001b[1;31mFileNotFoundError\u001b[0m: [Errno 2] No such file or directory: 'testtt.txt'"
     ]
    }
   ],
   "source": [
    "f = open(\"testtt.txt\", 'r')\n",
    "print(\"This is my print\")"
   ]
  },
  {
   "cell_type": "code",
   "execution_count": 47,
   "id": "90dcc3c1-9c90-4d39-acd3-67111baee00e",
   "metadata": {},
   "outputs": [
    {
     "name": "stdout",
     "output_type": "stream",
     "text": [
      "This is my except block [Errno 2] No such file or directory: 'testtt.txt'\n"
     ]
    }
   ],
   "source": [
    "# trying to handle error\n",
    "try: \n",
    "  f = open(\"testtt.txt\", 'r')\n",
    "except Exception as n:  # Catches any exception\n",
    "    print(\"This is my except block\", n)\n",
    "\n",
    "try:\n",
    "  a=4+5\n",
    "except Exception as n:  # Catches any exception\n",
    "    print(\"This is the sum of number-\", a)"
   ]
  },
  {
   "cell_type": "code",
   "execution_count": 5,
   "id": "a0cdce70-67b1-4737-8483-411ce46c758d",
   "metadata": {},
   "outputs": [],
   "source": [
    "# if there will be no error in the try block then it will not go to except block\n",
    "try: \n",
    "  f = open(\"TEST9.txt\", 'w')\n",
    "  f.write(\"Write into my file\")\n",
    "  f.close()\n",
    "\n",
    "except Exception as n:  # Catches any exception\n",
    "    print(\"This is my except block\", n)"
   ]
  },
  {
   "cell_type": "code",
   "execution_count": null,
   "id": "a0573dfc-fef5-4c26-8b45-23ce05ff985e",
   "metadata": {},
   "outputs": [],
   "source": []
  },
  {
   "cell_type": "code",
   "execution_count": 7,
   "id": "9cc69f04-dc9f-4f71-8edb-e3846c066685",
   "metadata": {},
   "outputs": [
    {
     "name": "stdout",
     "output_type": "stream",
     "text": [
      "Try block has been executed successfully without any error\n"
     ]
    }
   ],
   "source": [
    "# else block- runs only when try block has been executed successfully without any error\n",
    "try: \n",
    "  f = open(\"TEST5.txt\", 'w')\n",
    "  f.write(\"Write into my file\")\n",
    "  f.close()\n",
    "\n",
    "except Exception as n:  # Catches any exception\n",
    "    print(\"This is my except block\", n)\n",
    "\n",
    "else:\n",
    "    f.close()\n",
    "    print(\"Try block has been executed successfully without any error\")"
   ]
  },
  {
   "cell_type": "code",
   "execution_count": 11,
   "id": "a4c883ea-1152-4241-b5ef-90eb8be0c3e2",
   "metadata": {},
   "outputs": [
    {
     "name": "stdout",
     "output_type": "stream",
     "text": [
      "This is my except block [Errno 2] No such file or directory: 'TEST6.txt'\n"
     ]
    }
   ],
   "source": [
    "try: \n",
    "  f = open(\"TEST6.txt\", 'r')\n",
    "  f.write(\"Write into my file\")\n",
    "  f.close()\n",
    "\n",
    "except Exception as n:  # Catches any exception\n",
    "    print(\"This is my except block\", n)\n",
    "\n",
    "else:\n",
    "    f.close()\n",
    "    print(\"Try block has been executed successfully without any error\") # If try block gives error then it will go to except block\n"
   ]
  },
  {
   "cell_type": "code",
   "execution_count": null,
   "id": "d234d24d-566d-4fc6-ace1-95f5a4f9ed75",
   "metadata": {},
   "outputs": [],
   "source": []
  },
  {
   "cell_type": "code",
   "execution_count": 14,
   "id": "6b581b9c-802f-409e-bfcc-7f22cfb99877",
   "metadata": {},
   "outputs": [
    {
     "name": "stdout",
     "output_type": "stream",
     "text": [
      "Finally will execute itself in any situation\n"
     ]
    }
   ],
   "source": [
    "# finally block\n",
    "try:\n",
    "  f=open(\"dgu.txt\", 'w')\n",
    "  f.write(\"Write something\")\n",
    "finally:\n",
    "  print(\"Finally will execute itself in any situation\")\n"
   ]
  },
  {
   "cell_type": "code",
   "execution_count": 20,
   "id": "e211c42b-7fe4-498c-af7d-e6f95f1a5dfe",
   "metadata": {},
   "outputs": [
    {
     "name": "stdout",
     "output_type": "stream",
     "text": [
      "Finally will execute itself in any situation\n"
     ]
    },
    {
     "ename": "FileNotFoundError",
     "evalue": "[Errno 2] No such file or directory: 'gyhu.txt'",
     "output_type": "error",
     "traceback": [
      "\u001b[1;31m---------------------------------------------------------------------------\u001b[0m",
      "\u001b[1;31mFileNotFoundError\u001b[0m                         Traceback (most recent call last)",
      "Cell \u001b[1;32mIn[20], line 3\u001b[0m\n\u001b[0;32m      1\u001b[0m \u001b[38;5;66;03m# open file in r mode and write\u001b[39;00m\n\u001b[0;32m      2\u001b[0m \u001b[38;5;28;01mtry\u001b[39;00m :\n\u001b[1;32m----> 3\u001b[0m  f\u001b[38;5;241m=\u001b[39m\u001b[38;5;28mopen\u001b[39m(\u001b[38;5;124m\"\u001b[39m\u001b[38;5;124mgyhu.txt\u001b[39m\u001b[38;5;124m\"\u001b[39m, \u001b[38;5;124m'\u001b[39m\u001b[38;5;124mr\u001b[39m\u001b[38;5;124m'\u001b[39m)\n\u001b[0;32m      4\u001b[0m  f\u001b[38;5;241m.\u001b[39mwrite(\u001b[38;5;124m\"\u001b[39m\u001b[38;5;124mWrite something\u001b[39m\u001b[38;5;124m\"\u001b[39m)\n\u001b[0;32m      5\u001b[0m \u001b[38;5;28;01mfinally\u001b[39;00m:\n",
      "File \u001b[1;32m~\\anaconda3\\Lib\\site-packages\\IPython\\core\\interactiveshell.py:324\u001b[0m, in \u001b[0;36m_modified_open\u001b[1;34m(file, *args, **kwargs)\u001b[0m\n\u001b[0;32m    317\u001b[0m \u001b[38;5;28;01mif\u001b[39;00m file \u001b[38;5;129;01min\u001b[39;00m {\u001b[38;5;241m0\u001b[39m, \u001b[38;5;241m1\u001b[39m, \u001b[38;5;241m2\u001b[39m}:\n\u001b[0;32m    318\u001b[0m     \u001b[38;5;28;01mraise\u001b[39;00m \u001b[38;5;167;01mValueError\u001b[39;00m(\n\u001b[0;32m    319\u001b[0m         \u001b[38;5;124mf\u001b[39m\u001b[38;5;124m\"\u001b[39m\u001b[38;5;124mIPython won\u001b[39m\u001b[38;5;124m'\u001b[39m\u001b[38;5;124mt let you open fd=\u001b[39m\u001b[38;5;132;01m{\u001b[39;00mfile\u001b[38;5;132;01m}\u001b[39;00m\u001b[38;5;124m by default \u001b[39m\u001b[38;5;124m\"\u001b[39m\n\u001b[0;32m    320\u001b[0m         \u001b[38;5;124m\"\u001b[39m\u001b[38;5;124mas it is likely to crash IPython. If you know what you are doing, \u001b[39m\u001b[38;5;124m\"\u001b[39m\n\u001b[0;32m    321\u001b[0m         \u001b[38;5;124m\"\u001b[39m\u001b[38;5;124myou can use builtins\u001b[39m\u001b[38;5;124m'\u001b[39m\u001b[38;5;124m open.\u001b[39m\u001b[38;5;124m\"\u001b[39m\n\u001b[0;32m    322\u001b[0m     )\n\u001b[1;32m--> 324\u001b[0m \u001b[38;5;28;01mreturn\u001b[39;00m io_open(file, \u001b[38;5;241m*\u001b[39margs, \u001b[38;5;241m*\u001b[39m\u001b[38;5;241m*\u001b[39mkwargs)\n",
      "\u001b[1;31mFileNotFoundError\u001b[0m: [Errno 2] No such file or directory: 'gyhu.txt'"
     ]
    }
   ],
   "source": [
    "  # open file in r mode and write\n",
    "try :\n",
    "   f=open(\"gyhu.txt\", 'r')\n",
    "   f.write(\"Write something\")\n",
    "finally:\n",
    "   print(\"Finally will execute itself in any situation\") # after error also finally block will be executed"
   ]
  },
  {
   "cell_type": "code",
   "execution_count": null,
   "id": "c259cecb-6859-4bbf-ab18-c601f38dcb8b",
   "metadata": {},
   "outputs": [],
   "source": []
  }
 ],
 "metadata": {
  "kernelspec": {
   "display_name": "Python [conda env:base] *",
   "language": "python",
   "name": "conda-base-py"
  },
  "language_info": {
   "codemirror_mode": {
    "name": "ipython",
    "version": 3
   },
   "file_extension": ".py",
   "mimetype": "text/x-python",
   "name": "python",
   "nbconvert_exporter": "python",
   "pygments_lexer": "ipython3",
   "version": "3.12.7"
  }
 },
 "nbformat": 4,
 "nbformat_minor": 5
}
