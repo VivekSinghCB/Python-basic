{
 "cells": [
  {
   "cell_type": "code",
   "execution_count": 2,
   "id": "9ba8dc56-54bd-4d66-a72b-613f92971b3a",
   "metadata": {},
   "outputs": [],
   "source": [
    "# While loop- check condition, if true then only it be executed for the next execution till the condition doesn't becomes False"
   ]
  },
  {
   "cell_type": "code",
   "execution_count": 4,
   "id": "9f59afa0-a6a0-482a-9f82-81bbcaa39d98",
   "metadata": {},
   "outputs": [
    {
     "name": "stdout",
     "output_type": "stream",
     "text": [
      "1\n",
      "2\n",
      "3\n",
      "4\n",
      "5\n",
      "6\n",
      "7\n",
      "8\n",
      "9\n",
      "10\n"
     ]
    }
   ],
   "source": [
    "a=1   \n",
    "while a<= 10:\n",
    "    print(a)\n",
    "    a=a+1"
   ]
  },
  {
   "cell_type": "code",
   "execution_count": 6,
   "id": "8bcd378b-ac9f-4eab-9dea-d5b3cc0c936c",
   "metadata": {},
   "outputs": [
    {
     "name": "stdin",
     "output_type": "stream",
     "text": [
      "Enter your limit- 10\n"
     ]
    },
    {
     "data": {
      "text/plain": [
       "55"
      ]
     },
     "execution_count": 6,
     "metadata": {},
     "output_type": "execute_result"
    }
   ],
   "source": [
    "# sum up the number till some point\n",
    "n=int(input(\"Enter your limit-\"))\n",
    "start_point=0   # Initialize start_point to 0\n",
    "counter=1       # Initialize counter to 1\n",
    "\n",
    "while counter <= n:                  # Loop runs until counter exceeds n i.e. input given by the user\n",
    "    start_point=start_point+counter  # Add counter to start_point\n",
    "    counter=counter+1                # Increment counter by 1\n",
    "start_point"
   ]
  },
  {
   "cell_type": "code",
   "execution_count": 14,
   "id": "470c2e38-8c22-4fcf-8c5d-785186fb9b9c",
   "metadata": {},
   "outputs": [
    {
     "name": "stdin",
     "output_type": "stream",
     "text": [
      "Enter your number= 3\n"
     ]
    },
    {
     "data": {
      "text/plain": [
       "6"
      ]
     },
     "execution_count": 14,
     "metadata": {},
     "output_type": "execute_result"
    }
   ],
   "source": [
    "# factorial of a given number\n",
    "num=int(input(\"Enter your number=\"))\n",
    "factorial=1    # as we calulate the fact. from 1 not for 0 or -ve values\n",
    "while num>0:   # the given num. should be > 0\n",
    " factorial=factorial*num # e.g. 3 is given, 1*3\n",
    " num=num-1               # 3-1=2, again it will go to top.....till this is > 0\n",
    "factorial"
   ]
  },
  {
   "cell_type": "code",
   "execution_count": 18,
   "id": "26e7b86c-0c42-4162-ac39-c1a7576a4dc5",
   "metadata": {},
   "outputs": [
    {
     "name": "stdin",
     "output_type": "stream",
     "text": [
      "Enter num= 10\n"
     ]
    },
    {
     "name": "stdout",
     "output_type": "stream",
     "text": [
      "0\n",
      "1\n",
      "1\n",
      "2\n",
      "3\n",
      "5\n",
      "8\n",
      "13\n",
      "21\n",
      "34\n"
     ]
    }
   ],
   "source": [
    "# Finonacci series- next number is the summation of the previous two numbers 0,1(0+1),2,3,5.......\n",
    "fb=int(input(\"Enter num=\"))\n",
    "a,b=0,1             # declaring 2 variables together, as we have to tell the starting point for fino. series\n",
    "counter=0           # declaring counter=0\n",
    "while counter < fb: # e.g. 10 is given by the user, 0 < 10 , true\n",
    "    print(a)\n",
    "    c=a+b  #c=0+1=1\n",
    "    a=b    #a=b=1\n",
    "    b=c    #b=c=1\n",
    "    counter=counter+1 #0+1=1 now it will go to check either 1<input from user e.g.10, if True it will execute\n",
    "                      # now a has became 1, agin the above process will be repeated till 1"
   ]
  },
  {
   "cell_type": "code",
   "execution_count": 25,
   "id": "eb563183-6cc3-43de-9bfe-ec43e49baade",
   "metadata": {},
   "outputs": [
    {
     "name": "stdout",
     "output_type": "stream",
     "text": [
      "0\n",
      "1\n",
      "1\n",
      "2\n",
      "3\n",
      "5\n",
      "8\n",
      "13\n",
      "21\n",
      "34\n"
     ]
    }
   ],
   "source": [
    "# trying with for loop\n",
    "a,b=0,1\n",
    "for i in range(10):\n",
    "     print(a)\n",
    "     c=a+b  #c=0+1=1\n",
    "     a=b    #a=b=1\n",
    "     b=c    #b=c=1"
   ]
  },
  {
   "cell_type": "code",
   "execution_count": 4,
   "id": "d43fa32d-2169-4af8-9ef8-04fb9e586596",
   "metadata": {},
   "outputs": [
    {
     "name": "stdin",
     "output_type": "stream",
     "text": [
      "Enter string= hello\n"
     ]
    },
    {
     "name": "stdout",
     "output_type": "stream",
     "text": [
      "olleh\n"
     ]
    }
   ],
   "source": [
    "# reverse string using while loop\n",
    "word = input(\"Enter string=\")  # Take user input\n",
    "reverse = \"\"  # Initialize an empty string to store the reversed result\n",
    "length = len(word)  # Get the length of the input string\n",
    "\n",
    "while length > 0:  # Loop runs until length becomes 0\n",
    "    reverse = reverse + word[length - 1]  # Append the last character of 'w' to 'reverse'\n",
    "    length = length - 1  # Decrease 'length' by 1\n",
    "\n",
    "print(reverse)  # Print the reversed string"
   ]
  },
  {
   "cell_type": "code",
   "execution_count": 16,
   "id": "6af9f252-1314-40cf-8a67-ce330effafbe",
   "metadata": {},
   "outputs": [
    {
     "name": "stdin",
     "output_type": "stream",
     "text": [
      "Enter your number= 9\n"
     ]
    },
    {
     "name": "stdout",
     "output_type": "stream",
     "text": [
      "9 * 1 = 9\n",
      "9 * 2 = 18\n",
      "9 * 3 = 27\n",
      "9 * 4 = 36\n",
      "9 * 5 = 45\n",
      "9 * 6 = 54\n",
      "9 * 7 = 63\n",
      "9 * 8 = 72\n",
      "9 * 9 = 81\n",
      "9 * 10 = 90\n"
     ]
    }
   ],
   "source": [
    "# print table of given number using while loop\n",
    "n = int(input(\"Enter your number=\"))  #Take user input and convert it to an integer\n",
    "i = 1  # Initialize counter `i` to 1\n",
    "\n",
    "while i <= 10:  #  Run loop from 1 to 10 as table goes upto n*10 only\n",
    "    result = n * i  # : Multiply `n` with `i`\n",
    "    print(n, \"*\", i, \"=\", result)  #  Print the multiplication result in the given format\n",
    "    i = i + 1  #  Increment `i` by 1"
   ]
  },
  {
   "cell_type": "code",
   "execution_count": 32,
   "id": "450aafbf-87fe-4555-9a4c-fe46303215a1",
   "metadata": {},
   "outputs": [
    {
     "name": "stdout",
     "output_type": "stream",
     "text": [
      "1\n",
      "2\n",
      "3\n",
      "4\n",
      "This will be executed once your while loop will complete it successfully\n"
     ]
    }
   ],
   "source": [
    "# using else with while loop\n",
    "m = 5  # Set limit\n",
    "i = 1  # Initialize counter\n",
    "\n",
    "while i < m:  # Loop will run while i is less than m\n",
    "    print(i)  # Print current value of i\n",
    "    i = i + 1  # Increment i by 1 in each iteration\n",
    "\n",
    "else:  \n",
    "    print(\"This will be executed once your while loop will complete it successfully\")"
   ]
  },
  {
   "cell_type": "code",
   "execution_count": 34,
   "id": "fa930fcd-e999-42c7-8dcb-a9e1fd47f905",
   "metadata": {},
   "outputs": [
    {
     "name": "stdout",
     "output_type": "stream",
     "text": [
      "1\n",
      "2\n",
      "3\n"
     ]
    }
   ],
   "source": [
    "m=5\n",
    "i=1\n",
    "while i<m:\n",
    "    print(i)\n",
    "    if i==3:\n",
    "     break # if above condition is satisfied then it will break \n",
    "    i=i+1\n",
    "else:\n",
    "    print(\"This will be executed once your while loop will complete it successfully\")"
   ]
  },
  {
   "cell_type": "code",
   "execution_count": null,
   "id": "941c8045-28e4-4c65-a71e-a38476bf3f96",
   "metadata": {},
   "outputs": [],
   "source": []
  }
 ],
 "metadata": {
  "kernelspec": {
   "display_name": "Python [conda env:base] *",
   "language": "python",
   "name": "conda-base-py"
  },
  "language_info": {
   "codemirror_mode": {
    "name": "ipython",
    "version": 3
   },
   "file_extension": ".py",
   "mimetype": "text/x-python",
   "name": "python",
   "nbconvert_exporter": "python",
   "pygments_lexer": "ipython3",
   "version": "3.12.7"
  }
 },
 "nbformat": 4,
 "nbformat_minor": 5
}
