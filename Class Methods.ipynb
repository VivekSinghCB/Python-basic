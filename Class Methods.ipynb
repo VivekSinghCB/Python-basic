{
 "cells": [
  {
   "cell_type": "code",
   "execution_count": 3,
   "id": "f2ce634e-7520-455e-8a96-d29769223d61",
   "metadata": {},
   "outputs": [],
   "source": [
    "# Class methods- method that belongs to the class rather than an instance of the class. \n",
    "  #It is used when we need to modify or access class-level data instead of instance-level data\n",
    "  # Defined Using @classmethod Decorator\n",
    "\n",
    "# usually\n",
    "class sub:\n",
    "    def __init__(self, name, email):\n",
    "        self.name=name\n",
    "        self.email=email\n",
    "    def stud_detail(self):\n",
    "        print(self.name, self.email)\n",
    "s=sub(\"viv\", \"hdhjj@gmail.com\")"
   ]
  },
  {
   "cell_type": "code",
   "execution_count": 7,
   "id": "075464e2-4295-4c52-a006-d229a8093a1b",
   "metadata": {},
   "outputs": [
    {
     "data": {
      "text/plain": [
       "'viv'"
      ]
     },
     "execution_count": 7,
     "metadata": {},
     "output_type": "execute_result"
    }
   ],
   "source": [
    "s.name"
   ]
  },
  {
   "cell_type": "code",
   "execution_count": 9,
   "id": "3d856ce0-31e0-43c1-92b9-6d182abcc025",
   "metadata": {},
   "outputs": [
    {
     "data": {
      "text/plain": [
       "'hdhjj@gmail.com'"
      ]
     },
     "execution_count": 9,
     "metadata": {},
     "output_type": "execute_result"
    }
   ],
   "source": [
    "s.email"
   ]
  },
  {
   "cell_type": "code",
   "execution_count": 11,
   "id": "1d4370dd-c4fc-46ca-a5ef-4455f1706c89",
   "metadata": {},
   "outputs": [
    {
     "name": "stdout",
     "output_type": "stream",
     "text": [
      "viv hdhjj@gmail.com\n"
     ]
    }
   ],
   "source": [
    "s.stud_detail()"
   ]
  },
  {
   "cell_type": "code",
   "execution_count": 49,
   "id": "ecae3c50-b55b-4992-8e3a-024202b43a26",
   "metadata": {},
   "outputs": [],
   "source": [
    "# different approach\n",
    "class sub1:  \n",
    "    \n",
    "    def __init__(self, name, email):  # Constructor (Instance Method) to initialize object attributes\n",
    "        self.name = name  # Assigning `name` to the instance\n",
    "        self.email = email  # Assigning `email` to the instance\n",
    "\n",
    "    # Class method to create an instance of the class, IT OVERLOADS __init__\n",
    "    @classmethod\n",
    "    def detail(cls, name, email):\n",
    "        return cls(name, email)  # Returns an instance of `sub1` with given attributes\n",
    "\n",
    "    # Instance method to print student details\n",
    "    def stud_detail(self):\n",
    "        print(self.name, self.email)  # Prints `name` and `email` of the instance\n"
   ]
  },
  {
   "cell_type": "code",
   "execution_count": 51,
   "id": "08d520eb-87a0-4b99-9574-9de500953890",
   "metadata": {},
   "outputs": [
    {
     "data": {
      "text/plain": [
       "<__main__.sub1 at 0x1849a73e840>"
      ]
     },
     "execution_count": 51,
     "metadata": {},
     "output_type": "execute_result"
    }
   ],
   "source": [
    "sub1.detail( \"bahii\", \"ejjek@gmail.com\") # Calling the class method directly (but not storing the instance)"
   ]
  },
  {
   "cell_type": "code",
   "execution_count": 53,
   "id": "5bfdc88d-79ce-46da-b2e3-fbcc9ac9e807",
   "metadata": {},
   "outputs": [],
   "source": [
    "su=sub1.detail( \"bahii\", \"ejjek@gmail.com\") # Creating an instance using the class method"
   ]
  },
  {
   "cell_type": "code",
   "execution_count": 39,
   "id": "34342362-5c9d-4e35-be59-f4286f012f48",
   "metadata": {},
   "outputs": [
    {
     "data": {
      "text/plain": [
       "'bahii'"
      ]
     },
     "execution_count": 39,
     "metadata": {},
     "output_type": "execute_result"
    }
   ],
   "source": [
    "su.name # Accessing and printing the `name` attribute of the instance `su`"
   ]
  },
  {
   "cell_type": "code",
   "execution_count": 41,
   "id": "6b0cdc08-a018-41c5-85b6-31f5731574ee",
   "metadata": {},
   "outputs": [
    {
     "data": {
      "text/plain": [
       "'ejjek@gmail.com'"
      ]
     },
     "execution_count": 41,
     "metadata": {},
     "output_type": "execute_result"
    }
   ],
   "source": [
    "su.email"
   ]
  },
  {
   "cell_type": "code",
   "execution_count": 55,
   "id": "79f8a23a-474c-4663-b586-221207cd814f",
   "metadata": {},
   "outputs": [
    {
     "name": "stdout",
     "output_type": "stream",
     "text": [
      "bahii ejjek@gmail.com\n"
     ]
    }
   ],
   "source": [
    "su.stud_detail()"
   ]
  },
  {
   "cell_type": "code",
   "execution_count": 66,
   "id": "2c6d9ce8-eda8-4cb0-9ed5-4457970f1259",
   "metadata": {},
   "outputs": [],
   "source": [
    "class sub2:\n",
    "\n",
    "    mob_num = 94828282  # class variable\n",
    "    \n",
    "    def __init__(self, name, email):\n",
    "        self.name=name\n",
    "        self.email=email\n",
    "        \n",
    "    @classmethod   \n",
    "    def change_nu(cls, mobile):\n",
    "        sub2.mob_num=mobile\n",
    "\n",
    "    @classmethod\n",
    "    def detail(cls, name, email):\n",
    "        return cls(name, email)\n",
    "        \n",
    "    def stud_detail(self):\n",
    "        print(self.name, self.email)"
   ]
  },
  {
   "cell_type": "code",
   "execution_count": 61,
   "id": "3fbbd44b-d9bc-4bb4-b177-bf5f9a09d5f0",
   "metadata": {},
   "outputs": [
    {
     "data": {
      "text/plain": [
       "94828282"
      ]
     },
     "execution_count": 61,
     "metadata": {},
     "output_type": "execute_result"
    }
   ],
   "source": [
    "# accessing class variable\n",
    "sub2.mob_num"
   ]
  },
  {
   "cell_type": "code",
   "execution_count": 68,
   "id": "a3654b8d-9dc8-40ea-a27a-622186b0800a",
   "metadata": {},
   "outputs": [
    {
     "data": {
      "text/plain": [
       "9958845"
      ]
     },
     "execution_count": 68,
     "metadata": {},
     "output_type": "execute_result"
    }
   ],
   "source": [
    "# access even inside the class method, change the mob. number\n",
    "sub2.change_nu(9958845)\n",
    "sub2.mob_num"
   ]
  },
  {
   "cell_type": "code",
   "execution_count": 70,
   "id": "d6147329-fec3-400e-83cb-297a9b941b58",
   "metadata": {},
   "outputs": [],
   "source": [
    "# adding external function as a part of class method\n",
    "class sub3:\n",
    "\n",
    "    mob_num = 94828282  # class variable\n",
    "    \n",
    "    def __init__(self, name, email):\n",
    "        self.name=name\n",
    "        self.email=email\n",
    "        \n",
    "    @classmethod   \n",
    "    def change_nu(cls, mobile):\n",
    "        sub2.mob_num=mobile\n",
    "\n",
    "    @classmethod\n",
    "    def detail(cls, name, email):\n",
    "        return cls(name, email)\n",
    "        \n",
    "    def stud_detail(self):\n",
    "        print(self.name, self.email) "
   ]
  },
  {
   "cell_type": "code",
   "execution_count": 86,
   "id": "2ed2cf1c-0772-4499-a98e-38e42076ee01",
   "metadata": {},
   "outputs": [
    {
     "name": "stdout",
     "output_type": "stream",
     "text": [
      "Course name is data science master\n"
     ]
    }
   ],
   "source": [
    "def co_det(cls, co_name):  # external function to be included\n",
    "    print(\"Course name is\", co_name)\n",
    "sub3.co_det = classmethod(co_det)\n",
    "\n",
    "sub3.co_det (\"data science master\")"
   ]
  },
  {
   "cell_type": "code",
   "execution_count": 96,
   "id": "a529eee1-b84d-41c6-8b93-81fda942b8ec",
   "metadata": {},
   "outputs": [
    {
     "name": "stdout",
     "output_type": "stream",
     "text": [
      "['bhola', 'nggok', 'abhi']\n"
     ]
    }
   ],
   "source": [
    "def mentor(cls, list_mentor):\n",
    "    print(list_mentor)\n",
    "sub3.mentor = classmethod(mentor)\n",
    "sub3.mentor ([\"bhola\" , \"nggok\" , \"abhi\"])"
   ]
  },
  {
   "cell_type": "code",
   "execution_count": 98,
   "id": "de8967be-3b78-48dc-a0f9-4513dcbb435e",
   "metadata": {},
   "outputs": [],
   "source": [
    "# we want to delete/ deactivate a function inside sub4 class e.g. change_nu\n",
    "class sub4:\n",
    "\n",
    "    mob_num = 94828282  # class variable\n",
    "    \n",
    "    def __init__(self, name, email):\n",
    "        self.name=name\n",
    "        self.email=email\n",
    "        \n",
    "    @classmethod   \n",
    "    def change_nu(cls, mobile):\n",
    "        sub2.mob_num=mobile\n",
    "\n",
    "    @classmethod\n",
    "    def detail(cls, name, email):\n",
    "        return cls(name, email)\n",
    "        \n",
    "    def stud_detail(self):\n",
    "        print(self.name, self.email) "
   ]
  },
  {
   "cell_type": "code",
   "execution_count": 102,
   "id": "edfc16f4-47ff-4df7-b37f-0752fb2e15d6",
   "metadata": {},
   "outputs": [],
   "source": [
    "del sub4.change_nu # using 'del' (we can also use 'delattr') to delete a function"
   ]
  },
  {
   "cell_type": "code",
   "execution_count": 106,
   "id": "f4cf43e2-4b29-4414-ba9c-b0e5a9f1e19a",
   "metadata": {},
   "outputs": [
    {
     "ename": "AttributeError",
     "evalue": "type object 'sub4' has no attribute 'change_nu'",
     "output_type": "error",
     "traceback": [
      "\u001b[1;31m---------------------------------------------------------------------------\u001b[0m",
      "\u001b[1;31mAttributeError\u001b[0m                            Traceback (most recent call last)",
      "Cell \u001b[1;32mIn[106], line 1\u001b[0m\n\u001b[1;32m----> 1\u001b[0m sub4\u001b[38;5;241m.\u001b[39mchange_nu(\u001b[38;5;241m878787\u001b[39m)\n",
      "\u001b[1;31mAttributeError\u001b[0m: type object 'sub4' has no attribute 'change_nu'"
     ]
    }
   ],
   "source": [
    "sub4.change_nu(878787) # checking either our function got deleted or not, if yes, it will give error"
   ]
  },
  {
   "cell_type": "code",
   "execution_count": null,
   "id": "3d070b3b-5fe9-4d2e-b2e3-d025ff7b7937",
   "metadata": {},
   "outputs": [],
   "source": []
  }
 ],
 "metadata": {
  "kernelspec": {
   "display_name": "Python [conda env:base] *",
   "language": "python",
   "name": "conda-base-py"
  },
  "language_info": {
   "codemirror_mode": {
    "name": "ipython",
    "version": 3
   },
   "file_extension": ".py",
   "mimetype": "text/x-python",
   "name": "python",
   "nbconvert_exporter": "python",
   "pygments_lexer": "ipython3",
   "version": "3.12.7"
  }
 },
 "nbformat": 4,
 "nbformat_minor": 5
}
