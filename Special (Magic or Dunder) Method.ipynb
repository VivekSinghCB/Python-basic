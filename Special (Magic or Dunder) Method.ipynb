{
 "cells": [
  {
   "cell_type": "code",
   "execution_count": 2,
   "id": "b7e73982-8b2f-4d20-9c49-9c0b012f70e4",
   "metadata": {},
   "outputs": [
    {
     "name": "stdout",
     "output_type": "stream",
     "text": [
      "Person(Name: Ram, Age: 25)\n"
     ]
    }
   ],
   "source": [
    "# Special [Magic or Dunder (Double underscore)] Method- built-in Python methods that have double underscores (__) before and after their names (e.g., __init__, __str__)\n",
    "# These methods allow objects to interact with Python's built-in functions and operators in a custom way\n",
    "\n",
    "class Person:\n",
    "    def __init__(self, name, age):  # Constructor method, initializes an object with name and age\n",
    "        self.name = name  \n",
    "        self.age = age  \n",
    "        \n",
    "    def __str__(self):  # Special method to return a human-readable string representation of the object\n",
    "        return f\"Person(Name: {self.name}, Age: {self.age})\"  # Returns a formatted string\n",
    "\n",
    "# Creating an instance of the Person class\n",
    "p = Person(\"Ram\", 25)\n",
    "\n",
    "# Printing the object, which automatically calls the __str__() method\n",
    "print(p) "
   ]
  },
  {
   "cell_type": "code",
   "execution_count": 4,
   "id": "86a4d7fd-8299-4f11-8087-86669fcdd597",
   "metadata": {},
   "outputs": [
    {
     "data": {
      "text/plain": [
       "['__abs__',\n",
       " '__add__',\n",
       " '__and__',\n",
       " '__bool__',\n",
       " '__ceil__',\n",
       " '__class__',\n",
       " '__delattr__',\n",
       " '__dir__',\n",
       " '__divmod__',\n",
       " '__doc__',\n",
       " '__eq__',\n",
       " '__float__',\n",
       " '__floor__',\n",
       " '__floordiv__',\n",
       " '__format__',\n",
       " '__ge__',\n",
       " '__getattribute__',\n",
       " '__getnewargs__',\n",
       " '__getstate__',\n",
       " '__gt__',\n",
       " '__hash__',\n",
       " '__index__',\n",
       " '__init__',\n",
       " '__init_subclass__',\n",
       " '__int__',\n",
       " '__invert__',\n",
       " '__le__',\n",
       " '__lshift__',\n",
       " '__lt__',\n",
       " '__mod__',\n",
       " '__mul__',\n",
       " '__ne__',\n",
       " '__neg__',\n",
       " '__new__',\n",
       " '__or__',\n",
       " '__pos__',\n",
       " '__pow__',\n",
       " '__radd__',\n",
       " '__rand__',\n",
       " '__rdivmod__',\n",
       " '__reduce__',\n",
       " '__reduce_ex__',\n",
       " '__repr__',\n",
       " '__rfloordiv__',\n",
       " '__rlshift__',\n",
       " '__rmod__',\n",
       " '__rmul__',\n",
       " '__ror__',\n",
       " '__round__',\n",
       " '__rpow__',\n",
       " '__rrshift__',\n",
       " '__rshift__',\n",
       " '__rsub__',\n",
       " '__rtruediv__',\n",
       " '__rxor__',\n",
       " '__setattr__',\n",
       " '__sizeof__',\n",
       " '__str__',\n",
       " '__sub__',\n",
       " '__subclasshook__',\n",
       " '__truediv__',\n",
       " '__trunc__',\n",
       " '__xor__',\n",
       " 'as_integer_ratio',\n",
       " 'bit_count',\n",
       " 'bit_length',\n",
       " 'conjugate',\n",
       " 'denominator',\n",
       " 'from_bytes',\n",
       " 'imag',\n",
       " 'is_integer',\n",
       " 'numerator',\n",
       " 'real',\n",
       " 'to_bytes']"
      ]
     },
     "execution_count": 4,
     "metadata": {},
     "output_type": "execute_result"
    }
   ],
   "source": [
    "# Function available for int\n",
    "dir(int)"
   ]
  },
  {
   "cell_type": "code",
   "execution_count": 6,
   "id": "b96e4438-c736-45be-b0e3-a7a1de3790b8",
   "metadata": {},
   "outputs": [
    {
     "data": {
      "text/plain": [
       "['__add__',\n",
       " '__class__',\n",
       " '__contains__',\n",
       " '__delattr__',\n",
       " '__dir__',\n",
       " '__doc__',\n",
       " '__eq__',\n",
       " '__format__',\n",
       " '__ge__',\n",
       " '__getattribute__',\n",
       " '__getitem__',\n",
       " '__getnewargs__',\n",
       " '__getstate__',\n",
       " '__gt__',\n",
       " '__hash__',\n",
       " '__init__',\n",
       " '__init_subclass__',\n",
       " '__iter__',\n",
       " '__le__',\n",
       " '__len__',\n",
       " '__lt__',\n",
       " '__mod__',\n",
       " '__mul__',\n",
       " '__ne__',\n",
       " '__new__',\n",
       " '__reduce__',\n",
       " '__reduce_ex__',\n",
       " '__repr__',\n",
       " '__rmod__',\n",
       " '__rmul__',\n",
       " '__setattr__',\n",
       " '__sizeof__',\n",
       " '__str__',\n",
       " '__subclasshook__',\n",
       " 'capitalize',\n",
       " 'casefold',\n",
       " 'center',\n",
       " 'count',\n",
       " 'encode',\n",
       " 'endswith',\n",
       " 'expandtabs',\n",
       " 'find',\n",
       " 'format',\n",
       " 'format_map',\n",
       " 'index',\n",
       " 'isalnum',\n",
       " 'isalpha',\n",
       " 'isascii',\n",
       " 'isdecimal',\n",
       " 'isdigit',\n",
       " 'isidentifier',\n",
       " 'islower',\n",
       " 'isnumeric',\n",
       " 'isprintable',\n",
       " 'isspace',\n",
       " 'istitle',\n",
       " 'isupper',\n",
       " 'join',\n",
       " 'ljust',\n",
       " 'lower',\n",
       " 'lstrip',\n",
       " 'maketrans',\n",
       " 'partition',\n",
       " 'removeprefix',\n",
       " 'removesuffix',\n",
       " 'replace',\n",
       " 'rfind',\n",
       " 'rindex',\n",
       " 'rjust',\n",
       " 'rpartition',\n",
       " 'rsplit',\n",
       " 'rstrip',\n",
       " 'split',\n",
       " 'splitlines',\n",
       " 'startswith',\n",
       " 'strip',\n",
       " 'swapcase',\n",
       " 'title',\n",
       " 'translate',\n",
       " 'upper',\n",
       " 'zfill']"
      ]
     },
     "execution_count": 6,
     "metadata": {},
     "output_type": "execute_result"
    }
   ],
   "source": [
    "dir(str)"
   ]
  },
  {
   "cell_type": "code",
   "execution_count": 8,
   "id": "7626ebf5-25c4-4cb1-85b9-eab32e49c5f1",
   "metadata": {},
   "outputs": [
    {
     "data": {
      "text/plain": [
       "780"
      ]
     },
     "execution_count": 8,
     "metadata": {},
     "output_type": "execute_result"
    }
   ],
   "source": [
    "# usually\n",
    "a = 700\n",
    "a+80"
   ]
  },
  {
   "cell_type": "code",
   "execution_count": 10,
   "id": "0e6de6e2-1eff-4e25-9401-277bc1a8587c",
   "metadata": {},
   "outputs": [
    {
     "data": {
      "text/plain": [
       "780"
      ]
     },
     "execution_count": 10,
     "metadata": {},
     "output_type": "execute_result"
    }
   ],
   "source": [
    "# magic method\n",
    "a.__add__(80)"
   ]
  },
  {
   "cell_type": "code",
   "execution_count": 37,
   "id": "78f3e44e-7c9d-4de8-a41b-5e30f791f118",
   "metadata": {},
   "outputs": [],
   "source": [
    "# __new__ is called before __init__ internally\n",
    "class iop:\n",
    "    \n",
    "    def __new__(cls):\n",
    "        print(\"This is __new__\")\n",
    "    \n",
    "    def __init__(self):\n",
    "        print(\"This is __init__\")\n",
    "        \n",
    "        self.mob_nu = 947722782"
   ]
  },
  {
   "cell_type": "code",
   "execution_count": 39,
   "id": "1d602f8d-fdd5-456a-ba2e-fe64445e3b84",
   "metadata": {},
   "outputs": [
    {
     "name": "stdout",
     "output_type": "stream",
     "text": [
      "This is __new__\n"
     ]
    }
   ],
   "source": [
    "x=iop()"
   ]
  },
  {
   "cell_type": "code",
   "execution_count": 43,
   "id": "46623200-9d58-4206-8fe6-ef2f4bdd8c9c",
   "metadata": {},
   "outputs": [
    {
     "data": {
      "text/plain": [
       "<__main__.iop1 at 0x1a403297fe0>"
      ]
     },
     "execution_count": 43,
     "metadata": {},
     "output_type": "execute_result"
    }
   ],
   "source": [
    "# usually after calling any object we get hexadecimal code \n",
    "class iop1:\n",
    "    \n",
    "    def __init__(self):\n",
    "        \n",
    "        self.mob_nu = 947722782\n",
    "        \n",
    "y = iop1()\n",
    "y"
   ]
  },
  {
   "cell_type": "code",
   "execution_count": 49,
   "id": "9b8e430e-bdc3-459b-9dbb-6f21572609de",
   "metadata": {},
   "outputs": [
    {
     "data": {
      "text/plain": [
       "<__main__.iop2 at 0x1a404cdfef0>"
      ]
     },
     "execution_count": 49,
     "metadata": {},
     "output_type": "execute_result"
    }
   ],
   "source": [
    "# but we want some meaningful lines\n",
    "class iop2:\n",
    "    \n",
    "    def __init__(self):\n",
    "        \n",
    "        self.mob_nu = 947722782\n",
    "\n",
    "    def __str__(self):\n",
    "        return \"This is a magic call of str\"\n",
    "\n",
    "z = iop2()\n",
    "z"
   ]
  },
  {
   "cell_type": "code",
   "execution_count": 51,
   "id": "761a7b14-2235-4540-ae4c-9fba3db8fcee",
   "metadata": {},
   "outputs": [
    {
     "name": "stdout",
     "output_type": "stream",
     "text": [
      "This is a magic call of str\n"
     ]
    }
   ],
   "source": [
    "print(z)"
   ]
  },
  {
   "cell_type": "code",
   "execution_count": null,
   "id": "66ad6bb2-f603-492e-9ac8-4c0635513769",
   "metadata": {},
   "outputs": [],
   "source": []
  }
 ],
 "metadata": {
  "kernelspec": {
   "display_name": "Python [conda env:base] *",
   "language": "python",
   "name": "conda-base-py"
  },
  "language_info": {
   "codemirror_mode": {
    "name": "ipython",
    "version": 3
   },
   "file_extension": ".py",
   "mimetype": "text/x-python",
   "name": "python",
   "nbconvert_exporter": "python",
   "pygments_lexer": "ipython3",
   "version": "3.12.7"
  }
 },
 "nbformat": 4,
 "nbformat_minor": 5
}
