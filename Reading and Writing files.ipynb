{
 "cells": [
  {
   "cell_type": "code",
   "execution_count": 18,
   "id": "c8fc299e-937e-4a6f-93ad-371bad5d28ff",
   "metadata": {},
   "outputs": [],
   "source": [
    "# file operation\n",
    "# Reading and Writing files\n",
    "# JSON format file operations\n",
    "data={ \"name\" : \"abhi singh\",\n",
    "      \"mail\" : \"jviigi@gmail.com\", \n",
    "      \"phone\" : 8894488744} # key:value pair is also known as JSON-Java Script Object Notation format"
   ]
  },
  {
   "cell_type": "code",
   "execution_count": 20,
   "id": "ed6c2a7d-221e-4f79-af8b-7cf09009d7bb",
   "metadata": {},
   "outputs": [],
   "source": [
    "# we want to write JSON format in a file\n",
    "import json\n",
    "with open(\"data.json\", \"w\") as f:\n",
    "    json.dump(data, f)"
   ]
  },
  {
   "cell_type": "code",
   "execution_count": 22,
   "id": "a548a49a-f32c-4a1c-a0cd-97731de35d06",
   "metadata": {},
   "outputs": [
    {
     "data": {
      "text/plain": [
       "{'name': 'abhi singh', 'mail': 'jviigi@gmail.com', 'phone': 8894488744}"
      ]
     },
     "execution_count": 22,
     "metadata": {},
     "output_type": "execute_result"
    }
   ],
   "source": [
    "# read the file\n",
    "with open(\"data.json\", \"r\") as f:\n",
    "    data2=json.load(f)\n",
    "data2"
   ]
  },
  {
   "cell_type": "code",
   "execution_count": 34,
   "id": "aa723827-8899-471a-9984-6ea1117f947f",
   "metadata": {},
   "outputs": [
    {
     "data": {
      "text/plain": [
       "'abhi singh'"
      ]
     },
     "execution_count": 34,
     "metadata": {},
     "output_type": "execute_result"
    }
   ],
   "source": [
    "# suppose we want to extract  name\n",
    "data2[\"name\"]"
   ]
  },
  {
   "cell_type": "code",
   "execution_count": null,
   "id": "c494bb50-6c43-454b-9115-f962140d34c9",
   "metadata": {},
   "outputs": [],
   "source": []
  },
  {
   "cell_type": "code",
   "execution_count": 43,
   "id": "0d3fa5a2-21e7-4b0a-87d7-e77dcf0210fa",
   "metadata": {},
   "outputs": [],
   "source": [
    "# CSV format file operations\n",
    "import csv\n",
    "data3 = [[\"name\", \"id\", \"phone\"],                 # Define data\n",
    "         [\"maan\", \"ndnjndnj@gmail.com\", 9472728727],\n",
    "         [\"ram\", \"jdjjdj@gmail.com\", 95178474],\n",
    "         [\"aman\", \"hdfijjfji@gmail.com\", 96771488]]\n",
    "\n",
    "with open(\"data.csv\", \"w\") as f:     # Open file in write mode\n",
    "    writer = csv.writer(f)  # Create CSV writer\n",
    "\n",
    "    for i in data3:\n",
    "        writer.writerow(i)  # Write each row to CSV\n"
   ]
  },
  {
   "cell_type": "code",
   "execution_count": 52,
   "id": "3ece755a-e61d-4d92-92ed-d733aef29d8c",
   "metadata": {},
   "outputs": [
    {
     "name": "stdout",
     "output_type": "stream",
     "text": [
      "['name', 'id', 'phone']\n",
      "[]\n",
      "['maan', 'ndnjndnj@gmail.com', '9472728727']\n",
      "[]\n",
      "['ram', 'jdjjdj@gmail.com', '95178474']\n",
      "[]\n",
      "['aman', 'hdfijjfji@gmail.com', '96771488']\n",
      "[]\n"
     ]
    }
   ],
   "source": [
    "# read the csv file\n",
    "with open(\"data.csv\", \"r\") as f:\n",
    "     read_data = csv.reader(f)\n",
    "\n",
    "     for i in read_data:\n",
    "         print(i)"
   ]
  },
  {
   "cell_type": "code",
   "execution_count": null,
   "id": "bf788562-9b6e-48d8-8390-96e9bc18e958",
   "metadata": {},
   "outputs": [],
   "source": []
  },
  {
   "cell_type": "code",
   "execution_count": 61,
   "id": "649560c5-caea-4744-8ab5-ede97aebc35b",
   "metadata": {},
   "outputs": [],
   "source": [
    "# Binary data(0,1) file operations\n",
    "# it is not in human-readable format, till it is not converted to any other format\n",
    "\n",
    "with open(\"test7.bin\" , \"wb\") as f:        # .bin is the extension for binary file, wb= write to binary\n",
    "     f.write(b\"\\x01\\x02\\x03\\x8787787\")     # giving hexadecimal values for binary data atrting with b\"\\"
   ]
  },
  {
   "cell_type": "code",
   "execution_count": 63,
   "id": "064cb1e3-d1dd-44f4-a2cb-197fe4690612",
   "metadata": {},
   "outputs": [
    {
     "name": "stdout",
     "output_type": "stream",
     "text": [
      "b'\\x01\\x02\\x03\\x8787787'\n"
     ]
    }
   ],
   "source": [
    "# to read the file\n",
    "with open(\"test7.bin\" , \"rb\") as f:  # rb=read binary\n",
    "     print(f.read())"
   ]
  },
  {
   "cell_type": "code",
   "execution_count": null,
   "id": "b53d5c3e-a979-4b70-b2d9-e7f45817f161",
   "metadata": {},
   "outputs": [],
   "source": []
  }
 ],
 "metadata": {
  "kernelspec": {
   "display_name": "Python [conda env:base] *",
   "language": "python",
   "name": "conda-base-py"
  },
  "language_info": {
   "codemirror_mode": {
    "name": "ipython",
    "version": 3
   },
   "file_extension": ".py",
   "mimetype": "text/x-python",
   "name": "python",
   "nbconvert_exporter": "python",
   "pygments_lexer": "ipython3",
   "version": "3.12.7"
  }
 },
 "nbformat": 4,
 "nbformat_minor": 5
}
