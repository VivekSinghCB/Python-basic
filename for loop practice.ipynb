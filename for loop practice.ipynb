{
 "cells": [
  {
   "cell_type": "code",
   "execution_count": 6,
   "id": "4969fe70-6fad-49de-937e-e7d38558d0da",
   "metadata": {},
   "outputs": [
    {
     "name": "stdout",
     "output_type": "stream",
     "text": [
      "1 <class 'int'>\n",
      "2 <class 'int'>\n",
      "3 <class 'int'>\n",
      "4 <class 'int'>\n",
      "5 <class 'int'>\n",
      "6 <class 'int'>\n",
      "7 <class 'int'>\n",
      "8 <class 'int'>\n",
      "9 <class 'int'>\n"
     ]
    }
   ],
   "source": [
    "l=[1,2,3,4,5,6,7,8,9]\n",
    "for i in l:\n",
    "    print(i,type(i))"
   ]
  },
  {
   "cell_type": "code",
   "execution_count": 8,
   "id": "36ebfcfc-f5b4-4581-baaf-905772ef6a26",
   "metadata": {},
   "outputs": [
    {
     "name": "stdout",
     "output_type": "stream",
     "text": [
      "gbhhgbhg <class 'str'>\n",
      "jngngg <class 'str'>\n",
      "jnnjg <class 'str'>\n"
     ]
    }
   ],
   "source": [
    "l1=[\"gbhhgbhg\",\"jngngg\",\"jnnjg\"]\n",
    "for i in(l1):\n",
    "    print(i,type(i))"
   ]
  },
  {
   "cell_type": "code",
   "execution_count": 10,
   "id": "130c8beb-b565-4b15-b29e-4aac55ae9ebe",
   "metadata": {},
   "outputs": [
    {
     "name": "stdout",
     "output_type": "stream",
     "text": [
      "gbhhgbhg\n",
      "jngngg\n",
      "jnnjg\n",
      "Hello\n"
     ]
    }
   ],
   "source": [
    "# for else loop\n",
    "# if for loop is able to complete itself then only else loop will be executed\n",
    "for i in l1:\n",
    "    print(i)\n",
    "else:\n",
    "    print (\"Hello\")"
   ]
  },
  {
   "cell_type": "code",
   "execution_count": 18,
   "id": "870fd0d6-29f7-401b-ab58-5fbb44ae7e36",
   "metadata": {},
   "outputs": [
    {
     "name": "stdout",
     "output_type": "stream",
     "text": [
      "gnn\n",
      "jgg\n"
     ]
    }
   ],
   "source": [
    "l2=[\"gnn\", \"jgg\", \"mgm\"]\n",
    "for i in l2:\n",
    "    if i==\"mgm\":\n",
    "       break    # it is in-build, it will stop when it will find \"mgm\" given in if statement\n",
    "    print(i)"
   ]
  },
  {
   "cell_type": "code",
   "execution_count": 20,
   "id": "1c3dac6b-5fd3-430c-bbd2-1d4abe90fe44",
   "metadata": {},
   "outputs": [
    {
     "name": "stdout",
     "output_type": "stream",
     "text": [
      "gnn\n",
      "jgg\n"
     ]
    }
   ],
   "source": [
    "l2=[\"gnn\", \"jgg\", \"mgm\"]\n",
    "for i in l2:\n",
    "    if i==\"mgm\":\n",
    "       break \n",
    "    print(i)\n",
    "else:\n",
    "    print(\"it will be executed only when if will be completely executed, but here it is incomplete because of break\")\n",
    "    "
   ]
  },
  {
   "cell_type": "code",
   "execution_count": 26,
   "id": "2a52ede9-4194-479a-9f44-8ed042246111",
   "metadata": {},
   "outputs": [
    {
     "name": "stdout",
     "output_type": "stream",
     "text": [
      "gnn\n",
      "jgg\n",
      "hgn\n"
     ]
    }
   ],
   "source": [
    "l3=[\"gnn\", \"jgg\", \"mgm\", \"hgn\"]\n",
    "for i in l3:\n",
    "    if i==\"mgm\":\n",
    "       continue    # it is in-build, it will continue when it finds\"mgm\" given in the if statement\n",
    "                   # it will not print \"mgm\" but it will print others available after \"mgm\" in the list\n",
    "    print(i)"
   ]
  },
  {
   "cell_type": "code",
   "execution_count": 28,
   "id": "1d5ad427-b008-4b1d-96c8-678b1946d630",
   "metadata": {},
   "outputs": [
    {
     "name": "stdout",
     "output_type": "stream",
     "text": [
      "gnn\n",
      "jgg\n",
      "hgn\n",
      "it will be executed only when 'if' will be completely executed, here it is incomplete because of continue and it will be executed\n"
     ]
    }
   ],
   "source": [
    "l3=[\"gnn\", \"jgg\", \"mgm\", \"hgn\"]\n",
    "for i in l3:\n",
    "    if i==\"mgm\":\n",
    "       continue    # it is in-build, it will continue when it finds \"mgm\" given in if statement\n",
    "                   # it will not print \"mgm\" but it will print others available after \"mgm\" in the list\n",
    "    print(i)\n",
    "else:\n",
    "    print(\"it will be executed only when 'if' will be completely executed, here it is incomplete because of continue and it will be executed\") "
   ]
  },
  {
   "cell_type": "code",
   "execution_count": 30,
   "id": "491347f6-79df-46c6-9568-a22f7b1626c0",
   "metadata": {},
   "outputs": [
    {
     "data": {
      "text/plain": [
       "[0, 1, 2, 3, 4]"
      ]
     },
     "execution_count": 30,
     "metadata": {},
     "output_type": "execute_result"
    }
   ],
   "source": [
    "# range function- it is a generator function, it excludes the upper bound as starts with 0\n",
    "range(5)\n",
    "list(range(5))"
   ]
  },
  {
   "cell_type": "code",
   "execution_count": 32,
   "id": "e4a51c6b-dfef-401d-aa04-3f519b66f851",
   "metadata": {},
   "outputs": [
    {
     "data": {
      "text/plain": [
       "[0, 2, 4, 6, 8, 10, 12, 14, 16, 18]"
      ]
     },
     "execution_count": 32,
     "metadata": {},
     "output_type": "execute_result"
    }
   ],
   "source": [
    "# works same as slicing function in indexing, (START,END,JUMP)\n",
    "# even numbers between 0-20\n",
    "range(0,20,2)\n",
    "list(range(0,20,2))"
   ]
  },
  {
   "cell_type": "code",
   "execution_count": 50,
   "id": "231395af-84ff-4cb4-b336-0d2e63a512f7",
   "metadata": {},
   "outputs": [
    {
     "name": "stdout",
     "output_type": "stream",
     "text": [
      "['skd', 'jfj', 'jd', 'ab']\n"
     ]
    }
   ],
   "source": [
    "# reverse order using for loop\n",
    "# Original list\n",
    "l4 = [\"ab\", \"jd\", \"jfj\", \"skd\"]\n",
    "reversed_list = []\n",
    "for i in range(len(l4) - 1, -1, -1):  # (START,END,JUMP); len(l4) - 1 ,gives the index of the last element\n",
    "                                                        #  -1, stop condition (the loop stops before reaching -1)\n",
    "                                                        # -1, step value, meaning we decrement i by 1 in each iteration (moving backward through the list)\n",
    "    reversed_list.append(l4[i])  \n",
    "print(reversed_list)"
   ]
  },
  {
   "cell_type": "code",
   "execution_count": 92,
   "id": "5eb53dc6-bcb3-4b8b-a5b5-76921176d0ce",
   "metadata": {},
   "outputs": [
    {
     "data": {
      "text/plain": [
       "[0, 2, 4, 6, 8, 10, 12, 14]"
      ]
     },
     "execution_count": 92,
     "metadata": {},
     "output_type": "execute_result"
    }
   ],
   "source": [
    "# fetching elements present on EVEN index\n",
    "\n",
    "l5=[85,9,6,7,9,89,6,5,7,5,78,896,22,4,58,78]\n",
    "list(range(0,len(l5),2)) # produce index , for getting odd- list(range(1,len(l5),2))"
   ]
  },
  {
   "cell_type": "code",
   "execution_count": 96,
   "id": "7ac5da0b-347e-4d99-a398-6cdad3f49145",
   "metadata": {},
   "outputs": [
    {
     "name": "stdout",
     "output_type": "stream",
     "text": [
      "85\n",
      "6\n",
      "9\n",
      "6\n",
      "7\n",
      "78\n",
      "22\n",
      "58\n"
     ]
    }
   ],
   "source": [
    "# printing the elements present on all even index\n",
    "for i in range(0,len(l5),2):\n",
    "    print(l5[i])"
   ]
  },
  {
   "cell_type": "code",
   "execution_count": 98,
   "id": "78e15ade-d5c2-4c88-98d5-627f672db784",
   "metadata": {},
   "outputs": [
    {
     "data": {
      "text/plain": [
       "[1, 3, 5, 7, 9, 11]"
      ]
     },
     "execution_count": 98,
     "metadata": {},
     "output_type": "execute_result"
    }
   ],
   "source": [
    "# fetching elements present on ODD index\n",
    "l6=[5555,855,799,75,532,75,4,863,786,52,870,55,87]\n",
    "list(range(1,len(l6),2))"
   ]
  },
  {
   "cell_type": "code",
   "execution_count": 102,
   "id": "8c2fcbfe-c073-48d6-ada8-44322826d307",
   "metadata": {},
   "outputs": [
    {
     "name": "stdout",
     "output_type": "stream",
     "text": [
      "855\n",
      "75\n",
      "75\n",
      "863\n",
      "52\n",
      "55\n"
     ]
    }
   ],
   "source": [
    "for i in range(1,len(l6),2):\n",
    "    print(l6[i])"
   ]
  },
  {
   "cell_type": "code",
   "execution_count": 104,
   "id": "472ba447-799b-461f-bae9-83d1bca5c34a",
   "metadata": {},
   "outputs": [
    {
     "data": {
      "text/plain": [
       "594"
      ]
     },
     "execution_count": 104,
     "metadata": {},
     "output_type": "execute_result"
    }
   ],
   "source": [
    "# sum of elements (Indirectly we can call, sum(l7)) but we want different approach\n",
    "l7=[45,58,78,89,20,6,75,60,78,85]\n",
    "result=0\n",
    "for i in l7:\n",
    "    result=result+i # before the result was 0, now; 0+i i.e. 0+45=45, again it will do result+i i.e. now result is 45 from previous so 45+58......\n",
    "result"
   ]
  },
  {
   "cell_type": "code",
   "execution_count": 106,
   "id": "a3c33046-e763-4a35-b6d0-dcbbe2695f29",
   "metadata": {},
   "outputs": [
    {
     "data": {
      "text/plain": [
       "4186"
      ]
     },
     "execution_count": 106,
     "metadata": {},
     "output_type": "execute_result"
    }
   ],
   "source": [
    "# working with tuple\n",
    "t=(7,89,56,14,63,7,45,96,79,12,3658,58,2)\n",
    "result=0\n",
    "for i in t:\n",
    "    result=result+i\n",
    "result"
   ]
  },
  {
   "cell_type": "code",
   "execution_count": 108,
   "id": "3b6ce545-32b4-4022-abd3-527eb432a7df",
   "metadata": {},
   "outputs": [
    {
     "name": "stdout",
     "output_type": "stream",
     "text": [
      "1\n",
      "33\n",
      "3\n",
      "74\n",
      "bdbff\n",
      "nmt\n",
      "89\n",
      "795\n"
     ]
    }
   ],
   "source": [
    "# working with set\n",
    "s={74,89,3,795,1,33,\"bdbff\",\"nmt\"}\n",
    "for i in s:\n",
    "    print(i)"
   ]
  },
  {
   "cell_type": "code",
   "execution_count": 110,
   "id": "d2aa9e23-9b6e-419f-b049-21c285b4e04a",
   "metadata": {},
   "outputs": [
    {
     "name": "stdout",
     "output_type": "stream",
     "text": [
      "d\n",
      "n\n",
      "d\n",
      "o\n",
      "j\n",
      "f\n",
      "h\n"
     ]
    }
   ],
   "source": [
    "# working with strings\n",
    "s1=\"dndojfh\"\n",
    "for i in s1:\n",
    "    print(i)"
   ]
  },
  {
   "cell_type": "code",
   "execution_count": 134,
   "id": "123dd905-6b1b-4274-96ec-d5637a0a6eb4",
   "metadata": {},
   "outputs": [
    {
     "data": {
      "text/plain": [
       "dict_keys(['name', 'class', 'topic'])"
      ]
     },
     "execution_count": 134,
     "metadata": {},
     "output_type": "execute_result"
    }
   ],
   "source": [
    "# working with dictionary\n",
    "d = {\"name\": \"jnnfnj\",\"class\": \"jngmmg\", \"topic\": {\"njfikokt\": \"jjhh44\", \"nuikt\": \"jnto7\", \"jjko\": \"jto8\"}}\n",
    "d.keys()"
   ]
  },
  {
   "cell_type": "code",
   "execution_count": 136,
   "id": "ae2641b9-6d8c-458b-a7c2-668458d1a671",
   "metadata": {},
   "outputs": [
    {
     "name": "stdout",
     "output_type": "stream",
     "text": [
      "jnnfnj\n",
      "jngmmg\n",
      "{'njfikokt': 'jjhh44', 'nuikt': 'jnto7', 'jjko': 'jto8'}\n"
     ]
    }
   ],
   "source": [
    "for i in d.keys():\n",
    "    print(d[i])"
   ]
  },
  {
   "cell_type": "code",
   "execution_count": 138,
   "id": "b716092a-5ea8-4896-ac20-f5cec5831182",
   "metadata": {},
   "outputs": [
    {
     "data": {
      "text/plain": [
       "dict_items([('name', 'jnnfnj'), ('class', 'jngmmg'), ('topic', {'njfikokt': 'jjhh44', 'nuikt': 'jnto7', 'jjko': 'jto8'})])"
      ]
     },
     "execution_count": 138,
     "metadata": {},
     "output_type": "execute_result"
    }
   ],
   "source": [
    "d.items()"
   ]
  },
  {
   "cell_type": "code",
   "execution_count": 143,
   "id": "be2fdbe5-188b-4f93-9660-d02fc1b16538",
   "metadata": {},
   "outputs": [
    {
     "name": "stdout",
     "output_type": "stream",
     "text": [
      "('name', 'jnnfnj')\n",
      "('class', 'jngmmg')\n",
      "('topic', {'njfikokt': 'jjhh44', 'nuikt': 'jnto7', 'jjko': 'jto8'})\n"
     ]
    }
   ],
   "source": [
    "for i in d.items():\n",
    "    print(i)"
   ]
  },
  {
   "cell_type": "code",
   "execution_count": null,
   "id": "cf03678a-9f77-43a1-a491-d491538b6302",
   "metadata": {},
   "outputs": [],
   "source": []
  }
 ],
 "metadata": {
  "kernelspec": {
   "display_name": "Python [conda env:base] *",
   "language": "python",
   "name": "conda-base-py"
  },
  "language_info": {
   "codemirror_mode": {
    "name": "ipython",
    "version": 3
   },
   "file_extension": ".py",
   "mimetype": "text/x-python",
   "name": "python",
   "nbconvert_exporter": "python",
   "pygments_lexer": "ipython3",
   "version": "3.12.7"
  }
 },
 "nbformat": 4,
 "nbformat_minor": 5
}
