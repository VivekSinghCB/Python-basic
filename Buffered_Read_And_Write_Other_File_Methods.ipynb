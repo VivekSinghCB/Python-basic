{
 "cells": [
  {
   "cell_type": "code",
   "execution_count": 14,
   "id": "0e711182-3cad-437a-a510-50734b4373f9",
   "metadata": {},
   "outputs": [],
   "source": [
    "# Buffered_Read_And_Write_Other_File_Methods\n",
    "   # buffer writes big in chunks\n",
    "\n",
    "# program writes data to a file using buffered writing with Python's io module\n",
    "import io\n",
    "with open(\"Buffer.txt\",\"wb\") as f:\n",
    "    file = io.BufferedWriter(f) #  Wraps f in BufferedWriter, enabling buffered writing\n",
    "\n",
    "    file.write(b\"Proteins are large complex molecules that play many critical roles in the body. They do most of the work in cells and are required for the structure function and regulation of the bodys tissues and organs. Proteins are made up of hundreds or thousands of smaller units called amino acids which are attached to one another in long chains. There are 20 different types of amino acids that can be combined to make a protein. The sequence of amino acids determines each protein unique 3-dimensional structure and its specific function. Amino acids are coded by combinations of three DNA building blocks (nucleotides) determined by the sequence of genes.\\n\") # Writes binary data (b\"\") to the buffer, \\n is used for new line\n",
    "    file.write(b\"This is the program for buffer read and write, it is first line\\n\")\n",
    "    file.flush()    # when buffer is used then instead of using file.close(), we use file.flush() to close the file"
   ]
  },
  {
   "cell_type": "code",
   "execution_count": 24,
   "id": "1ff6575e-115e-40eb-a276-c55b3d34889d",
   "metadata": {},
   "outputs": [
    {
     "name": "stdout",
     "output_type": "stream",
     "text": [
      "b'Proteins are large complex molecules that play many critical roles in the body. They do most of the work in cells and are required for the structure function and regulation of the bodys tissues and organs. Proteins are made up of hundreds or thousands of smaller units called amino acids which are attached to one another in long chains. There are 20 different types of amino acids that can be combined to make a protein. The sequence of amino acids determines each protein unique 3-dimensional structure and its specific function. Amino acids are coded by combinations of three DNA building blocks (nucleotides) determined by the sequence of genes.\\nThis is the program for buffer read and write, it is first line\\n'\n"
     ]
    }
   ],
   "source": [
    "# read the file\n",
    "with open(\"Buffer.txt\" , \"rb\") as f:\n",
    "    file = io.BufferedReader(f)\n",
    "    data = file.read() # how much byte of data we want to read e.g.(100), by default it is 8192 byte\n",
    "    print(data)"
   ]
  },
  {
   "cell_type": "code",
   "execution_count": 36,
   "id": "be3cb9cc-2025-481c-a6b3-fe9f9448f179",
   "metadata": {},
   "outputs": [
    {
     "name": "stdout",
     "output_type": "stream",
     "text": [
      "b'Proteins are large complex molecules that play many critical roles in the body. They do most of the work in cells and are required for the structure function and regulation of the bodys tissues and or'\n"
     ]
    }
   ],
   "source": [
    "# e.g. we want to read only 200 byte of data\n",
    "with open(\"Buffer.txt\" , \"rb\") as f:\n",
    "    file = io.BufferedReader(f)\n",
    "    data = file.read(200) # how much byte of data we want to read e.g.(100), by default it is 8192 byte\n",
    "    print(data)"
   ]
  },
  {
   "cell_type": "code",
   "execution_count": null,
   "id": "e17b0e28-8b1e-417f-9f3c-8ae380c6040d",
   "metadata": {},
   "outputs": [],
   "source": []
  }
 ],
 "metadata": {
  "kernelspec": {
   "display_name": "Python [conda env:base] *",
   "language": "python",
   "name": "conda-base-py"
  },
  "language_info": {
   "codemirror_mode": {
    "name": "ipython",
    "version": 3
   },
   "file_extension": ".py",
   "mimetype": "text/x-python",
   "name": "python",
   "nbconvert_exporter": "python",
   "pygments_lexer": "ipython3",
   "version": "3.12.7"
  }
 },
 "nbformat": 4,
 "nbformat_minor": 5
}
