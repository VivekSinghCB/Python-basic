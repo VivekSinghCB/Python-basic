{
 "cells": [
  {
   "cell_type": "code",
   "execution_count": 98,
   "id": "f79ed408-50d4-4085-87c4-f11fdfbdd22e",
   "metadata": {},
   "outputs": [],
   "source": [
    "# Working with files- built-in functions to work with files efficiently.\n",
    "  #The most common operations include reading, writing, and appending data to a file\n",
    "\n",
    "# f = open() # press shift+tab to konw the operations\n",
    "\n",
    "f = open(\"test10.txt\", 'w') #by default it will create the file in the working directory"
   ]
  },
  {
   "cell_type": "code",
   "execution_count": 100,
   "id": "ad6090b3-d538-4e48-842d-e3f0fdf61a62",
   "metadata": {},
   "outputs": [
    {
     "data": {
      "text/plain": [
       "'C:\\\\Users\\\\My PC\\\\Desktop\\\\Python Co'"
      ]
     },
     "execution_count": 100,
     "metadata": {},
     "output_type": "execute_result"
    }
   ],
   "source": [
    "pwd"
   ]
  },
  {
   "cell_type": "code",
   "execution_count": 104,
   "id": "30f2432c-d800-4be4-922a-e80db707f428",
   "metadata": {},
   "outputs": [],
   "source": [
    "# suppose we want to write inside the file created\n",
    "f.write(\"Please give some content here\")\n",
    "f.close() # close the file after writing, every time we have to close after writing in a file"
   ]
  },
  {
   "cell_type": "code",
   "execution_count": 106,
   "id": "8af6ff72-3df9-4dff-90dd-0be8f3e42f07",
   "metadata": {},
   "outputs": [],
   "source": [
    "f = open(\"test10.txt\", 'w') # 'w' will truncate/overwrite the content in the file\n",
    "f.write(\"hiii everyone\") \n",
    "f.close()"
   ]
  },
  {
   "cell_type": "code",
   "execution_count": 108,
   "id": "8acbc922-4ed6-40cf-878d-3d5b483eeb60",
   "metadata": {},
   "outputs": [],
   "source": [
    "f = open(\"test10.txt\", 'a') # 'a' it will not overwrite our present content in the file, it will just add the content given\n",
    "f.write(\"I am vivek,News for today- According to the police, a tree trunk snapped due to rain and strong winds and fell on the bike, critically injured her. The girl was rushed to the Bowring Hospital but she had succumbed to head injuries due to extreme blood loss.\") \n",
    "f.close()"
   ]
  },
  {
   "cell_type": "code",
   "execution_count": 114,
   "id": "37415b22-4556-4523-b827-20e3e76046c3",
   "metadata": {},
   "outputs": [
    {
     "data": {
      "text/plain": [
       "'hiii everyoneI am vivek,News for today- According to the police, a tree trunk snapped due to rain and strong winds and fell on the bike, critically injured her. The girl was rushed to the Bowring Hospital but she had succumbed to head injuries due to extreme blood loss.'"
      ]
     },
     "execution_count": 114,
     "metadata": {},
     "output_type": "execute_result"
    }
   ],
   "source": [
    "f = open(\"test10.txt\", 'r') # 'r' it will read all the content present in the file\n",
    "f.read()"
   ]
  },
  {
   "cell_type": "code",
   "execution_count": 116,
   "id": "836babee-4410-45b6-8414-2638d5621c2e",
   "metadata": {},
   "outputs": [
    {
     "data": {
      "text/plain": [
       "'hiii everyoneI am vivek,News for today- According to the police, a tree trunk snapped due to rain and strong winds and fell on the bike, critically injured her. The girl was rushed to the Bowring Hospital but she had succumbed to head injuries due to extreme blood loss.'"
      ]
     },
     "execution_count": 116,
     "metadata": {},
     "output_type": "execute_result"
    }
   ],
   "source": [
    "data = open(\"test10.txt\", 'r')\n",
    "data.read()"
   ]
  },
  {
   "cell_type": "code",
   "execution_count": 74,
   "id": "2c5a8fab-cd0c-465a-97ce-22dc478db1b0",
   "metadata": {},
   "outputs": [
    {
     "data": {
      "text/plain": [
       "''"
      ]
     },
     "execution_count": 74,
     "metadata": {},
     "output_type": "execute_result"
    }
   ],
   "source": [
    "# if want to read content line by line from starting\n",
    "data.readline()"
   ]
  },
  {
   "cell_type": "code",
   "execution_count": 90,
   "id": "2873febf-aed9-48b3-8a6b-c02c0e39762f",
   "metadata": {},
   "outputs": [
    {
     "data": {
      "text/plain": [
       "4"
      ]
     },
     "execution_count": 90,
     "metadata": {},
     "output_type": "execute_result"
    }
   ],
   "source": [
    "data.seek(4) # it will set our starting pointer from index 4 of the content "
   ]
  },
  {
   "cell_type": "code",
   "execution_count": 92,
   "id": "05a8424a-0c4b-48d2-860f-a85e479401c3",
   "metadata": {},
   "outputs": [
    {
     "data": {
      "text/plain": [
       "' everyoneI am vivekI am vivekI am vivek /nI am vivekI am vivek,News for today- According to the police, a tree trunk snapped due to rain and strong winds and fell on the bike, critically injured her. The girl was rushed to the Bowring Hospital but she had succumbed to head injuries due to extreme blood loss.'"
      ]
     },
     "execution_count": 92,
     "metadata": {},
     "output_type": "execute_result"
    }
   ],
   "source": [
    "data.readline()"
   ]
  },
  {
   "cell_type": "code",
   "execution_count": 122,
   "id": "2391227a-7494-4895-9f4f-7e22c2f8c4c9",
   "metadata": {},
   "outputs": [
    {
     "name": "stdout",
     "output_type": "stream",
     "text": [
      "hiii everyoneI am vivek,News for today- According to the police, a tree trunk snapped due to rain and strong winds and fell on the bike, critically injured her. The girl was rushed to the Bowring Hospital but she had succumbed to head injuries due to extreme blood loss.\n"
     ]
    }
   ],
   "source": [
    "# reading line by line using for loop\n",
    "data1 = open(\"test10.txt\", 'r') \n",
    "for i in data1:    #Creates a loop that iterates through each line in the file\n",
    "    print(i)"
   ]
  },
  {
   "cell_type": "code",
   "execution_count": 132,
   "id": "6eacb271-0c4f-4019-be72-f4d84b9ad39a",
   "metadata": {},
   "outputs": [
    {
     "data": {
      "text/plain": [
       "270"
      ]
     },
     "execution_count": 132,
     "metadata": {},
     "output_type": "execute_result"
    }
   ],
   "source": [
    "# to know size of file\n",
    "\n",
    "import os\n",
    "os.path.getsize(\"test10.txt\")"
   ]
  },
  {
   "cell_type": "code",
   "execution_count": 140,
   "id": "481565e5-f699-4425-83db-61a2c4a6e3e9",
   "metadata": {},
   "outputs": [],
   "source": [
    "f.close()"
   ]
  },
  {
   "cell_type": "code",
   "execution_count": null,
   "id": "814158c1-be4f-4217-a0f6-3852a3d3dddf",
   "metadata": {},
   "outputs": [],
   "source": [
    "# to delete the file test10.txt\n",
    "os.remove(\"test.txt\")"
   ]
  },
  {
   "cell_type": "code",
   "execution_count": null,
   "id": "a616c975-91a0-4cc3-80b0-92d8bf248456",
   "metadata": {},
   "outputs": [],
   "source": [
    "file = open(\"test10.txt\", \"r\") # ensure to close the file before renaming it\n",
    "file.close()\n",
    "os.rename(\"test10.txt\", \"test.txt\") # old, new file name"
   ]
  },
  {
   "cell_type": "code",
   "execution_count": null,
   "id": "4380c00b-77b2-4953-a7f0-b3514b04c797",
   "metadata": {},
   "outputs": [],
   "source": [
    "# to create copies of file\n",
    "import shutil\n",
    "shutil.copy(\"test.txt\", \"copy_file.txt\")"
   ]
  },
  {
   "cell_type": "code",
   "execution_count": null,
   "id": "ab6971fb-534a-4eb0-a762-c6254a4ca0a6",
   "metadata": {},
   "outputs": [],
   "source": []
  },
  {
   "cell_type": "code",
   "execution_count": 148,
   "id": "3a3c7890-f830-4cbd-b3b8-63db7017d836",
   "metadata": {},
   "outputs": [
    {
     "name": "stdout",
     "output_type": "stream",
     "text": [
      "hiii everyoneI am vivek,News for today- According to the police, a tree trunk snapped due to rain and strong winds and fell on the bike, critically injured her. The girl was rushed to the Bowring Hospital but she had succumbed to head injuries due to extreme blood loss.\n"
     ]
    }
   ],
   "source": [
    "# another method for file operation\n",
    "\n",
    "with open(\"test10.txt\" , \"r\") as f:  # Uses a context manager (`with`) that automatically closes the file when done\n",
    "                                     # Assigns the file object to variable `f`\n",
    "    print(f.read())"
   ]
  },
  {
   "cell_type": "code",
   "execution_count": null,
   "id": "f1f5f298-abde-469d-92bc-a271fb76b774",
   "metadata": {},
   "outputs": [],
   "source": []
  }
 ],
 "metadata": {
  "kernelspec": {
   "display_name": "Python [conda env:base] *",
   "language": "python",
   "name": "conda-base-py"
  },
  "language_info": {
   "codemirror_mode": {
    "name": "ipython",
    "version": 3
   },
   "file_extension": ".py",
   "mimetype": "text/x-python",
   "name": "python",
   "nbconvert_exporter": "python",
   "pygments_lexer": "ipython3",
   "version": "3.12.7"
  }
 },
 "nbformat": 4,
 "nbformat_minor": 5
}
