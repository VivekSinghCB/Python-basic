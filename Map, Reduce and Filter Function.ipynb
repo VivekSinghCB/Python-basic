{
 "cells": [
  {
   "cell_type": "code",
   "execution_count": 12,
   "id": "ad82e513-877a-4aab-95d4-b6a3d33b7237",
   "metadata": {},
   "outputs": [
    {
     "name": "stdout",
     "output_type": "stream",
     "text": [
      "[25, 81, 49, 9, 36, 49, 4, 1, 64]\n"
     ]
    }
   ],
   "source": [
    "# map function- is used to apply a function to each item in an iterable (like a list or tuple) without using loops\n",
    "              # Make an iterator that computes the function using arguments from each of the iterables. Stops when the shortest iterable is exhausted\n",
    "# square the elements of a list\n",
    "l = [5, 9, 7, 3, 6, 7, 2, 1, 8] \n",
    "def sq(x):\n",
    "    return x ** 2  # Function to return square of a number\n",
    "result = list(map(sq, l))  # Apply 'sq' function to each element of 'l'\n",
    "print(result)  # Print the list of squared values"
   ]
  },
  {
   "cell_type": "code",
   "execution_count": 16,
   "id": "08d9c27a-7403-446f-b264-94b0d1eb438e",
   "metadata": {},
   "outputs": [
    {
     "name": "stdout",
     "output_type": "stream",
     "text": [
      "[10, 17, 12, 7, 6, 12]\n"
     ]
    }
   ],
   "source": [
    "# adding elements of 2 lists one to another index wise\n",
    "l1 = [7, 9, 6, 3, 4, 5]  \n",
    "l2 = [3, 8, 6, 4, 2, 7]  \n",
    "\n",
    "# Using map() to apply a lambda function that adds corresponding elements of l1 and l2\n",
    "result = list(map(lambda x, y: x + y, l1, l2)) # x is for l1 elements, y is for l2 elements\n",
    "print(result) "
   ]
  },
  {
   "cell_type": "code",
   "execution_count": 18,
   "id": "6e4f0a28-6f75-468d-98be-75e764e793e8",
   "metadata": {},
   "outputs": [
    {
     "data": {
      "text/plain": [
       "[10, 17, 12, 7, 6, 12]"
      ]
     },
     "execution_count": 18,
     "metadata": {},
     "output_type": "execute_result"
    }
   ],
   "source": [
    "# using external function and then applying map function with external function\n",
    "def add (x,y):\n",
    "    return x+y\n",
    "list(map(add,l1,l2))"
   ]
  },
  {
   "cell_type": "code",
   "execution_count": 22,
   "id": "ae794340-5834-4964-a8f1-dc819f3697c4",
   "metadata": {},
   "outputs": [
    {
     "data": {
      "text/plain": [
       "['B', 'F', 'H', 'H', 'U', 'G']"
      ]
     },
     "execution_count": 22,
     "metadata": {},
     "output_type": "execute_result"
    }
   ],
   "source": [
    "# upper case using map\n",
    "s=\"bfhhug\"\n",
    "list(map(lambda s : s.upper(),s))"
   ]
  },
  {
   "cell_type": "code",
   "execution_count": null,
   "id": "38a32a0d-50ab-4ad5-a8f9-7a98488e7ab6",
   "metadata": {},
   "outputs": [],
   "source": []
  },
  {
   "cell_type": "code",
   "execution_count": 34,
   "id": "279808ac-3359-4d8f-9824-53ea04ff1263",
   "metadata": {},
   "outputs": [
    {
     "data": {
      "text/plain": [
       "41"
      ]
     },
     "execution_count": 34,
     "metadata": {},
     "output_type": "execute_result"
    }
   ],
   "source": [
    "# Reduce function- is part of the functools module and\n",
    "                  #is used to apply a function cumulatively to a sequence, reducing it to a single value\n",
    "# sum all the elements i.e. reduced\n",
    "from functools import reduce # importing reduce function form functools\n",
    "l=[7,9,5,9,1,6,3,1]\n",
    "reduce(lambda x,y : x+y, l) # x=7,y=9, x+y=16. Now, x=16,y=5, x+y=21 Now, x=21,y=9, x+y=30..........."
   ]
  },
  {
   "cell_type": "code",
   "execution_count": 36,
   "id": "3762d775-c3bf-42d6-9f1a-e3b561dc3a1c",
   "metadata": {},
   "outputs": [
    {
     "ename": "TypeError",
     "evalue": "<lambda>() missing 1 required positional argument: 'z'",
     "output_type": "error",
     "traceback": [
      "\u001b[1;31m---------------------------------------------------------------------------\u001b[0m",
      "\u001b[1;31mTypeError\u001b[0m                                 Traceback (most recent call last)",
      "Cell \u001b[1;32mIn[36], line 1\u001b[0m\n\u001b[1;32m----> 1\u001b[0m reduce(\u001b[38;5;28;01mlambda\u001b[39;00m x,y,z : x\u001b[38;5;241m+\u001b[39my\u001b[38;5;241m+\u001b[39mz, l)\n",
      "\u001b[1;31mTypeError\u001b[0m: <lambda>() missing 1 required positional argument: 'z'"
     ]
    }
   ],
   "source": [
    "reduce(lambda x,y,z : x+y+z, l)  # we can't give 3 parameter \n",
    "                              # it will give error because may be the third element can't be found in the list during reduction"
   ]
  },
  {
   "cell_type": "code",
   "execution_count": 38,
   "id": "c9974c8e-17d7-4b64-9f07-990fcce93626",
   "metadata": {},
   "outputs": [
    {
     "ename": "TypeError",
     "evalue": "reduce() of empty iterable with no initial value",
     "output_type": "error",
     "traceback": [
      "\u001b[1;31m---------------------------------------------------------------------------\u001b[0m",
      "\u001b[1;31mTypeError\u001b[0m                                 Traceback (most recent call last)",
      "Cell \u001b[1;32mIn[38], line 1\u001b[0m\n\u001b[1;32m----> 1\u001b[0m reduce(\u001b[38;5;28;01mlambda\u001b[39;00m x,y,z : x\u001b[38;5;241m+\u001b[39my\u001b[38;5;241m+\u001b[39mz, [])\n",
      "\u001b[1;31mTypeError\u001b[0m: reduce() of empty iterable with no initial value"
     ]
    }
   ],
   "source": [
    "reduce(lambda x,y,z : x+y+z, [])"
   ]
  },
  {
   "cell_type": "code",
   "execution_count": 40,
   "id": "42b3b256-ddaf-48e3-b809-2ad8720f17d4",
   "metadata": {},
   "outputs": [
    {
     "data": {
      "text/plain": [
       "1"
      ]
     },
     "execution_count": 40,
     "metadata": {},
     "output_type": "execute_result"
    }
   ],
   "source": [
    "# exceptional case of reduce function\n",
    "# because [1] has only one element, reduce() does not even call the lambda function—it just returns 1 directly\n",
    "reduce(lambda x,y,z : x+y+z, [1])"
   ]
  },
  {
   "cell_type": "code",
   "execution_count": 42,
   "id": "02f0832a-44a7-4f1f-88e8-ec0a14557913",
   "metadata": {},
   "outputs": [
    {
     "data": {
      "text/plain": [
       "51030"
      ]
     },
     "execution_count": 42,
     "metadata": {},
     "output_type": "execute_result"
    }
   ],
   "source": [
    "# multiply\n",
    "reduce(lambda x,y : x*y, l)"
   ]
  },
  {
   "cell_type": "code",
   "execution_count": 46,
   "id": "b4cdba01-2d2e-4a17-8934-bc3c7dae620a",
   "metadata": {},
   "outputs": [
    {
     "data": {
      "text/plain": [
       "9"
      ]
     },
     "execution_count": 46,
     "metadata": {},
     "output_type": "execute_result"
    }
   ],
   "source": [
    "# taking out greatest nu. present in the list\n",
    "reduce(lambda x,y : x if x>y else y, l)"
   ]
  },
  {
   "cell_type": "code",
   "execution_count": null,
   "id": "423a75ed-8fb7-4a8a-b602-28598bd90d55",
   "metadata": {},
   "outputs": [],
   "source": []
  },
  {
   "cell_type": "code",
   "execution_count": 53,
   "id": "d556c5e4-dba4-42cb-8a02-041529d63e44",
   "metadata": {},
   "outputs": [
    {
     "data": {
      "text/plain": [
       "[4, 6, 4, 2, 8, 6, 8]"
      ]
     },
     "execution_count": 53,
     "metadata": {},
     "output_type": "execute_result"
    }
   ],
   "source": [
    "# Filter function- is used to filter elements from an iterable (like a list or tuple) based on a given condition. \n",
    "   #It applies a function to each element and returns only those for which the function evaluates to True\n",
    "# taking out EVEN number from list\n",
    "l4=[4,9,3,7,5,6,4,2,8,3,6,7,8]\n",
    "list(filter(lambda x : x%2==0, l4))"
   ]
  },
  {
   "cell_type": "code",
   "execution_count": 55,
   "id": "e7149980-4b0d-42d6-b548-755356acf90e",
   "metadata": {},
   "outputs": [
    {
     "data": {
      "text/plain": [
       "[9, 3, 7, 5, 3, 7]"
      ]
     },
     "execution_count": 55,
     "metadata": {},
     "output_type": "execute_result"
    }
   ],
   "source": [
    "# taking out ODD number from list\n",
    "l4=[4,9,3,7,5,6,4,2,8,3,6,7,8]\n",
    "list(filter(lambda x : x%2!=0, l4))"
   ]
  },
  {
   "cell_type": "code",
   "execution_count": 57,
   "id": "f4b244ca-9ad5-476f-b1ba-30ed5d6d8228",
   "metadata": {},
   "outputs": [
    {
     "data": {
      "text/plain": [
       "[-78, -6, -1]"
      ]
     },
     "execution_count": 57,
     "metadata": {},
     "output_type": "execute_result"
    }
   ],
   "source": [
    "# taking out -ve elements\n",
    "l5=[4,8,6,-78,2,-6,-1]\n",
    "list(filter(lambda x : x<0, l5))"
   ]
  },
  {
   "cell_type": "code",
   "execution_count": 59,
   "id": "214554df-b178-4046-8e48-f2e2e5c7aa13",
   "metadata": {},
   "outputs": [
    {
     "data": {
      "text/plain": [
       "['bfjg', 'bhui', 'yeui', 'fnf']"
      ]
     },
     "execution_count": 59,
     "metadata": {},
     "output_type": "execute_result"
    }
   ],
   "source": [
    "# taking out the string whose length is <5\n",
    "l6=[\"bfjg\", \"bhui\", \"ubirl\", \"yeui\",\"huijokro\", \"fnf\"]\n",
    "list(filter(lambda x : len(x)<5, l6))"
   ]
  },
  {
   "cell_type": "code",
   "execution_count": null,
   "id": "d34559f1-21fb-40e4-ac68-8382a9ca2061",
   "metadata": {},
   "outputs": [],
   "source": []
  }
 ],
 "metadata": {
  "kernelspec": {
   "display_name": "Python [conda env:base] *",
   "language": "python",
   "name": "conda-base-py"
  },
  "language_info": {
   "codemirror_mode": {
    "name": "ipython",
    "version": 3
   },
   "file_extension": ".py",
   "mimetype": "text/x-python",
   "name": "python",
   "nbconvert_exporter": "python",
   "pygments_lexer": "ipython3",
   "version": "3.12.7"
  }
 },
 "nbformat": 4,
 "nbformat_minor": 5
}
