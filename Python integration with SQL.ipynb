{
 "cells": [
  {
   "cell_type": "code",
   "execution_count": 29,
   "id": "76ce3235-83a6-426b-8238-c50c6755319f",
   "metadata": {},
   "outputs": [
    {
     "name": "stdout",
     "output_type": "stream",
     "text": [
      "<pymysql.connections.Connection object at 0x000001A9AF30BD70>\n"
     ]
    }
   ],
   "source": [
    "# SQL- SQL databases are relational databases that store data in structured tables with predefined schemas. \n",
    "       # They use SQL for querying and data manipulation\n",
    "# connecting to MySQL- SQL(Structured Query Language) types; MySQL, MsSQL, DBL, PostgreSQL, Oracle Database\n",
    "                     # NoSQL(Structured Query Language) types; MongoDb, Cassandra, Habase, Influx, Neo4j, Redis, DynamoDB\n",
    "\n",
    "import pymysql\n",
    "mydb = pymysql.connect(\n",
    "       host=\"localhost\",\n",
    "       user=\"root\",\n",
    "       passwd=\"Mysql@1.\")\n",
    "print(mydb)"
   ]
  },
  {
   "cell_type": "code",
   "execution_count": 31,
   "id": "6309d3f1-358a-44b7-bee6-de892f908a30",
   "metadata": {},
   "outputs": [
    {
     "name": "stdout",
     "output_type": "stream",
     "text": [
      "Connected to MySQL version: ('8.0.41',)\n"
     ]
    }
   ],
   "source": [
    "import pymysql\n",
    "\n",
    "# Establish connection\n",
    "mydb = pymysql.connect(\n",
    "    host=\"localhost\",\n",
    "    user=\"root\",\n",
    "    passwd=\"Mysql@1.\"\n",
    ")\n",
    "\n",
    "# Create a cursor object to interact with the database\n",
    "cursor = mydb.cursor()\n",
    "\n",
    "# Run a simple query to check the database version\n",
    "cursor.execute(\"SELECT VERSION();\")\n",
    "\n",
    "# Fetch and print the result\n",
    "version = cursor.fetchone()\n",
    "print(\"Connected to MySQL version:\", version)\n",
    "\n",
    "# Close the connection\n",
    "cursor.close()\n",
    "mydb.close()"
   ]
  },
  {
   "cell_type": "code",
   "execution_count": 37,
   "id": "c3e674c5-18db-4afd-8b70-2de306c6ed8c",
   "metadata": {},
   "outputs": [
    {
     "name": "stdout",
     "output_type": "stream",
     "text": [
      "<pymysql.connections.Connection object at 0x000001A9AF7183E0>\n",
      "('information_schema',)\n",
      "('mysql',)\n",
      "('performance_schema',)\n",
      "('sys',)\n"
     ]
    }
   ],
   "source": [
    "import mysql.connector  # Importing MySQL connector module\n",
    "\n",
    "# Establishing connection to MySQL database\n",
    "mydb = pymysql.connect(\n",
    "       host=\"localhost\",  # MySQL server hostname (localhost for local connection)\n",
    "       user=\"root\",        # MySQL username (default is \"root\")\n",
    "       passwd=\"Mysql@1.\"   # MySQL password (ensure it's correct)\n",
    ")\n",
    "print(mydb)   # Printing the database connection object\n",
    "\n",
    "\n",
    "mycursor = mydb.cursor() # Creating a cursor object to interact with the database\n",
    "mycursor.execute(\"SHOW DATABASES\") # Executing a SQL command to list all databases\n",
    "\n",
    "\n",
    "for x in mycursor: # Looping through and printing each database name\n",
    "    print(x)\n",
    "\n",
    "# Close the connection\n",
    "cursor.close()\n",
    "mydb.close()"
   ]
  },
  {
   "cell_type": "code",
   "execution_count": 84,
   "id": "713b35f2-8593-49cc-b1f7-d7d7d06b4ba8",
   "metadata": {},
   "outputs": [
    {
     "name": "stdout",
     "output_type": "stream",
     "text": [
      "<pymysql.connections.Connection object at 0x000001A9B0717EC0>\n",
      "Connected to MySQL Server\n",
      "Database 'TEST' created or already exists.\n",
      "Table 'test4' created successfully inside database 'TEST'.\n",
      "Data inserted successfully into 'test4'.\n",
      "(785, 'Vivek', 78.89, 75)\n"
     ]
    }
   ],
   "source": [
    "# Creating a Database e.g. TEST and making a table e.g. test4 inside the Database and also;\n",
    "     # giving values inside the table i.e. test4\n",
    "\n",
    "import pymysql  # Import pymysql library for MySQL connectivity\n",
    "\n",
    "# Establish a connection to the MySQL server\n",
    "mydb = pymysql.connect(\n",
    "       host=\"localhost\",  # MySQL server hostname (localhost for local server)\n",
    "       user=\"root\",        # MySQL username (default is \"root\")\n",
    "       passwd=\"Mysql@1.\",  # MySQL password (ensure it's correct)\n",
    "       database=\"TEST\"     # Specify database (so we don't need \"USE TEST\" separately)\n",
    ")\n",
    "print(mydb)  # Print connection object to verify the connection\n",
    "\n",
    "print(\"Connected to MySQL Server\")  # Confirmation message\n",
    "\n",
    "mycursor = mydb.cursor()  # Create a cursor object to interact with the database\n",
    "\n",
    "# Create the database if it does not exist\n",
    "mycursor.execute(\"CREATE DATABASE IF NOT EXISTS TEST\")  \n",
    "print(\"Database 'TEST' created or already exists.\")  # Success message\n",
    "\n",
    "# Ensure we're using the correct database\n",
    "mycursor.execute(\"USE TEST\")\n",
    "\n",
    "# Create the table 'test4' if it does not exist\n",
    "mycursor.execute(\"\"\"\n",
    "    CREATE TABLE IF NOT EXISTS test4 (\n",
    "        c1 INT,\n",
    "        c2 VARCHAR(50),\n",
    "        c3 FLOAT,\n",
    "        c4 INT\n",
    "    )\n",
    "\"\"\")\n",
    "print(\"Table 'test4' created successfully inside database 'TEST'.\")\n",
    "\n",
    "# Insert data into the newly created table\n",
    "mycursor.execute(\"INSERT INTO test4 (c1, c2, c3, c4) VALUES (785, 'Vivek', 78.89, 75)\") # here we use ' ' instead of \" \"\n",
    "mydb.commit()  # Save the changes\n",
    "\n",
    "print(\"Data inserted successfully into 'test4'.\")  # Success message\n",
    "\n",
    "mycursor.execute(\"SELECT * FROM test4\")  # Visualise the table made inside the Database\n",
    "for row in mycursor.fetchall():\n",
    "    print(row)\n",
    "\n",
    "# Close the cursor and database connection to free resources\n",
    "mycursor.close()\n",
    "mydb.close()"
   ]
  },
  {
   "cell_type": "code",
   "execution_count": null,
   "id": "6cad9cbc-b915-406b-b412-8eb56c61b35b",
   "metadata": {},
   "outputs": [],
   "source": [
    "# suppose we want to visualise only c1 and c3\n",
    "\n",
    "mycursor.execute(\"CREATE DATABASE IF NOT EXISTS TEST\")  \n",
    "print(\"Database 'TEST' created or already exists.\")  # Success message\n",
    "\n",
    "# Ensure we're using the correct database\n",
    "mycursor.execute(\"USE TEST\")\n",
    "\n",
    "# Create the table 'test4' if it does not exist\n",
    "mycursor.execute(\"\"\"\n",
    "    CREATE TABLE IF NOT EXISTS test4 (\n",
    "        c1 INT,\n",
    "        c2 VARCHAR(50),\n",
    "        c3 FLOAT,\n",
    "        c4 INT\n",
    "    )\n",
    "\"\"\")\n",
    "print(\"Table 'test4' created successfully inside database 'TEST'.\")\n",
    "\n",
    "# Insert data into the newly created table\n",
    "mycursor.execute(\"INSERT INTO test4 (c1, c2, c3, c4) VALUES (785, 'Vivek', 78.89, 75)\") # here we use ' ' instead of \" \"\n",
    "mydb.commit()  # Save the changes\n",
    "\n",
    "print(\"Data inserted successfully into 'test4'.\")  # Success message\n",
    "\n",
    "mycursor.execute(\"SELECT c1, c3 FROM test4\")  # Visualise only c1 and c3 from the table made inside the Database\n",
    "for row in mycursor.fetchall():\n",
    "    print(row)\n",
    "\n",
    "# Close the cursor and database connection to free resources\n",
    "mycursor.close()\n",
    "mydb.close()"
   ]
  },
  {
   "cell_type": "code",
   "execution_count": null,
   "id": "2d2b3747-29bb-44e3-a74b-d6e52c731236",
   "metadata": {},
   "outputs": [],
   "source": []
  }
 ],
 "metadata": {
  "kernelspec": {
   "display_name": "Python [conda env:base] *",
   "language": "python",
   "name": "conda-base-py"
  },
  "language_info": {
   "codemirror_mode": {
    "name": "ipython",
    "version": 3
   },
   "file_extension": ".py",
   "mimetype": "text/x-python",
   "name": "python",
   "nbconvert_exporter": "python",
   "pygments_lexer": "ipython3",
   "version": "3.12.7"
  }
 },
 "nbformat": 4,
 "nbformat_minor": 5
}
