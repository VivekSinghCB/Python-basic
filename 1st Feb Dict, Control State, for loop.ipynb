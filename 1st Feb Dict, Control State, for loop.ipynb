{
 "cells": [
  {
   "cell_type": "code",
   "execution_count": 1,
   "id": "63438411-ce9a-43a3-99fa-a1442928ed68",
   "metadata": {},
   "outputs": [
    {
     "data": {
      "text/plain": [
       "dict"
      ]
     },
     "execution_count": 1,
     "metadata": {},
     "output_type": "execute_result"
    }
   ],
   "source": [
    "# Dictionary Data type- Mutable\n",
    "# Have key:value pair to store the data\n",
    "d={}\n",
    "type(d)"
   ]
  },
  {
   "cell_type": "code",
   "execution_count": 23,
   "id": "fd6215f2-2307-48c3-9267-f475d2d65561",
   "metadata": {},
   "outputs": [
    {
     "data": {
      "text/plain": [
       "{'fnjjf': 40, 40: 'nfnf', 'ndnn': 80, 'jdnf': 90, 'duhf': 'nnfnjnf', True: 788}"
      ]
     },
     "execution_count": 23,
     "metadata": {},
     "output_type": "execute_result"
    }
   ],
   "source": [
    "# Key=should always be unique (numeric or string), Value=can be same\n",
    "d1={'fnjjf':40, 40:\"nfnf\", 'ndnn':80, \"jdnf\":90, 'duhf':\"nnfnjnf\", True:788}\n",
    "d1"
   ]
  },
  {
   "cell_type": "code",
   "execution_count": 25,
   "id": "10734f1c-b230-413f-8c4d-5afbfc192e1a",
   "metadata": {},
   "outputs": [
    {
     "data": {
      "text/plain": [
       "'nnfnjnf'"
      ]
     },
     "execution_count": 25,
     "metadata": {},
     "output_type": "execute_result"
    }
   ],
   "source": [
    "# Extracting the value of a Key name\n",
    "# Indexing is not available instead, we use key \n",
    "d1['duhf']"
   ]
  },
  {
   "cell_type": "code",
   "execution_count": 27,
   "id": "25eb4e0e-8d06-448a-87cc-faa1c5352f2e",
   "metadata": {},
   "outputs": [
    {
     "ename": "KeyError",
     "evalue": "0",
     "output_type": "error",
     "traceback": [
      "\u001b[1;31m---------------------------------------------------------------------------\u001b[0m",
      "\u001b[1;31mKeyError\u001b[0m                                  Traceback (most recent call last)",
      "Cell \u001b[1;32mIn[27], line 1\u001b[0m\n\u001b[1;32m----> 1\u001b[0m d1[\u001b[38;5;241m0\u001b[39m]\n",
      "\u001b[1;31mKeyError\u001b[0m: 0"
     ]
    }
   ],
   "source": [
    "d1[0]"
   ]
  },
  {
   "cell_type": "code",
   "execution_count": 31,
   "id": "cce9de1a-dacb-4c7c-9938-fb3acb43c484",
   "metadata": {},
   "outputs": [
    {
     "data": {
      "text/plain": [
       "788"
      ]
     },
     "execution_count": 31,
     "metadata": {},
     "output_type": "execute_result"
    }
   ],
   "source": [
    "# it is executing because we have a Boolean key:value present in the dict. where True=1 and giving the value of that, it is not because of indexing\n",
    "d1[1]"
   ]
  },
  {
   "cell_type": "code",
   "execution_count": 33,
   "id": "fd6c7533-980a-42e1-9da4-2755fe644a4b",
   "metadata": {},
   "outputs": [],
   "source": [
    "# it will overwrite with the last key, if the same key is present in the dict.\n",
    "d2={'name':\"njcjnf\", 'mail':\"nfnj@gmaia.com\", 'name':\"njndnj\"}"
   ]
  },
  {
   "cell_type": "code",
   "execution_count": 37,
   "id": "9046f010-93df-4914-ac79-831393ff9870",
   "metadata": {},
   "outputs": [
    {
     "data": {
      "text/plain": [
       "'njndnj'"
      ]
     },
     "execution_count": 37,
     "metadata": {},
     "output_type": "execute_result"
    }
   ],
   "source": [
    "d2['name']"
   ]
  },
  {
   "cell_type": "code",
   "execution_count": 39,
   "id": "3dff1383-4df4-4eb3-ba46-38a9958a6820",
   "metadata": {},
   "outputs": [
    {
     "data": {
      "text/plain": [
       "{'company': 'pwskills', 'courses': ['dhjfn', 'njfjnf', 'ddbhbhf']}"
      ]
     },
     "execution_count": 39,
     "metadata": {},
     "output_type": "execute_result"
    }
   ],
   "source": [
    "# we can give value as a String, Tuple, Set\n",
    "# e.g. String\n",
    "d3={'company':\"pwskills\", 'courses':[\"dhjfn\", \"njfjnf\", \"ddbhbhf\"]}\n",
    "d3"
   ]
  },
  {
   "cell_type": "code",
   "execution_count": 45,
   "id": "043d1cb0-b57c-49b8-ae2e-68c6bcff4f4d",
   "metadata": {},
   "outputs": [
    {
     "data": {
      "text/plain": [
       "['dhjfn', 'njfjnf', 'ddbhbhf']"
      ]
     },
     "execution_count": 45,
     "metadata": {},
     "output_type": "execute_result"
    }
   ],
   "source": [
    "d3['courses']"
   ]
  },
  {
   "cell_type": "code",
   "execution_count": 53,
   "id": "3a891ca4-f0d5-4d5a-a528-9950b0627b7c",
   "metadata": {},
   "outputs": [
    {
     "data": {
      "text/plain": [
       "'njfjnf'"
      ]
     },
     "execution_count": 53,
     "metadata": {},
     "output_type": "execute_result"
    }
   ],
   "source": [
    "d3['courses'][1]"
   ]
  },
  {
   "cell_type": "code",
   "execution_count": 55,
   "id": "83a64687-7721-44bb-b60d-e73f36f94e53",
   "metadata": {},
   "outputs": [
    {
     "data": {
      "text/plain": [
       "'n'"
      ]
     },
     "execution_count": 55,
     "metadata": {},
     "output_type": "execute_result"
    }
   ],
   "source": [
    "d3['courses'][1][0]"
   ]
  },
  {
   "cell_type": "code",
   "execution_count": 61,
   "id": "302b63c2-12bd-4bd4-82f4-072e1f20f9c2",
   "metadata": {},
   "outputs": [],
   "source": [
    "# Dict can take Tuple, Set\n",
    "d4={'num': [4,5,8,9,7,30,78], 'ndnkfkf':(7,5,5,8,9,5,1), 'nfjjjjg':{78,95,7,8,188,70}}"
   ]
  },
  {
   "cell_type": "code",
   "execution_count": 67,
   "id": "f8100706-39ac-424f-a661-17fc87727ae4",
   "metadata": {},
   "outputs": [],
   "source": [
    "# dict. within dict. is allowed\n",
    "d5={'fjjjf':8510, 'hdhhd':\"njdnjf\", 'njjnfn':{'nfnjnjf':8888}}"
   ]
  },
  {
   "cell_type": "code",
   "execution_count": 81,
   "id": "f7890e2e-07c6-46df-a32d-911b7a64ed15",
   "metadata": {},
   "outputs": [
    {
     "data": {
      "text/plain": [
       "{'fjjjf': 8510,\n",
       " 'hdhhd': 'njdnjf',\n",
       " 'njjnfn': {'nfnjnjf': 8888},\n",
       " 'name': ['uudn', 'wujnfn', 'owke']}"
      ]
     },
     "execution_count": 81,
     "metadata": {},
     "output_type": "execute_result"
    }
   ],
   "source": [
    "# adding Key:Value to Dict.\n",
    "# Key should not be same as present previous otherwise it will overwrite\n",
    "d5['name']=[\"uudn\",\"wujnfn\",\"owke\"]\n",
    "d5"
   ]
  },
  {
   "cell_type": "code",
   "execution_count": 83,
   "id": "46b32b26-6cd3-4f2d-8b1e-a964a3233ad3",
   "metadata": {},
   "outputs": [],
   "source": [
    "# removing a key:value\n",
    "del d5['name']"
   ]
  },
  {
   "cell_type": "code",
   "execution_count": 85,
   "id": "65478eb5-229c-4875-9118-72d2ee2519ca",
   "metadata": {},
   "outputs": [
    {
     "data": {
      "text/plain": [
       "{'fjjjf': 8510, 'hdhhd': 'njdnjf', 'njjnfn': {'nfnjnjf': 8888}}"
      ]
     },
     "execution_count": 85,
     "metadata": {},
     "output_type": "execute_result"
    }
   ],
   "source": [
    "d5"
   ]
  },
  {
   "cell_type": "code",
   "execution_count": 89,
   "id": "776784d3-11dd-4b9d-83d7-9bc441de4e3e",
   "metadata": {},
   "outputs": [
    {
     "data": {
      "text/plain": [
       "dict_keys(['fjjjf', 'hdhhd', 'njjnfn'])"
      ]
     },
     "execution_count": 89,
     "metadata": {},
     "output_type": "execute_result"
    }
   ],
   "source": [
    "# getting list of Keys\n",
    "d5.keys()"
   ]
  },
  {
   "cell_type": "code",
   "execution_count": 93,
   "id": "23e308c2-4a68-4635-83d4-3ad665fb9aba",
   "metadata": {},
   "outputs": [
    {
     "data": {
      "text/plain": [
       "['fjjjf', 'hdhhd', 'njjnfn']"
      ]
     },
     "execution_count": 93,
     "metadata": {},
     "output_type": "execute_result"
    }
   ],
   "source": [
    "list(d5.keys())"
   ]
  },
  {
   "cell_type": "code",
   "execution_count": 95,
   "id": "ab5b64c0-90a3-48d0-ae7e-549ad39dcaee",
   "metadata": {},
   "outputs": [
    {
     "data": {
      "text/plain": [
       "dict_values([8510, 'njdnjf', {'nfnjnjf': 8888}])"
      ]
     },
     "execution_count": 95,
     "metadata": {},
     "output_type": "execute_result"
    }
   ],
   "source": [
    "# getting values from the Dict. Key:Value pair\n",
    "d5.values()"
   ]
  },
  {
   "cell_type": "code",
   "execution_count": 97,
   "id": "ff93251c-5d68-48ca-8d19-ae1762e457b1",
   "metadata": {},
   "outputs": [
    {
     "data": {
      "text/plain": [
       "[8510, 'njdnjf', {'nfnjnjf': 8888}]"
      ]
     },
     "execution_count": 97,
     "metadata": {},
     "output_type": "execute_result"
    }
   ],
   "source": [
    "list(d5.values())"
   ]
  },
  {
   "cell_type": "code",
   "execution_count": 99,
   "id": "47711956-a348-4057-9f29-cac4cc0f3631",
   "metadata": {},
   "outputs": [
    {
     "data": {
      "text/plain": [
       "dict_items([('fjjjf', 8510), ('hdhhd', 'njdnjf'), ('njjnfn', {'nfnjnjf': 8888})])"
      ]
     },
     "execution_count": 99,
     "metadata": {},
     "output_type": "execute_result"
    }
   ],
   "source": [
    "# getting pair of Key:Value\n",
    "d5.items()"
   ]
  },
  {
   "cell_type": "code",
   "execution_count": 101,
   "id": "19b85aa6-96fe-4c86-a791-b35f5515ca53",
   "metadata": {},
   "outputs": [
    {
     "data": {
      "text/plain": [
       "[('fjjjf', 8510), ('hdhhd', 'njdnjf'), ('njjnfn', {'nfnjnjf': 8888})]"
      ]
     },
     "execution_count": 101,
     "metadata": {},
     "output_type": "execute_result"
    }
   ],
   "source": [
    "list(d5.items())"
   ]
  },
  {
   "cell_type": "code",
   "execution_count": 113,
   "id": "d18368d6-4db8-4aad-849f-018714e74c50",
   "metadata": {},
   "outputs": [
    {
     "data": {
      "text/plain": [
       "'njdnjf'"
      ]
     },
     "execution_count": 113,
     "metadata": {},
     "output_type": "execute_result"
    }
   ],
   "source": [
    "# Pop by giving key name\n",
    "d5.pop('hdhhd')"
   ]
  },
  {
   "cell_type": "code",
   "execution_count": 115,
   "id": "c0c4191e-5247-4c6a-9d4f-796b7081a9f0",
   "metadata": {},
   "outputs": [
    {
     "data": {
      "text/plain": [
       "{'njjnfn': {'nfnjnjf': 8888}}"
      ]
     },
     "execution_count": 115,
     "metadata": {},
     "output_type": "execute_result"
    }
   ],
   "source": [
    "d5"
   ]
  },
  {
   "cell_type": "code",
   "execution_count": null,
   "id": "406e2bef-8f49-429d-a99a-ae987c56037f",
   "metadata": {},
   "outputs": [],
   "source": []
  },
  {
   "cell_type": "code",
   "execution_count": null,
   "id": "32e79032-57ef-4e11-afa3-fc68b2cf3743",
   "metadata": {},
   "outputs": [],
   "source": []
  },
  {
   "cell_type": "code",
   "execution_count": 18,
   "id": "973b01e9-e331-4815-8d73-f242bc98f21f",
   "metadata": {},
   "outputs": [
    {
     "name": "stdout",
     "output_type": "stream",
     "text": [
      "Work hard\n"
     ]
    }
   ],
   "source": [
    "# Control Statements\n",
    "marks=30\n",
    "if marks>=80:\n",
    "    print(\"Excellent\")\n",
    "elif marks>=60 and marks<80:\n",
    "    print (\"V Good\")\n",
    "elif marks>=40 and marks<60:\n",
    "    print (\"Good\")\n",
    "else:\n",
    "    print(\"Work hard\")\n",
    "          "
   ]
  },
  {
   "cell_type": "code",
   "execution_count": 20,
   "id": "98af6cfa-a5ab-4dc2-9d7f-3d5568c369a8",
   "metadata": {},
   "outputs": [
    {
     "name": "stdin",
     "output_type": "stream",
     "text": [
      "Please input your marks= 50\n"
     ]
    },
    {
     "ename": "TypeError",
     "evalue": "'>=' not supported between instances of 'str' and 'int'",
     "output_type": "error",
     "traceback": [
      "\u001b[1;31m---------------------------------------------------------------------------\u001b[0m",
      "\u001b[1;31mTypeError\u001b[0m                                 Traceback (most recent call last)",
      "Cell \u001b[1;32mIn[20], line 3\u001b[0m\n\u001b[0;32m      1\u001b[0m \u001b[38;5;66;03m# if we want to take input from the user then we can use the INPUT function \u001b[39;00m\n\u001b[0;32m      2\u001b[0m marks\u001b[38;5;241m=\u001b[39m\u001b[38;5;28minput\u001b[39m(\u001b[38;5;124m\"\u001b[39m\u001b[38;5;124mPlease input your marks=\u001b[39m\u001b[38;5;124m\"\u001b[39m)\n\u001b[1;32m----> 3\u001b[0m \u001b[38;5;28;01mif\u001b[39;00m marks\u001b[38;5;241m>\u001b[39m\u001b[38;5;241m=\u001b[39m\u001b[38;5;241m80\u001b[39m:\n\u001b[0;32m      4\u001b[0m     \u001b[38;5;28mprint\u001b[39m(\u001b[38;5;124m\"\u001b[39m\u001b[38;5;124mExcellent\u001b[39m\u001b[38;5;124m\"\u001b[39m)\n\u001b[0;32m      5\u001b[0m \u001b[38;5;28;01melif\u001b[39;00m marks\u001b[38;5;241m>\u001b[39m\u001b[38;5;241m=\u001b[39m\u001b[38;5;241m60\u001b[39m \u001b[38;5;129;01mand\u001b[39;00m marks\u001b[38;5;241m<\u001b[39m\u001b[38;5;241m80\u001b[39m:\n",
      "\u001b[1;31mTypeError\u001b[0m: '>=' not supported between instances of 'str' and 'int'"
     ]
    }
   ],
   "source": [
    "# if we want to take input from the user then we can use the INPUT function\n",
    "# problem is that this will convert input (int) to string and an error will come\n",
    "\n",
    "marks=input(\"Please input your marks=\")\n",
    "if marks>=80:\n",
    "    print(\"Excellent\")\n",
    "elif marks>=60 and marks<80:\n",
    "    print (\"V Good\")\n",
    "elif marks>=40 and marks<60:\n",
    "    print (\"Good\")\n",
    "else:\n",
    "    print(\"Work hard\")"
   ]
  },
  {
   "cell_type": "code",
   "execution_count": 28,
   "id": "641e37a1-3387-4088-820f-753eda01c568",
   "metadata": {},
   "outputs": [
    {
     "name": "stdin",
     "output_type": "stream",
     "text": [
      "Please input your marks= 50\n"
     ]
    },
    {
     "name": "stdout",
     "output_type": "stream",
     "text": [
      "Good\n"
     ]
    }
   ],
   "source": [
    "# Therefore, we will do typecasting \n",
    "\n",
    "marks=int(input(\"Please input your marks=\"))\n",
    "if marks>=80:\n",
    "    print(\"Excellent\")\n",
    "elif marks>=60 and marks<80:\n",
    "    print (\"V Good\")\n",
    "elif marks>=40 and marks<60:\n",
    "    print (\"Good\")\n",
    "else:\n",
    "    print(\"Work hard\")"
   ]
  },
  {
   "cell_type": "code",
   "execution_count": 30,
   "id": "085d4d65-7203-4f21-8269-54349ce6e4a8",
   "metadata": {},
   "outputs": [
    {
     "name": "stdin",
     "output_type": "stream",
     "text": [
      "your budget 900\n"
     ]
    },
    {
     "name": "stdout",
     "output_type": "stream",
     "text": [
      "Yems\n"
     ]
    }
   ],
   "source": [
    "price=int(input(\"your budget=\"))\n",
    "if price > 1000:\n",
    "    print(\"Nots\")\n",
    "else:\n",
    "    print(\"Yems\")"
   ]
  },
  {
   "cell_type": "code",
   "execution_count": 32,
   "id": "5ec26c61-767d-4ad0-b62f-88016e441807",
   "metadata": {},
   "outputs": [
    {
     "name": "stdin",
     "output_type": "stream",
     "text": [
      "your budget= 800\n"
     ]
    }
   ],
   "source": [
    "# we can just give if block and if block condition is satisfied it will be executed otherwise it will just give the input execution \n",
    "price=int(input(\"your budget=\"))\n",
    "if price > 1000:\n",
    "    print(\"Nots\")"
   ]
  },
  {
   "cell_type": "code",
   "execution_count": 34,
   "id": "ac2ee428-bbb4-454c-b9dd-8900999c6098",
   "metadata": {},
   "outputs": [
    {
     "name": "stdin",
     "output_type": "stream",
     "text": [
      "your budget= 1500\n"
     ]
    },
    {
     "name": "stdout",
     "output_type": "stream",
     "text": [
      "Nots\n",
      "Can think\n"
     ]
    }
   ],
   "source": [
    "# blocks inside the block i.e. nested\n",
    "price=int(input(\"your budget=\"))\n",
    "if price > 1000:\n",
    "    print(\"Nots\")\n",
    "    if price > 5000:\n",
    "        print(\"Too much\")\n",
    "    elif price < 2000:\n",
    "        print(\"Can think\")"
   ]
  },
  {
   "cell_type": "code",
   "execution_count": 36,
   "id": "aa6d82ab-a12c-40e5-bd19-bf45594070eb",
   "metadata": {},
   "outputs": [],
   "source": [
    "# LOOP\n",
    "# 1. for loop"
   ]
  },
  {
   "cell_type": "code",
   "execution_count": 48,
   "id": "2d25432b-89c3-462f-9927-11dccdcafac8",
   "metadata": {},
   "outputs": [
    {
     "name": "stdout",
     "output_type": "stream",
     "text": [
      "2\n",
      "3\n",
      "4\n",
      "5\n",
      "6\n",
      "7\n",
      "8\n",
      "9\n"
     ]
    },
    {
     "data": {
      "text/plain": [
       "[2, 3, 4, 5, 6, 7, 8, 9]"
      ]
     },
     "execution_count": 48,
     "metadata": {},
     "output_type": "execute_result"
    }
   ],
   "source": [
    "l9=[1,2,3,4,5,6,7,8]\n",
    "# write a conditional statement (loop) to add +1 to each number and give the modified l9\n",
    "\n",
    "# for Loop\n",
    "l10=[]\n",
    "for i in l9:\n",
    "  print (i+1)\n",
    "  l10.append (i+1)\n",
    "l10"
   ]
  },
  {
   "cell_type": "code",
   "execution_count": 50,
   "id": "32a8db05-f3da-4047-8f36-b0a6e0be06a0",
   "metadata": {},
   "outputs": [
    {
     "data": {
      "text/plain": [
       "[2, 3, 4, 5, 6, 7, 8, 9]"
      ]
     },
     "execution_count": 50,
     "metadata": {},
     "output_type": "execute_result"
    }
   ],
   "source": [
    "l10"
   ]
  },
  {
   "cell_type": "code",
   "execution_count": 52,
   "id": "5d63fa3c-6947-4cbb-89ff-7ced8a877d5f",
   "metadata": {},
   "outputs": [
    {
     "name": "stdout",
     "output_type": "stream",
     "text": [
      "nnnnjg\n",
      "njngng\n",
      "njjnnh\n"
     ]
    },
    {
     "data": {
      "text/plain": [
       "['NNNNJG', 'NJNGNG', 'NJJNNH']"
      ]
     },
     "execution_count": 52,
     "metadata": {},
     "output_type": "execute_result"
    }
   ],
   "source": [
    "# convert all to upper case\n",
    "l1=[]\n",
    "l=[\"nnnnjg\", \"njngng\", \"njjnnh\"]\n",
    "for i in l:\n",
    "    print(i)\n",
    "    l1.append(i.upper())\n",
    "l1"
   ]
  },
  {
   "cell_type": "code",
   "execution_count": 58,
   "id": "f0bbc647-fbca-4e0d-b5ef-d1f3f694e1f5",
   "metadata": {},
   "outputs": [],
   "source": [
    "# make 2 seperate lists, 1 for int and 1 for string\n",
    "l3_num=[]\n",
    "l4_str=[]\n",
    "l2=[1,2,4,5,4,5,\"nnjjnh\",\"njhmmh\",822.0888, 899]\n",
    "for i in l2:\n",
    "    if type(i)==int or type(i)==float:\n",
    "        l3_num.append(i)\n",
    "    else:\n",
    "        l4_str.append(i)"
   ]
  },
  {
   "cell_type": "code",
   "execution_count": 60,
   "id": "078c78a7-6f7f-49fe-bafc-195694ae41e3",
   "metadata": {},
   "outputs": [
    {
     "data": {
      "text/plain": [
       "[1, 2, 4, 5, 4, 5, 822.0888, 899]"
      ]
     },
     "execution_count": 60,
     "metadata": {},
     "output_type": "execute_result"
    }
   ],
   "source": [
    "l3_num"
   ]
  },
  {
   "cell_type": "code",
   "execution_count": 62,
   "id": "9e67d6cf-76c4-4733-aa59-310355b38851",
   "metadata": {},
   "outputs": [
    {
     "data": {
      "text/plain": [
       "['nnjjnh', 'njhmmh']"
      ]
     },
     "execution_count": 62,
     "metadata": {},
     "output_type": "execute_result"
    }
   ],
   "source": [
    "l4_str"
   ]
  },
  {
   "cell_type": "code",
   "execution_count": null,
   "id": "a90c81a0-23c1-429e-bd27-057e73a212e3",
   "metadata": {},
   "outputs": [],
   "source": []
  }
 ],
 "metadata": {
  "kernelspec": {
   "display_name": "Python [conda env:base] *",
   "language": "python",
   "name": "conda-base-py"
  },
  "language_info": {
   "codemirror_mode": {
    "name": "ipython",
    "version": 3
   },
   "file_extension": ".py",
   "mimetype": "text/x-python",
   "name": "python",
   "nbconvert_exporter": "python",
   "pygments_lexer": "ipython3",
   "version": "3.12.7"
  }
 },
 "nbformat": 4,
 "nbformat_minor": 5
}
