{
 "cells": [
  {
   "cell_type": "code",
   "execution_count": 30,
   "id": "1fbac8fe-4bdc-4a08-ba86-ded6c4b2bc23",
   "metadata": {},
   "outputs": [
    {
     "name": "stdout",
     "output_type": "stream",
     "text": [
      "Before the function call\n",
      "Hello, world!\n",
      "After the function call\n"
     ]
    }
   ],
   "source": [
    "# decorators- function that modifies the behavior of another function without changing its code. \n",
    "# It allows us to wrap a function and execute code before or after it runs\n",
    "\n",
    "# Define a decorator function\n",
    "def my_decorator(func):\n",
    "    def abc():\n",
    "        print(\"Before the function call\")  # Code before function execution\n",
    "        func()               # Takes the value from the decorator class, here below it is present as @my_decorator\n",
    "        print(\"After the function call\")  # Code after function execution\n",
    "    return abc\n",
    "    \n",
    "# Apply decorator using @\n",
    "@my_decorator\n",
    "def greet():\n",
    "    print(\"Hello, world!\")\n",
    "\n",
    "# Call the function\n",
    "greet()"
   ]
  },
  {
   "cell_type": "code",
   "execution_count": 26,
   "id": "ed5c2e26-7c90-4f40-ae10-a24e25626c02",
   "metadata": {},
   "outputs": [
    {
     "name": "stdout",
     "output_type": "stream",
     "text": [
      "This function has started\n",
      "13\n",
      "This function has ended\n"
     ]
    }
   ],
   "source": [
    "# suppose we want each lines to be executed, normally we have to write one by one line\n",
    "def test():\n",
    "    print(\"This function has started\")\n",
    "    print(\"This function is for test\")\n",
    "    print(8+9)\n",
    "    print(\"This function has ended\")\n",
    "    \n",
    "def deco(func):\n",
    "    def inner_dec():\n",
    "        print(\"This function has started\")\n",
    "        func()\n",
    "        print(\"This function has ended\")\n",
    "    return inner_dec\n",
    "    \n",
    "# Apply decorator using @\n",
    "@deco           # writing any class with @ will be now treated as decorator \n",
    "                # now the deco class will also get executed with our test1 class\n",
    "                # \n",
    "def test1():\n",
    "    print(6+7)\n",
    "test1()"
   ]
  },
  {
   "cell_type": "code",
   "execution_count": 4,
   "id": "400f4d24-b550-4a86-a119-1942a1c2fe28",
   "metadata": {},
   "outputs": [
    {
     "name": "stdout",
     "output_type": "stream",
     "text": [
      "68866200874.47424\n",
      "0.0012371540069580078\n"
     ]
    }
   ],
   "source": [
    "# suppose we want to konw how much time a function is taking to get executed\n",
    "import time \n",
    "\n",
    "def timer_test(func):\n",
    "    def timer_test_inner ():\n",
    "        start = time.time()\n",
    "        func()\n",
    "        end = time.time()\n",
    "        print(end-start)\n",
    "    return timer_test_inner\n",
    "# e.g. 1   \n",
    "@timer_test\n",
    "def test2():\n",
    "    print (8+8*98*894944*8824942/89912)\n",
    "test2()"
   ]
  },
  {
   "cell_type": "code",
   "execution_count": 8,
   "id": "c4a8ebbf-b0d4-439c-9470-18194a647252",
   "metadata": {},
   "outputs": [
    {
     "name": "stdout",
     "output_type": "stream",
     "text": [
      "0.032166481018066406\n"
     ]
    }
   ],
   "source": [
    "# e.g. 2\n",
    "@timer_test\n",
    "def test3():\n",
    "    for i in range(999999):\n",
    "        pass\n",
    "test3()"
   ]
  },
  {
   "cell_type": "code",
   "execution_count": null,
   "id": "6c318b4e-5ec4-4a3c-9a0a-970449c6d8c8",
   "metadata": {},
   "outputs": [],
   "source": []
  }
 ],
 "metadata": {
  "kernelspec": {
   "display_name": "Python [conda env:base] *",
   "language": "python",
   "name": "conda-base-py"
  },
  "language_info": {
   "codemirror_mode": {
    "name": "ipython",
    "version": 3
   },
   "file_extension": ".py",
   "mimetype": "text/x-python",
   "name": "python",
   "nbconvert_exporter": "python",
   "pygments_lexer": "ipython3",
   "version": "3.12.7"
  }
 },
 "nbformat": 4,
 "nbformat_minor": 5
}
