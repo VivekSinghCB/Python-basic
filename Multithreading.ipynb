{
 "cells": [
  {
   "cell_type": "code",
   "execution_count": 22,
   "id": "27a3ad18-28e5-42ec-aa71-d33718e5f791",
   "metadata": {},
   "outputs": [
    {
     "name": "stdout",
     "output_type": "stream",
     "text": [
      "Prog starts %d 0\n",
      "Prog starts %d 1\n",
      "Prog starts %d 2\n",
      "Prog starts %d 3\n",
      "Prog starts %d 4\n",
      "Prog starts %d 5\n",
      "Prog starts %d 6\n",
      "Prog starts %d 7\n",
      "Prog starts %d 8\n",
      "Prog starts %d 9\n"
     ]
    }
   ],
   "source": [
    "# Multithreading- Multithreading is a technique that allows a program to run multiple threads (smaller units of a process) simultaneously, helping achieve concurrency\n",
    " # suppose we have octa-core ( 8 blocks) processor, Multithreading allows us to run multiple programs simultaneously in a single block of our octa core processor\n",
    " # Uses multiple threads within a single process, Shared memory (easier communication but risk of race conditions), A thread crash may affect the entire program\n",
    "import threading  # Importing the threading module to create and manage threads\n",
    "\n",
    "def test(id):  # Defining a function that takes an ID as an argument\n",
    "    print(\"Prog starts %d\", id)  # Printing the message with the thread ID (incorrect format, should use f-string or .format())\n",
    "\n",
    "# Creating a list of threads using list comprehension\n",
    "threads = [threading.Thread(target=test, args=(i,)) for i in range(10)]  \n",
    "# Each thread will execute the 'test' function with 'i' as an argument 10 times\n",
    "\n",
    "for t in threads:  # Looping through the created threads\n",
    "    t.start()  # Starting each thread to run concurrently"
   ]
  },
  {
   "cell_type": "code",
   "execution_count": 24,
   "id": "555dd2f1-95e2-410a-adc1-cedb0697b364",
   "metadata": {},
   "outputs": [
    {
     "data": {
      "text/plain": [
       "[0, 1, 2, 3, 4, 5, 6, 7, 8, 9]"
      ]
     },
     "execution_count": 24,
     "metadata": {},
     "output_type": "execute_result"
    }
   ],
   "source": [
    "list(range(10))"
   ]
  },
  {
   "cell_type": "code",
   "execution_count": 26,
   "id": "bd2ac88e-2f72-43bb-94e7-46afd7403a45",
   "metadata": {},
   "outputs": [
    {
     "data": {
      "text/plain": [
       "[<Thread(Thread-15 (test), stopped 4332)>,\n",
       " <Thread(Thread-16 (test), stopped 7684)>,\n",
       " <Thread(Thread-17 (test), stopped 8840)>,\n",
       " <Thread(Thread-18 (test), stopped 8120)>,\n",
       " <Thread(Thread-19 (test), stopped 23344)>,\n",
       " <Thread(Thread-20 (test), stopped 11644)>,\n",
       " <Thread(Thread-21 (test), stopped 16680)>,\n",
       " <Thread(Thread-22 (test), stopped 11440)>,\n",
       " <Thread(Thread-23 (test), stopped 17488)>,\n",
       " <Thread(Thread-24 (test), stopped 21788)>]"
      ]
     },
     "execution_count": 26,
     "metadata": {},
     "output_type": "execute_result"
    }
   ],
   "source": [
    "thread"
   ]
  },
  {
   "cell_type": "code",
   "execution_count": 28,
   "id": "f7c8862a-b210-4b40-8f1d-c090c8924008",
   "metadata": {},
   "outputs": [
    {
     "data": {
      "text/plain": [
       "1897389645824"
      ]
     },
     "execution_count": 28,
     "metadata": {},
     "output_type": "execute_result"
    }
   ],
   "source": [
    "id(thread)"
   ]
  },
  {
   "cell_type": "code",
   "execution_count": null,
   "id": "16267b2e-f439-4cda-b847-3033bd93c87b",
   "metadata": {},
   "outputs": [],
   "source": []
  },
  {
   "cell_type": "code",
   "execution_count": 48,
   "id": "6309a76f-fe6d-4b59-a089-db53780a31e5",
   "metadata": {},
   "outputs": [],
   "source": [
    "# fetching data from different url (e.g. from 3 different url)  and store it in our loacal system\n",
    "import threading  # Importing the threading module to enable multithreading\n",
    "import urllib.request  # Importing urllib.request to download files from URLs\n",
    "\n",
    "# Function to download a file from a given URL and save it with the specified filename\n",
    "def file_download(url, filename):  \n",
    "    urllib.request.urlretrieve(url, filename)  # Retrieves and saves the file from the URL\n",
    "\n",
    "# List of URLs to download text files from\n",
    "url_list = [\n",
    "    'https://byjus.com/biology/proteins/.txt',\n",
    "    'https://www.betterhealth.vic.gov.au/health/healthyliving/protein.txt',\n",
    "    'https://www.britannica.com/science/protein.txt'\n",
    "]   \n",
    "\n",
    "# List of filenames corresponding to the downloaded files\n",
    "file_name_list = ['data1.txt', 'data2.txt', 'data3.txt']\n",
    "\n",
    "# Creating a list of threads, each assigned to download one file\n",
    "ther = [threading.Thread(target=file_download, args=(url_list[i], file_name_list[i])) for i in range(len(url_list))]\n",
    "\n",
    "# ther  # Uncomment this line to check the assigned thread objects\n",
    "\n",
    "# Starting each thread in the list\n",
    "for t in ther:  \n",
    "    t.start()  # Starts the execution of each thread"
   ]
  },
  {
   "cell_type": "code",
   "execution_count": 50,
   "id": "8eab0ea6-429e-4f78-91c7-e6515f239d86",
   "metadata": {},
   "outputs": [
    {
     "data": {
      "text/plain": [
       "[<Thread(Thread-50 (file_download), stopped 6492)>,\n",
       " <Thread(Thread-51 (file_download), stopped 17992)>,\n",
       " <Thread(Thread-52 (file_download), stopped 8996)>]"
      ]
     },
     "execution_count": 50,
     "metadata": {},
     "output_type": "execute_result"
    }
   ],
   "source": [
    "# if want to check the assigned thread details \n",
    "ther"
   ]
  },
  {
   "cell_type": "code",
   "execution_count": null,
   "id": "2efff649-f60b-4642-a1d9-81f908eed060",
   "metadata": {},
   "outputs": [],
   "source": []
  },
  {
   "cell_type": "code",
   "execution_count": 57,
   "id": "25c78ccd-f608-4a9f-92d3-98282f0458b8",
   "metadata": {},
   "outputs": [
    {
     "name": "stdout",
     "output_type": "stream",
     "text": [
      "test1 1 printing 0\n",
      "test1 1 printing 1\n",
      "test1 1 printing 2\n",
      "test1 1 printing 3\n",
      "test1 1 printing 4\n",
      "test1 1 printing 5\n",
      "test1 1 printing 6\n",
      "test1 1 printing 7\n",
      "test1 1 printing 8\n",
      "test1 1 printing 9\n"
     ]
    }
   ],
   "source": [
    "import threading  # Importing the threading module for multithreading support\n",
    "import time  # Importing the time module to use sleep() for delaying execution\n",
    "\n",
    "# Defining a function that takes an ID as an argument\n",
    "def test1(id):  \n",
    "    for i in range(10):  # Loop runs 10 times\n",
    "        print(\"test1 %d printing %d\" % (id, i))  # Prints the ID and the loop index\n",
    "        time.sleep(1)  # Pauses execution for 1 second in each iteration\n",
    "# Calling the function with ID = 1\n",
    "test1(1)"
   ]
  },
  {
   "cell_type": "code",
   "execution_count": 87,
   "id": "d730a1fb-5af2-46cc-93c4-b28625927bb7",
   "metadata": {},
   "outputs": [
    {
     "name": "stdout",
     "output_type": "stream",
     "text": [
      "test1 0 printing 0 Tue Mar 25 14:55:08 2025\n",
      "test1 1 printing 0 Tue Mar 25 14:55:08 2025\n",
      "test1 2 printing 0 Tue Mar 25 14:55:08 2025\n",
      "test1 0 printing 1 Tue Mar 25 14:55:11 2025\n",
      "test1 1 printing 1 Tue Mar 25 14:55:11 2025\n",
      "test1 2 printing 1 Tue Mar 25 14:55:11 2025\n",
      "test1 0 printing 2 Tue Mar 25 14:55:14 2025\n",
      "test1 1 printing 2 Tue Mar 25 14:55:14 2025\n",
      "test1 2 printing 2 Tue Mar 25 14:55:14 2025\n",
      "test1 0 printing 3 Tue Mar 25 14:55:17 2025test1 2 printing 3 Tue Mar 25 14:55:17 2025\n",
      "\n",
      "test1 1 printing 3 Tue Mar 25 14:55:17 2025\n",
      "test1 2 printing 4 Tue Mar 25 14:55:20 2025\n",
      "test1 0 printing 4 Tue Mar 25 14:55:20 2025\n",
      "test1 1 printing 4 Tue Mar 25 14:55:20 2025\n",
      "test1 0 printing 5 Tue Mar 25 14:55:23 2025test1 2 printing 5 Tue Mar 25 14:55:23 2025\n",
      "\n",
      "test1 1 printing 5 Tue Mar 25 14:55:23 2025\n",
      "test1 0 printing 6 Tue Mar 25 14:55:26 2025test1 2 printing 6 Tue Mar 25 14:55:26 2025\n",
      "\n",
      "test1 1 printing 6 Tue Mar 25 14:55:26 2025\n",
      "test1 0 printing 7 Tue Mar 25 14:55:29 2025test1 2 printing 7 Tue Mar 25 14:55:29 2025\n",
      "\n",
      "test1 1 printing 7 Tue Mar 25 14:55:29 2025\n",
      "test1 2 printing 8 Tue Mar 25 14:55:32 2025test1 0 printing 8 Tue Mar 25 14:55:32 2025\n",
      "\n",
      "test1 1 printing 8 Tue Mar 25 14:55:32 2025\n",
      "test1 2 printing 9 Tue Mar 25 14:55:35 2025test1 0 printing 9 Tue Mar 25 14:55:35 2025\n",
      "\n",
      "test1 1 printing 9 Tue Mar 25 14:55:35 2025\n"
     ]
    }
   ],
   "source": [
    "# importance of 'time.sleep()' function- Reduces CPU usage, Controls execution speed,  Simulates real-world delays etc.\n",
    "\n",
    "import threading  # Importing the threading module for multithreading support\n",
    "import time  # Importing the time module to use sleep() for delaying execution\n",
    "\n",
    "# Defining a function that takes an ID as an argument\n",
    "def test1(id):  \n",
    "    for i in range(10):  # Loop runs 10 times\n",
    "        print(\"test1 %d printing %d %s\"  %(id, i, time.ctime()))  # Prints the ID and the loop index with time stamp\n",
    "        time.sleep(3) # it will give 3sec. time for 1 id to get executed\n",
    "thread1 = [threading.Thread(target=test1 , args=(i,)) for i in range (3)]   # here we are giving id=3, means 0,1,2 and it will be executed from 0-9 (for each id) as we have given the range=10\n",
    "for t in thread1:\n",
    "    t.start()\n",
    "    \n",
    "for t in thread1:  # Ensuring all threads complete before the program exits\n",
    "    t.join()  # Waits for thread to finish before continuing"
   ]
  },
  {
   "cell_type": "code",
   "execution_count": 85,
   "id": "897ff801-1991-433e-8718-b1b833c56863",
   "metadata": {},
   "outputs": [
    {
     "name": "stdout",
     "output_type": "stream",
     "text": [
      "test2 0 printing 0 Tue Mar 25 14:53:55 2025\n",
      "test2 0 printing 1 Tue Mar 25 14:53:55 2025\n",
      "test2 0 printing 2 Tue Mar 25 14:53:55 2025\n",
      "test2 0 printing 3 Tue Mar 25 14:53:55 2025\n",
      "test2 0 printing 4 Tue Mar 25 14:53:55 2025\n",
      "test2 0 printing 5 Tue Mar 25 14:53:55 2025\n",
      "test2 0 printing 6 Tue Mar 25 14:53:55 2025\n",
      "test2 0 printing 7 Tue Mar 25 14:53:55 2025\n",
      "test2 0 printing 8 Tue Mar 25 14:53:55 2025\n",
      "test2 0 printing 9 Tue Mar 25 14:53:55 2025\n",
      "test2 1 printing 0 Tue Mar 25 14:53:55 2025\n",
      "test2 1 printing 1 Tue Mar 25 14:53:55 2025\n",
      "test2 1 printing 2 Tue Mar 25 14:53:55 2025\n",
      "test2 1 printing 3 Tue Mar 25 14:53:55 2025\n",
      "test2 1 printing 4 Tue Mar 25 14:53:55 2025\n",
      "test2 1 printing 5 Tue Mar 25 14:53:55 2025\n",
      "test2 1 printing 6 Tue Mar 25 14:53:55 2025\n",
      "test2 1 printing 7 Tue Mar 25 14:53:55 2025\n",
      "test2 1 printing 8 Tue Mar 25 14:53:55 2025\n",
      "test2 1 printing 9 Tue Mar 25 14:53:55 2025\n",
      "test2 2 printing 0 Tue Mar 25 14:53:55 2025\n",
      "test2 2 printing 1 Tue Mar 25 14:53:55 2025\n",
      "test2 2 printing 2 Tue Mar 25 14:53:55 2025\n",
      "test2 2 printing 3 Tue Mar 25 14:53:55 2025\n",
      "test2 2 printing 4 Tue Mar 25 14:53:55 2025\n",
      "test2 2 printing 5 Tue Mar 25 14:53:55 2025\n",
      "test2 2 printing 6 Tue Mar 25 14:53:55 2025\n",
      "test2 2 printing 7 Tue Mar 25 14:53:55 2025\n",
      "test2 2 printing 8 Tue Mar 25 14:53:55 2025\n",
      "test2 2 printing 9 Tue Mar 25 14:53:55 2025\n"
     ]
    }
   ],
   "source": [
    "# comment out the 'time.sleep()' function- \n",
    "  # all id will get executed at once, with time stamp {check the modified line of-  print(\"test1 %d printing %d %s\" % (id, i, time.ctime())) }\n",
    "import threading  # Importing the threading module for multithreading support\n",
    "import time  # Importing the time module to use sleep() for delaying execution\n",
    "\n",
    "# Defining a function that takes an ID as an argument\n",
    "def test2(id):  \n",
    "    for i in range(10):  # Loop runs 10 times\n",
    "        print(\"test2 %d printing %d %s\" % (id, i, time.ctime()))  # Prints the ID and the loop index with time stamp\n",
    "        #time.sleep(1) # it will give 1sec. time for 1 id to get executed\n",
    "thread1 = [threading.Thread(target=test2 , args=(i,)) for i in range (3)]   # here we are giving id=3, means 0,1,2 and it will be executed from 0-9 (for each id) as we have given the range=10\n",
    "for t in thread1:\n",
    "    t.start()\n",
    "    \n",
    "for t in thread1:  # Ensuring all threads complete before the program exits\n",
    "    t.join()  # Waits for thread to finish before continuing"
   ]
  },
  {
   "cell_type": "code",
   "execution_count": null,
   "id": "393b67b6-0851-4f12-bb0d-8f1e91274e10",
   "metadata": {},
   "outputs": [],
   "source": []
  },
  {
   "cell_type": "code",
   "execution_count": 110,
   "id": "414023e1-2186-4600-b83f-58f36285edbe",
   "metadata": {},
   "outputs": [
    {
     "name": "stdout",
     "output_type": "stream",
     "text": [
      "test3 thread 0 has increased the shared variable to 1\n",
      "test3 thread 1 has increased the shared variable to 2\n",
      "test3 thread 2 has increased the shared variable to 3\n"
     ]
    }
   ],
   "source": [
    "import threading  # Import threading module to enable multithreading\n",
    "shared_var = 0  # Global shared variable initialized to 0\n",
    "lock_var = threading.Lock()  # Create a lock to prevent race conditions when modifying shared_var\n",
    "\n",
    "def test3(id):  # Define a function that takes an ID as an argument\n",
    "    global shared_var  # Declare shared_var as global to modify it inside the function\n",
    "    with lock_var:  # Use the lock to ensure only one thread modifies shared_var at a time\n",
    "        shared_var = shared_var + 1  # Increment the shared variable\n",
    "        print(\"test3 thread %d has increased the shared variable to %d\" % (id, shared_var))  \n",
    "        # Print the thread ID and updated value of shared_var\n",
    "\n",
    "# Create a list of threads (3 threads) using a list comprehension\n",
    "ther3 = [threading.Thread(target=test3, args=(i,)) for i in range(3)]  \n",
    "\n",
    "# Iterate through the list and start each thread\n",
    "for t in ther3:\n",
    "    t.start() "
   ]
  },
  {
   "cell_type": "code",
   "execution_count": null,
   "id": "ca67265b-5c8b-4afa-9781-cc4c4cf31cd8",
   "metadata": {},
   "outputs": [],
   "source": []
  }
 ],
 "metadata": {
  "kernelspec": {
   "display_name": "Python [conda env:base] *",
   "language": "python",
   "name": "conda-base-py"
  },
  "language_info": {
   "codemirror_mode": {
    "name": "ipython",
    "version": 3
   },
   "file_extension": ".py",
   "mimetype": "text/x-python",
   "name": "python",
   "nbconvert_exporter": "python",
   "pygments_lexer": "ipython3",
   "version": "3.12.7"
  }
 },
 "nbformat": 4,
 "nbformat_minor": 5
}
