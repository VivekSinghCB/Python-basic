{
 "cells": [
  {
   "cell_type": "code",
   "execution_count": 4,
   "id": "fc448fe5-4ad5-4eb9-b3c1-19a917871a86",
   "metadata": {},
   "outputs": [],
   "source": [
    "# Encapsulation- refers to binding data (variables) and methods (functions) into a single unit (class) and \n",
    "  # restricting direct access to some details of an object\n",
    "class test:\n",
    "    def __init__(self , a,b):\n",
    "        self.a=a\n",
    "        self.b=b\n",
    "t=test(4,8)\n",
    "t.a=7556"
   ]
  },
  {
   "cell_type": "code",
   "execution_count": 6,
   "id": "5f1b59f9-facc-4b9c-98f9-aaeb6a598f9a",
   "metadata": {},
   "outputs": [
    {
     "data": {
      "text/plain": [
       "7556"
      ]
     },
     "execution_count": 6,
     "metadata": {},
     "output_type": "execute_result"
    }
   ],
   "source": [
    "t.a  # after writing t. if we will press Tab button then we can see the variable present inside"
   ]
  },
  {
   "cell_type": "code",
   "execution_count": 20,
   "id": "22afb1dc-3892-4767-9410-16d9b36bd605",
   "metadata": {},
   "outputs": [],
   "source": [
    "class car:\n",
    "    def __init__(self, year, make, model, speed):\n",
    "        self.__year=year   # after self. we give '__' to hide a varibale \n",
    "        self.__make=make\n",
    "        self.__model=model\n",
    "        self.__speed=0\n",
    "c=car(1998,\"Toyata\", \"Innova\", 12)"
   ]
  },
  {
   "cell_type": "code",
   "execution_count": 24,
   "id": "562b93df-9ca7-4b43-91bf-a94faffb1f09",
   "metadata": {},
   "outputs": [
    {
     "data": {
      "text/plain": [
       "1998"
      ]
     },
     "execution_count": 24,
     "metadata": {},
     "output_type": "execute_result"
    }
   ],
   "source": [
    "# after writing c. if we will press Tab button then we CAN'T see the variable present inside as it is encapsulated\n",
    "# the data can only be accessed when it will be in the format of c._car__year \n",
    "c._car__year"
   ]
  },
  {
   "cell_type": "code",
   "execution_count": 28,
   "id": "be03dabb-d17c-4a2a-8f8d-1a11d9f5ad12",
   "metadata": {},
   "outputs": [
    {
     "data": {
      "text/plain": [
       "'Toyata'"
      ]
     },
     "execution_count": 28,
     "metadata": {},
     "output_type": "execute_result"
    }
   ],
   "source": [
    "c._car__make"
   ]
  },
  {
   "cell_type": "code",
   "execution_count": 30,
   "id": "3e8d74b1-0ad0-4462-9458-63fca0f7b0d9",
   "metadata": {},
   "outputs": [
    {
     "data": {
      "text/plain": [
       "'Innova'"
      ]
     },
     "execution_count": 30,
     "metadata": {},
     "output_type": "execute_result"
    }
   ],
   "source": [
    "c._car__model"
   ]
  },
  {
   "cell_type": "code",
   "execution_count": 32,
   "id": "5ddd8362-1278-4d6d-bc41-48cb3075e870",
   "metadata": {},
   "outputs": [
    {
     "data": {
      "text/plain": [
       "0"
      ]
     },
     "execution_count": 32,
     "metadata": {},
     "output_type": "execute_result"
    }
   ],
   "source": [
    "c._car__speed"
   ]
  },
  {
   "cell_type": "code",
   "execution_count": 22,
   "id": "698cf033-34d4-491c-9cf5-e0a43b8429eb",
   "metadata": {},
   "outputs": [],
   "source": [
    "class Car:\n",
    "    def __init__(self, year, make, model, speed):  \n",
    "        # Private attributes (Encapsulation) - cannot be accessed directly\n",
    "        self.__year = year  \n",
    "        self.__make = make\n",
    "        self.__model = model\n",
    "        self.__speed = 0  # Speed is set to 0 initially\n",
    "\n",
    "    # Setter method to modify speed (Controlled access to private variable)\n",
    "    def set_speed(self, speed):  \n",
    "        \"\"\"Ensures speed is not negative before setting\"\"\"\n",
    "        self.__speed = 0 if speed < 0 else speed  \n",
    "\n",
    "    # Getter method to retrieve speed (Controlled access to private variable)\n",
    "    def get_speed(self):  \n",
    "        \"\"\"Returns the current speed\"\"\"\n",
    "        return self.__speed  \n",
    "\n",
    "# Creating an object of the Car class\n",
    "c = Car(1998, \"Toyota\", \"Innova\", 12)  "
   ]
  },
  {
   "cell_type": "code",
   "execution_count": 24,
   "id": "0647b16d-3453-4eff-901f-037052206b33",
   "metadata": {},
   "outputs": [
    {
     "data": {
      "text/plain": [
       "0"
      ]
     },
     "execution_count": 24,
     "metadata": {},
     "output_type": "execute_result"
    }
   ],
   "source": [
    "c.set_speed(-89)\n",
    "c.get_speed()"
   ]
  },
  {
   "cell_type": "code",
   "execution_count": 26,
   "id": "e89a8e78-6bde-4184-be2d-d649326e36ae",
   "metadata": {},
   "outputs": [
    {
     "data": {
      "text/plain": [
       "89"
      ]
     },
     "execution_count": 26,
     "metadata": {},
     "output_type": "execute_result"
    }
   ],
   "source": [
    "c.set_speed(89)\n",
    "c.get_speed()"
   ]
  },
  {
   "cell_type": "code",
   "execution_count": 74,
   "id": "f5112f47-7ceb-4896-945e-8d87c2b27003",
   "metadata": {},
   "outputs": [],
   "source": [
    "class BankAccount:  # Class representing a bank account\n",
    "    def __init__(self, balance):\n",
    "        # Encapsulation: Making balance a private attribute using __ (double underscore)\n",
    "        self.__balance = balance  \n",
    "\n",
    "    # Public method to deposit money\n",
    "    def deposit(self, amount):\n",
    "        self.__balance = self.__balance + amount  # Accessing private variable inside the class\n",
    "\n",
    "    # Public method to withdraw money\n",
    "    def withdraw(self, amount):\n",
    "        # Encapsulation ensures balance can't be directly modified from outside\n",
    "        if self.__balance >= amount:  \n",
    "            self.__balance -= amount  # Deducting amount from private balance\n",
    "            return True  # Withdrawal successful\n",
    "        else:\n",
    "            return False  # Insufficient balance\n",
    "\n",
    "    # Public method to get the account balance\n",
    "    def get_balance(self):\n",
    "        return self.__balance  # Returns the private balance"
   ]
  },
  {
   "cell_type": "code",
   "execution_count": 76,
   "id": "45c1e774-6624-4867-a185-e428f5706200",
   "metadata": {},
   "outputs": [
    {
     "data": {
      "text/plain": [
       "8000"
      ]
     },
     "execution_count": 76,
     "metadata": {},
     "output_type": "execute_result"
    }
   ],
   "source": [
    "viv=bank_account(8000)\n",
    "viv.get_balance()"
   ]
  },
  {
   "cell_type": "code",
   "execution_count": 78,
   "id": "72b38c5b-3cd4-4a7c-bb1d-15ba40ec1f69",
   "metadata": {},
   "outputs": [
    {
     "data": {
      "text/plain": [
       "10000"
      ]
     },
     "execution_count": 78,
     "metadata": {},
     "output_type": "execute_result"
    }
   ],
   "source": [
    "viv.deposit(2000)\n",
    "viv.get_balance()"
   ]
  },
  {
   "cell_type": "code",
   "execution_count": 80,
   "id": "640fdedf-7fd7-4f08-a19d-bc4a77112743",
   "metadata": {},
   "outputs": [
    {
     "data": {
      "text/plain": [
       "True"
      ]
     },
     "execution_count": 80,
     "metadata": {},
     "output_type": "execute_result"
    }
   ],
   "source": [
    "viv.withdraw(5000)"
   ]
  },
  {
   "cell_type": "code",
   "execution_count": 82,
   "id": "3b59b040-f516-4d45-a156-283a8b997bae",
   "metadata": {},
   "outputs": [
    {
     "data": {
      "text/plain": [
       "5000"
      ]
     },
     "execution_count": 82,
     "metadata": {},
     "output_type": "execute_result"
    }
   ],
   "source": [
    "viv.get_balance()"
   ]
  },
  {
   "cell_type": "code",
   "execution_count": null,
   "id": "daf6e5ae-5879-4929-be03-7fbb29955f92",
   "metadata": {},
   "outputs": [],
   "source": []
  }
 ],
 "metadata": {
  "kernelspec": {
   "display_name": "Python [conda env:base] *",
   "language": "python",
   "name": "conda-base-py"
  },
  "language_info": {
   "codemirror_mode": {
    "name": "ipython",
    "version": 3
   },
   "file_extension": ".py",
   "mimetype": "text/x-python",
   "name": "python",
   "nbconvert_exporter": "python",
   "pygments_lexer": "ipython3",
   "version": "3.12.7"
  }
 },
 "nbformat": 4,
 "nbformat_minor": 5
}
