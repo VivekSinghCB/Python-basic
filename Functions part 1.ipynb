{
 "cells": [
  {
   "cell_type": "code",
   "execution_count": 6,
   "id": "2881f621-180c-4ba9-a25c-fd4c2d201ce0",
   "metadata": {},
   "outputs": [
    {
     "name": "stdout",
     "output_type": "stream",
     "text": [
      "Hello buddies !!\n"
     ]
    }
   ],
   "source": [
    "# Function-  is a block of reusable code that performs a specific task \n",
    "# in-build (print(), len(), sum(), type()), user defined \n",
    "\n",
    "def test1():              # def is used to define a function, test1 is the name of the function\n",
    "    print(\"Hello buddies !!\") # inside function this will be executed whenever the function (test1) will be called\n",
    "test1()"
   ]
  },
  {
   "cell_type": "code",
   "execution_count": 8,
   "id": "f5274e90-c4d0-4382-a1ff-d1518bcf3dac",
   "metadata": {},
   "outputs": [
    {
     "name": "stdout",
     "output_type": "stream",
     "text": [
      "Hello buddies !!\n"
     ]
    },
    {
     "ename": "TypeError",
     "evalue": "unsupported operand type(s) for +: 'NoneType' and 'str'",
     "output_type": "error",
     "traceback": [
      "\u001b[1;31m---------------------------------------------------------------------------\u001b[0m",
      "\u001b[1;31mTypeError\u001b[0m                                 Traceback (most recent call last)",
      "Cell \u001b[1;32mIn[8], line 1\u001b[0m\n\u001b[1;32m----> 1\u001b[0m test1()\u001b[38;5;241m+\u001b[39m\u001b[38;5;124m\"\u001b[39m\u001b[38;5;124mnfjjf\u001b[39m\u001b[38;5;124m\"\u001b[39m\n",
      "\u001b[1;31mTypeError\u001b[0m: unsupported operand type(s) for +: 'NoneType' and 'str'"
     ]
    }
   ],
   "source": [
    "test1()+\"nfjjf\" # whenever we will reuse our function having print it gives error \n",
    "                # as print always gives None data type and we are trying to concatenate a string to it"
   ]
  },
  {
   "cell_type": "code",
   "execution_count": 22,
   "id": "4f605ce2-fe5c-4392-9ecf-442b9ee6930d",
   "metadata": {},
   "outputs": [
    {
     "data": {
      "text/plain": [
       "' I am vivek '"
      ]
     },
     "execution_count": 22,
     "metadata": {},
     "output_type": "execute_result"
    }
   ],
   "source": [
    "# therefore we will use return instead of print\n",
    "def test2():\n",
    "    return(\" I am vivek \")\n",
    "test2()"
   ]
  },
  {
   "cell_type": "code",
   "execution_count": 24,
   "id": "d6d72069-c17d-410e-8908-8ca578b21de6",
   "metadata": {},
   "outputs": [
    {
     "data": {
      "text/plain": [
       "' I am vivek singh'"
      ]
     },
     "execution_count": 24,
     "metadata": {},
     "output_type": "execute_result"
    }
   ],
   "source": [
    "test2() + \"singh\""
   ]
  },
  {
   "cell_type": "code",
   "execution_count": 6,
   "id": "74b37e31-9c9f-49c5-b540-67a0da3c2c1c",
   "metadata": {},
   "outputs": [],
   "source": [
    "def test3():\n",
    "    return \"huuuf\",589,766.500,[7,9,23]"
   ]
  },
  {
   "cell_type": "code",
   "execution_count": 8,
   "id": "d554528e-70c6-456d-b13e-474e77255606",
   "metadata": {},
   "outputs": [
    {
     "data": {
      "text/plain": [
       "('huuuf', 589, 766.5, [7, 9, 23])"
      ]
     },
     "execution_count": 8,
     "metadata": {},
     "output_type": "execute_result"
    }
   ],
   "source": [
    "test3()"
   ]
  },
  {
   "cell_type": "code",
   "execution_count": 10,
   "id": "7bc4ff7e-f11f-4ecc-bfe7-faab12b84656",
   "metadata": {},
   "outputs": [],
   "source": [
    "a,b,c,d = test3() # making 4 variable for the different data types got from function"
   ]
  },
  {
   "cell_type": "code",
   "execution_count": 12,
   "id": "6bd7f56c-abf2-4194-b265-aaca66aab60f",
   "metadata": {},
   "outputs": [
    {
     "data": {
      "text/plain": [
       "'huuuf'"
      ]
     },
     "execution_count": 12,
     "metadata": {},
     "output_type": "execute_result"
    }
   ],
   "source": [
    "a"
   ]
  },
  {
   "cell_type": "code",
   "execution_count": 14,
   "id": "d1668807-6643-495e-ad9d-36cccbdcf070",
   "metadata": {},
   "outputs": [
    {
     "data": {
      "text/plain": [
       "589"
      ]
     },
     "execution_count": 14,
     "metadata": {},
     "output_type": "execute_result"
    }
   ],
   "source": [
    "b"
   ]
  },
  {
   "cell_type": "code",
   "execution_count": 16,
   "id": "171f7d9c-bc57-4a7c-9281-f7da033085b1",
   "metadata": {},
   "outputs": [
    {
     "data": {
      "text/plain": [
       "766.5"
      ]
     },
     "execution_count": 16,
     "metadata": {},
     "output_type": "execute_result"
    }
   ],
   "source": [
    "c"
   ]
  },
  {
   "cell_type": "code",
   "execution_count": 18,
   "id": "0f79b142-b363-4b08-85af-e6eef13bd3f0",
   "metadata": {},
   "outputs": [
    {
     "data": {
      "text/plain": [
       "[7, 9, 23]"
      ]
     },
     "execution_count": 18,
     "metadata": {},
     "output_type": "execute_result"
    }
   ],
   "source": [
    "d"
   ]
  },
  {
   "cell_type": "code",
   "execution_count": 20,
   "id": "84c9f87b-2e16-4c9d-b4cc-ddef482901b3",
   "metadata": {},
   "outputs": [
    {
     "data": {
      "text/plain": [
       "5.857142857142857"
      ]
     },
     "execution_count": 20,
     "metadata": {},
     "output_type": "execute_result"
    }
   ],
   "source": [
    "def test4():\n",
    "    a=5+6/7\n",
    "    return a\n",
    "test4()"
   ]
  },
  {
   "cell_type": "code",
   "execution_count": 24,
   "id": "c613ef6e-44c4-4a67-a32e-6b7d7a15678b",
   "metadata": {},
   "outputs": [
    {
     "data": {
      "text/plain": [
       "6.5"
      ]
     },
     "execution_count": 24,
     "metadata": {},
     "output_type": "execute_result"
    }
   ],
   "source": [
    "# taking input from user\n",
    "def test5(a,b,c): # giving argument in a function\n",
    "    d=a+b/c\n",
    "    return d\n",
    "test5(4,5,2) # giving argument values for a,b,c"
   ]
  },
  {
   "cell_type": "code",
   "execution_count": 26,
   "id": "b5f9b40b-2b14-496c-813d-57b691be590b",
   "metadata": {},
   "outputs": [
    {
     "data": {
      "text/plain": [
       "9"
      ]
     },
     "execution_count": 26,
     "metadata": {},
     "output_type": "execute_result"
    }
   ],
   "source": [
    "def test6(a,b):\n",
    "    return a+b\n",
    "test6(4,5)"
   ]
  },
  {
   "cell_type": "code",
   "execution_count": 34,
   "id": "f0d3e3cf-3948-4628-ac27-932f5130102c",
   "metadata": {},
   "outputs": [
    {
     "data": {
      "text/plain": [
       "'Helloeveryone'"
      ]
     },
     "execution_count": 34,
     "metadata": {},
     "output_type": "execute_result"
    }
   ],
   "source": [
    "test6 (\"Hello\" , \"everyone\") # if we give a string it will concatenate as we have used + in our test6 function"
   ]
  },
  {
   "cell_type": "code",
   "execution_count": 36,
   "id": "7d76b480-6c68-475e-95c0-08d6ca30cfd3",
   "metadata": {},
   "outputs": [
    {
     "data": {
      "text/plain": [
       "[7, 9, 5, 7, 66, 78, 89, 5, 36, 89, 7]"
      ]
     },
     "execution_count": 36,
     "metadata": {},
     "output_type": "execute_result"
    }
   ],
   "source": [
    "test6([7,9,5,7,66,78], [89,5,36,89,7]) # giving list it will concatenate as we have used + in our test6 function"
   ]
  },
  {
   "cell_type": "code",
   "execution_count": 51,
   "id": "a227f4c0-ad82-4f9a-ba81-84626f756534",
   "metadata": {},
   "outputs": [
    {
     "data": {
      "text/plain": [
       "[88, 6, 85, 5, 5, 79]"
      ]
     },
     "execution_count": 51,
     "metadata": {},
     "output_type": "execute_result"
    }
   ],
   "source": [
    "# write a function that extracts the int or float list from the given list below\n",
    "# extracting int or float values present\n",
    "l = [88, 6, 85, 5, 5, 79, \"njitko\", \"ieokpr\", [9.5, 6, 2, 5, 3, 78, 89.5]]\n",
    "\n",
    "def test7(l):\n",
    "    l1 = []  # Assigning a blank list to hold the output in a list\n",
    "    for i in l:\n",
    "        if type(i)==int or type(i)==float:  # Using type() to check data type\n",
    "            l1.append(i)\n",
    "    return l1 \n",
    "\n",
    "test7(l)"
   ]
  },
  {
   "cell_type": "code",
   "execution_count": 71,
   "id": "8c854baa-88c9-46b6-a992-92e9126c881a",
   "metadata": {},
   "outputs": [
    {
     "data": {
      "text/plain": [
       "[88, 6, 85, 5, 5, 79, [9.5, 6, 2, 5, 3, 78, 89.5]]"
      ]
     },
     "execution_count": 71,
     "metadata": {},
     "output_type": "execute_result"
    }
   ],
   "source": [
    "# extracting int or float or list values present\n",
    "l = [88, 6, 85, 5, 5, 79, \"njitko\", \"ieokpr\", [9.5, 6, 2, 5, 3, 78, 89.5]]\n",
    "\n",
    "def test7(l):\n",
    "    l1 = []  # Assigning a blank list to hold the output in a list\n",
    "    for i in l:\n",
    "        if type(i)==int or type(i)==float or type(i)==list:  # Check if element is a number or list\n",
    "    return l1\n",
    "\n",
    "test7(l)\n"
   ]
  },
  {
   "cell_type": "code",
   "execution_count": 75,
   "id": "75c00df4-a777-4bb1-a5ce-461f4ddb327a",
   "metadata": {},
   "outputs": [
    {
     "data": {
      "text/plain": [
       "[88, 6, 85, 5, 5, 79, 'njitko', 'ieokpr', [9.5, 6, 2, 5, 3, 78, 89.5]]"
      ]
     },
     "execution_count": 75,
     "metadata": {},
     "output_type": "execute_result"
    }
   ],
   "source": [
    "# extracting all present\n",
    "# writing doc string to make our function more meaningful, we have just to write our function work enclosed within \"\"\"\n",
    "# the function work can be checked using Shift+Tab as done for others\n",
    "\n",
    "l = [88, 6, 85, 5, 5, 79, \"njitko\", \"ieokpr\", [9.5, 6, 2, 5, 3, 78, 89.5]]\n",
    "\n",
    "def test8(l):\n",
    "    # writing a docstring\n",
    "    \"\"\"This function works as to extract all the elements present in a list\"\"\"\n",
    "    l1 = []  # Assigning a blank list to hold the output in a list\n",
    "    for i in l:\n",
    "        if type(i)==int or type(i)==float or type(i)==list or type(i)==str:  # Check if element is a number or list or string\n",
    "            l1.append(i)\n",
    "    return l1\n",
    "\n",
    "test8(l)"
   ]
  },
  {
   "cell_type": "code",
   "execution_count": 77,
   "id": "330e70bc-5a87-44a8-a97e-39093422237b",
   "metadata": {},
   "outputs": [
    {
     "data": {
      "text/plain": [
       "()"
      ]
     },
     "execution_count": 77,
     "metadata": {},
     "output_type": "execute_result"
    }
   ],
   "source": [
    "# making parameter dynamic\n",
    "# * is used so that we can pass n numbers of argument (in the form of tuple) inside a function\n",
    "# args can be replaced by any words but it has to be used with *\n",
    "def test9(*args):\n",
    "    return args\n",
    "test9() "
   ]
  },
  {
   "cell_type": "code",
   "execution_count": 79,
   "id": "12edcfe2-3257-45ef-a4ff-58c179c41b44",
   "metadata": {},
   "outputs": [
    {
     "data": {
      "text/plain": [
       "tuple"
      ]
     },
     "execution_count": 79,
     "metadata": {},
     "output_type": "execute_result"
    }
   ],
   "source": [
    "type(test9())"
   ]
  },
  {
   "cell_type": "code",
   "execution_count": 81,
   "id": "02ce2a41-c610-4915-a939-c2d85a309c16",
   "metadata": {},
   "outputs": [
    {
     "data": {
      "text/plain": [
       "(7, 8, 9)"
      ]
     },
     "execution_count": 81,
     "metadata": {},
     "output_type": "execute_result"
    }
   ],
   "source": [
    "test9(7,8,9)"
   ]
  },
  {
   "cell_type": "code",
   "execution_count": 85,
   "id": "d7533166-aa07-4152-ad59-72c9faab1bee",
   "metadata": {},
   "outputs": [
    {
     "data": {
      "text/plain": [
       "(78, 9, 46, 'hhij', 86.59, [87, 89, 66, 9, 29])"
      ]
     },
     "execution_count": 85,
     "metadata": {},
     "output_type": "execute_result"
    }
   ],
   "source": [
    "test9(78,9,46,\"hhij\",86.59,[87,89,66,9,29])"
   ]
  },
  {
   "cell_type": "code",
   "execution_count": 87,
   "id": "aff56c2c-a387-4b96-b8bd-e169642b46d2",
   "metadata": {},
   "outputs": [
    {
     "data": {
      "text/plain": [
       "()"
      ]
     },
     "execution_count": 87,
     "metadata": {},
     "output_type": "execute_result"
    }
   ],
   "source": [
    "# args can be replaced by any words but it has to be used with *\n",
    "def test10(*viv):\n",
    "    return viv\n",
    "test10()"
   ]
  },
  {
   "cell_type": "code",
   "execution_count": 89,
   "id": "8df4c680-dead-47f3-954d-d36f25eef421",
   "metadata": {},
   "outputs": [
    {
     "data": {
      "text/plain": [
       "(89.697, 78, 96, 36, 78, 'hjtii', 'jio', [7, 9, 86, 4], {2, 7, 78, 89})"
      ]
     },
     "execution_count": 89,
     "metadata": {},
     "output_type": "execute_result"
    }
   ],
   "source": [
    "test10(89.697,78,96,36,78,\"hjtii\", \"jio\", [7,9,86,4,], {78,89,2,7})"
   ]
  },
  {
   "cell_type": "code",
   "execution_count": 91,
   "id": "c6bf6e75-f0d3-489d-84c5-9d9a207a0ecf",
   "metadata": {},
   "outputs": [
    {
     "ename": "NameError",
     "evalue": "name 'test' is not defined",
     "output_type": "error",
     "traceback": [
      "\u001b[1;31m---------------------------------------------------------------------------\u001b[0m",
      "\u001b[1;31mNameError\u001b[0m                                 Traceback (most recent call last)",
      "Cell \u001b[1;32mIn[91], line 4\u001b[0m\n\u001b[0;32m      2\u001b[0m \u001b[38;5;28;01mdef\u001b[39;00m \u001b[38;5;21mtest11\u001b[39m(\u001b[38;5;241m*\u001b[39mviv, a):\n\u001b[0;32m      3\u001b[0m     \u001b[38;5;28;01mreturn\u001b[39;00m viv, a\n\u001b[1;32m----> 4\u001b[0m test(\u001b[38;5;241m11\u001b[39m)\n",
      "\u001b[1;31mNameError\u001b[0m: name 'test' is not defined"
     ]
    }
   ],
   "source": [
    "# multiple return\n",
    "def test11(*viv, a):\n",
    "    return viv, a\n",
    "test(11)    # it will give error as we are passing * and also second as 'a', so we have to define a value for 'a'"
   ]
  },
  {
   "cell_type": "code",
   "execution_count": 97,
   "id": "dfe078bf-dd68-412e-8d22-5cf661f96f36",
   "metadata": {},
   "outputs": [
    {
     "data": {
      "text/plain": [
       "((7, 99, 5, 6, 75, 55.58), 89)"
      ]
     },
     "execution_count": 97,
     "metadata": {},
     "output_type": "execute_result"
    }
   ],
   "source": [
    "#  define a value for 'a'\n",
    "test11(7,99,5,6,75,55.58,a=89)"
   ]
  },
  {
   "cell_type": "code",
   "execution_count": 103,
   "id": "15cb0391-db8b-4719-a7d0-ae7d0fe7e24c",
   "metadata": {},
   "outputs": [
    {
     "ename": "TypeError",
     "evalue": "test12() missing 2 required positional arguments: 'c' and 'd'",
     "output_type": "error",
     "traceback": [
      "\u001b[1;31m---------------------------------------------------------------------------\u001b[0m",
      "\u001b[1;31mTypeError\u001b[0m                                 Traceback (most recent call last)",
      "Cell \u001b[1;32mIn[103], line 3\u001b[0m\n\u001b[0;32m      1\u001b[0m \u001b[38;5;28;01mdef\u001b[39;00m \u001b[38;5;21mtest12\u001b[39m(c,d, a\u001b[38;5;241m=\u001b[39m\u001b[38;5;241m85\u001b[39m, b\u001b[38;5;241m=\u001b[39m\u001b[38;5;241m33\u001b[39m):\n\u001b[0;32m      2\u001b[0m     \u001b[38;5;28;01mreturn\u001b[39;00m a,b,c,d\n\u001b[1;32m----> 3\u001b[0m test12()\n",
      "\u001b[1;31mTypeError\u001b[0m: test12() missing 2 required positional arguments: 'c' and 'd'"
     ]
    }
   ],
   "source": [
    "def test12(c,d, a=85, b=33):\n",
    "    return a,b,c,d\n",
    "test12()          # gives error as no values are defined for c,d"
   ]
  },
  {
   "cell_type": "code",
   "execution_count": 105,
   "id": "40588b57-3166-45f1-b7cd-8267af4b7f73",
   "metadata": {},
   "outputs": [
    {
     "data": {
      "text/plain": [
       "(85, 33, 7, 8)"
      ]
     },
     "execution_count": 105,
     "metadata": {},
     "output_type": "execute_result"
    }
   ],
   "source": [
    "# giving value for c,d\n",
    "# by default it will give the value of a,b,c,d\n",
    "test12(7,8)"
   ]
  },
  {
   "cell_type": "code",
   "execution_count": 107,
   "id": "4244773f-d139-4cfd-a467-43f9ded2644f",
   "metadata": {},
   "outputs": [
    {
     "data": {
      "text/plain": [
       "(900, 33, 7, 8)"
      ]
     },
     "execution_count": 107,
     "metadata": {},
     "output_type": "execute_result"
    }
   ],
   "source": [
    "# we want to change the value of a\n",
    "test12(7,8, a=900)"
   ]
  },
  {
   "cell_type": "code",
   "execution_count": 117,
   "id": "3c6e96f3-cf8b-4dfe-8b34-a963771f5507",
   "metadata": {},
   "outputs": [
    {
     "data": {
      "text/plain": [
       "{}"
      ]
     },
     "execution_count": 117,
     "metadata": {},
     "output_type": "execute_result"
    }
   ],
   "source": [
    "# if we want multiple arguments in key:value pairs then we have to use **\n",
    "# it gives dic data type\n",
    "def test13(**kwargs):\n",
    "    return kwargs\n",
    "test13()"
   ]
  },
  {
   "cell_type": "code",
   "execution_count": 115,
   "id": "df7a0807-bc83-487c-a448-258415a0b7d3",
   "metadata": {},
   "outputs": [
    {
     "data": {
      "text/plain": [
       "dict"
      ]
     },
     "execution_count": 115,
     "metadata": {},
     "output_type": "execute_result"
    }
   ],
   "source": [
    "type(test13())"
   ]
  },
  {
   "cell_type": "code",
   "execution_count": 119,
   "id": "d6c3d94e-e382-419d-a835-40e720988786",
   "metadata": {},
   "outputs": [
    {
     "data": {
      "text/plain": [
       "{}"
      ]
     },
     "execution_count": 119,
     "metadata": {},
     "output_type": "execute_result"
    }
   ],
   "source": [
    "# we can use any word instead of kwargs but it has to be with **\n",
    "def test14(**sh):\n",
    "    return sh\n",
    "test14()"
   ]
  },
  {
   "cell_type": "code",
   "execution_count": 121,
   "id": "82663217-e4c8-4d25-b7b3-19375f136f1b",
   "metadata": {},
   "outputs": [
    {
     "data": {
      "text/plain": [
       "{'a': [45, 99, 44], 'b': 'hjit', 'c': 5.45}"
      ]
     },
     "execution_count": 121,
     "metadata": {},
     "output_type": "execute_result"
    }
   ],
   "source": [
    "# it gives dic data type\n",
    "test14(a=[45,99,44], b=\"hjit\", c=5.45)"
   ]
  },
  {
   "cell_type": "code",
   "execution_count": null,
   "id": "b46117f6-4b62-4be0-a64f-84301bbb8324",
   "metadata": {},
   "outputs": [],
   "source": []
  }
 ],
 "metadata": {
  "kernelspec": {
   "display_name": "Python [conda env:base] *",
   "language": "python",
   "name": "conda-base-py"
  },
  "language_info": {
   "codemirror_mode": {
    "name": "ipython",
    "version": 3
   },
   "file_extension": ".py",
   "mimetype": "text/x-python",
   "name": "python",
   "nbconvert_exporter": "python",
   "pygments_lexer": "ipython3",
   "version": "3.12.7"
  }
 },
 "nbformat": 4,
 "nbformat_minor": 5
}
