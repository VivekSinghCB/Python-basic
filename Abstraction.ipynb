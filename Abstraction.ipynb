{
 "cells": [
  {
   "cell_type": "code",
   "execution_count": 2,
   "id": "f30f077f-cffb-406d-909f-c05942bb4dc8",
   "metadata": {},
   "outputs": [
    {
     "name": "stdout",
     "output_type": "stream",
     "text": [
      "Car engine started.\n",
      "Car engine stopped.\n"
     ]
    }
   ],
   "source": [
    "# Abstraction- that hides implementation details and only shows the necessary functionalities to the user\n",
    " # While encapsulation Restricts direct access to internal data and ensures controlled modifications\n",
    "\n",
    "from abc import ABC, abstractmethod\n",
    "\n",
    "class Vehicle(ABC):  # Abstract Class \n",
    "    def start_engine(self):  # Abstract Method\n",
    "        pass\n",
    "    def stop_engine(self):\n",
    "        pass\n",
    "\n",
    "class Car(Vehicle): # Concrete Class  \n",
    "    def start_engine(self):  \n",
    "        print(\"Car engine started.\")\n",
    "\n",
    "    def stop_engine(self):  \n",
    "        print(\"Car engine stopped.\")\n",
    "\n",
    "# Object creation\n",
    "my_car = Car()  # Creating an instance of Car\n",
    "my_car.start_engine()  \n",
    "my_car.stop_engine() "
   ]
  },
  {
   "cell_type": "code",
   "execution_count": 32,
   "id": "52b2b1f3-7948-459f-acd6-753e140b38c6",
   "metadata": {},
   "outputs": [],
   "source": [
    "import abc\n",
    "\n",
    "class xyz:   # Making a class skeleton with abstraction which will be available for other classes \n",
    "\n",
    "    @abc.abstractmethod\n",
    "    def stu_dtl(self):\n",
    "        pass\n",
    "\n",
    "    @abc.abstractmethod\n",
    "    def stu_assign(self):\n",
    "        pass\n",
    "\n",
    "    @abc.abstractmethod    \n",
    "    def stu_marks(self):\n",
    "        pass\n",
    "\n",
    "\n",
    "class stu_dtl(xyz):  # Class 1 - stu_dtl\n",
    "\n",
    "    def stu_dtl(self):\n",
    "        return \"This is method to take stu details from class 1\"\n",
    "\n",
    "    def stu_assign(self):\n",
    "        return \"This method is for stu assignment from class 1\"\n",
    "\n",
    "    def stu_marks(self):\n",
    "        return \"This method is for stu marks from class 1\"\n",
    "\n",
    "\n",
    "class data_sc(xyz):  # Class 2 - data_sc\n",
    "\n",
    "    def stu_dtl(self):\n",
    "        return \"This is method to take stu details in data science\"\n",
    "\n",
    "    def stu_assign(self):\n",
    "        return \"This method is for stu assignment in data science\"\n",
    "\n",
    "    def stu_marks(self):\n",
    "        return \"This method is for stu marks in data science\""
   ]
  },
  {
   "cell_type": "code",
   "execution_count": 26,
   "id": "164e7b18-342b-4dfc-9db3-04addefc3976",
   "metadata": {},
   "outputs": [
    {
     "data": {
      "text/plain": [
       "'This is method to take stu details in data science'"
      ]
     },
     "execution_count": 26,
     "metadata": {},
     "output_type": "execute_result"
    }
   ],
   "source": [
    "dsm = data_sc()  # Making variable for Class 2 - data_sc\n",
    "dsm.stu_dtl() "
   ]
  },
  {
   "cell_type": "code",
   "execution_count": 28,
   "id": "0b08dafb-46dc-403a-b9be-cb4df5727e08",
   "metadata": {},
   "outputs": [
    {
     "data": {
      "text/plain": [
       "'This is method to take stu details from class 1'"
      ]
     },
     "execution_count": 28,
     "metadata": {},
     "output_type": "execute_result"
    }
   ],
   "source": [
    "sd = stu_dtl() # Making variable for Class 1 - stu_dtl\n",
    "sd.stu_dtl()"
   ]
  },
  {
   "cell_type": "code",
   "execution_count": null,
   "id": "7f8d3636-73d5-4c5d-aa0f-d52a896a0252",
   "metadata": {},
   "outputs": [],
   "source": []
  }
 ],
 "metadata": {
  "kernelspec": {
   "display_name": "Python [conda env:base] *",
   "language": "python",
   "name": "conda-base-py"
  },
  "language_info": {
   "codemirror_mode": {
    "name": "ipython",
    "version": 3
   },
   "file_extension": ".py",
   "mimetype": "text/x-python",
   "name": "python",
   "nbconvert_exporter": "python",
   "pygments_lexer": "ipython3",
   "version": "3.12.7"
  }
 },
 "nbformat": 4,
 "nbformat_minor": 5
}
