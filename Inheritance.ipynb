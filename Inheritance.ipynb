{
 "cells": [
  {
   "cell_type": "code",
   "execution_count": 4,
   "id": "1230499c-f3cd-4b50-8c48-6fa87148a7ac",
   "metadata": {},
   "outputs": [
    {
     "data": {
      "text/plain": [
       "'Hello'"
      ]
     },
     "execution_count": 4,
     "metadata": {},
     "output_type": "execute_result"
    }
   ],
   "source": [
    "# Inheritance- that allows a child class to inherit attributes and methods from a parent class\n",
    "  # this helps in code reusability and reduces redundancy\n",
    "  # Types- Single, Multiple, Multilevel, Hierarchical and Hybrid inheritance\n",
    "\n",
    "class test:             # parent class\n",
    "    def test_meth(self):\n",
    "        return \"Hello\"\n",
    "\n",
    "class child_test(test):  # child class \n",
    "    pass\n",
    "\n",
    "child_test_obj=child_test() # object for child class\n",
    "child_test_obj.test_meth()  # as there is no method available inside the child class we have just 'pass' it but,\n",
    "                            # then also we are able to get output from the test class i.e. from parent class"
   ]
  },
  {
   "cell_type": "code",
   "execution_count": 6,
   "id": "16377709-556f-47ba-9fe8-bcdf49607033",
   "metadata": {},
   "outputs": [
    {
     "name": "stdout",
     "output_type": "stream",
     "text": [
      "Animal makes a sound\n",
      "Dog barks!\n"
     ]
    }
   ],
   "source": [
    "# Single inheritance\n",
    "\n",
    "class Animal:     # Parent Class\n",
    "    def speak(self):\n",
    "        return \"Animal makes a sound\"\n",
    "\n",
    "class Dog(Animal): # Child Class-  Dog class inherits speak() method from Animal! \n",
    "    def bark(self):\n",
    "        return \"Dog barks!\"\n",
    "        \n",
    "d = Dog()         # Creating an object of Dog\n",
    "print(d.speak())  # Inherited method\n",
    "print(d.bark())   # Child class method\n"
   ]
  },
  {
   "cell_type": "code",
   "execution_count": 8,
   "id": "8ab9d0e1-eecc-4cb4-a2f6-75966e78d82f",
   "metadata": {},
   "outputs": [
    {
     "name": "stdout",
     "output_type": "stream",
     "text": [
      "Function from Parent 1\n",
      "Function from Parent 2\n",
      "Function from Child\n"
     ]
    }
   ],
   "source": [
    "# multiple inheritance\n",
    "\n",
    "class Parent1:  # Parent Class 1\n",
    "    def function1(self):\n",
    "        return \"Function from Parent 1\"\n",
    "\n",
    "class Parent2: # Parent Class 2\n",
    "    def function2(self):\n",
    "        return \"Function from Parent 2\"\n",
    "\n",
    "class Child(Parent1, Parent2):   # Child Class- can access methods from both Parent1 & Parent2! \n",
    "    def function3(self):\n",
    "        return \"Function from Child\"\n",
    "\n",
    "c = Child()\n",
    "print(c.function1())  # From Parent1\n",
    "print(c.function2())  # From Parent2\n",
    "print(c.function3())  # From Child"
   ]
  },
  {
   "cell_type": "code",
   "execution_count": 10,
   "id": "d926d323-6e2c-4bfa-bf98-5563f812e460",
   "metadata": {},
   "outputs": [
    {
     "name": "stdout",
     "output_type": "stream",
     "text": [
      "This is Grandparent\n",
      "This is Parent\n",
      "This is Child\n"
     ]
    }
   ],
   "source": [
    "# multilevel inheritance\n",
    "\n",
    "class Grandparent:\n",
    "    def grandparent_function(self):\n",
    "        return \"This is Grandparent\"\n",
    "\n",
    "class Parent(Grandparent):\n",
    "    def parent_function(self):\n",
    "        return \"This is Parent\"\n",
    "\n",
    "class Child(Parent):      # Child class- inherits from Parent, which inherits from Grandparent\n",
    "    def child_function(self):\n",
    "        return \"This is Child\"\n",
    "\n",
    "c = Child()\n",
    "print(c.grandparent_function())  # From Grandparent\n",
    "print(c.parent_function())       # From Parent\n",
    "print(c.child_function())        # From Child"
   ]
  },
  {
   "cell_type": "code",
   "execution_count": 16,
   "id": "545060ac-ae31-4900-9fe4-5e087ee3d3db",
   "metadata": {},
   "outputs": [
    {
     "name": "stdout",
     "output_type": "stream",
     "text": [
      "This animal makes a sound.\n",
      "Dog barks!\n",
      "This animal makes a sound.\n",
      "Cat meows!\n"
     ]
    }
   ],
   "source": [
    "# Hierarchical inheritance\n",
    "\n",
    "class Animal:       # Parent Class\n",
    "    def speak(self):\n",
    "        return \"This animal makes a sound.\"\n",
    "\n",
    "class Dog(Animal):  # Child Class 1 - Dog\n",
    "    def bark(self):\n",
    "        return \"Dog barks!\"\n",
    "\n",
    "class Cat(Animal):  # Child Class 2 - Cat\n",
    "    def meow(self):\n",
    "        return \"Cat meows!\"\n",
    "\n",
    "dog = Dog() # Creating objects for child class 1 and child class 2\n",
    "cat = Cat()\n",
    "\n",
    "# Calling inherited and specific methods\n",
    "print(dog.speak())  # Inherited from Animal\n",
    "print(dog.bark())   # Specific to Dog\n",
    "\n",
    "print(cat.speak())  # Inherited from Animal\n",
    "print(cat.meow())   # Specific to Cat\n",
    "\n",
    "#Animal is the parent class.\n",
    "#Dog and Cat are child classes, inheriting speak() from Animal.\n",
    "#Each child class has its own specific method (bark() and meow())"
   ]
  },
  {
   "cell_type": "code",
   "execution_count": null,
   "id": "b5d8df9c-9e5b-466b-a3a1-cf6bdec3ca23",
   "metadata": {},
   "outputs": [],
   "source": []
  }
 ],
 "metadata": {
  "kernelspec": {
   "display_name": "Python [conda env:base] *",
   "language": "python",
   "name": "conda-base-py"
  },
  "language_info": {
   "codemirror_mode": {
    "name": "ipython",
    "version": 3
   },
   "file_extension": ".py",
   "mimetype": "text/x-python",
   "name": "python",
   "nbconvert_exporter": "python",
   "pygments_lexer": "ipython3",
   "version": "3.12.7"
  }
 },
 "nbformat": 4,
 "nbformat_minor": 5
}
