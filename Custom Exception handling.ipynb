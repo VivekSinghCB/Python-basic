{
 "cells": [
  {
   "cell_type": "code",
   "execution_count": 2,
   "id": "a54d56b6-ade1-4810-9748-ccfb831ee517",
   "metadata": {},
   "outputs": [
    {
     "name": "stdin",
     "output_type": "stream",
     "text": [
      "Enter a positive number:  10\n"
     ]
    },
    {
     "name": "stdout",
     "output_type": "stream",
     "text": [
      "Valid input: 10\n"
     ]
    }
   ],
   "source": [
    "# Custom Exception handling- we can define custom exceptions by creating a new exception class that inherits from the built-in Exception class. \n",
    "    #This allows us to handle specific errors in a more meaningful way.\n",
    "\n",
    "# Define a custom exception class that inherits from Exception\n",
    "class NegativeNumberError(Exception): # inheriting Exception class property in the 'NegativeNumberError' class\n",
    "    # Constructor to initialize the exception with a custom message\n",
    "    def __init__(self, message=\"Negative numbers are not allowed\"):\n",
    "        self.message = message  # Store the message\n",
    "        super().__init__(self.message)  # Call the parent Exception class constructor\n",
    "\n",
    "# Function that checks if a number is positive and raises an exception if not\n",
    "def check_positive(num):\n",
    "    if num < 0:  # If the number is negative\n",
    "        raise NegativeNumberError(f\"Invalid input: {num} is negative\")  # Raise custom exception\n",
    "    else:\n",
    "        print(f\"Valid input: {num}\")  # Print valid input message\n",
    "\n",
    "# Handle the custom exception using try-except\n",
    "try:\n",
    "    num = int(input(\"Enter a positive number: \"))  # Take user input and convert to integer\n",
    "    check_positive(num)  # Call the function to check the number\n",
    "except NegativeNumberError as e:  # Catch the custom exception\n",
    "    print(\"Custom Exception Caught:\", e)  # Print the error message\n",
    "except ValueError:  # Catch invalid (non-numeric) input errors e.g. Ahhj,djiijf77n etc.\n",
    "    print(\"Invalid input! Please enter a number.\")  \n"
   ]
  },
  {
   "cell_type": "code",
   "execution_count": 4,
   "id": "d6d817f9-0807-4454-918f-4ec06a4222b7",
   "metadata": {},
   "outputs": [
    {
     "name": "stdin",
     "output_type": "stream",
     "text": [
      "Enter a positive number:  -8862\n"
     ]
    },
    {
     "name": "stdout",
     "output_type": "stream",
     "text": [
      "Custom Exception Caught: Invalid input: -8862 is negative\n"
     ]
    }
   ],
   "source": [
    "class NegativeNumberError(Exception):\n",
    "    # Constructor to initialize the exception with a custom message\n",
    "    def __init__(self, message=\"Negative numbers are not allowed\"):\n",
    "        self.message = message  # Store the message\n",
    "        super().__init__(self.message)  # Call the parent Exception class constructor\n",
    "\n",
    "# Function that checks if a number is positive and raises an exception if not\n",
    "def check_positive(num):\n",
    "    if num < 0:  # If the number is negative\n",
    "        raise NegativeNumberError(f\"Invalid input: {num} is negative\")  # Raise custom exception\n",
    "    else:\n",
    "        print(f\"Valid input: {num}\")  # Print valid input message\n",
    "\n",
    "# Handle the custom exception using try-except\n",
    "try:\n",
    "    num = int(input(\"Enter a positive number: \"))  # Take user input and convert to integer\n",
    "    check_positive(num)  # Call the function to check the number\n",
    "except NegativeNumberError as e:  # Catch the custom exception\n",
    "    print(\"Custom Exception Caught:\", e)  # Print the error message\n",
    "except ValueError:  # Catch invalid (non-numeric) input errors\n",
    "    print(\"Invalid input! Please enter a number.\")  "
   ]
  },
  {
   "cell_type": "code",
   "execution_count": 9,
   "id": "9bfd9a2b-7bd8-4f15-b513-00b849cc19d6",
   "metadata": {},
   "outputs": [
    {
     "name": "stdin",
     "output_type": "stream",
     "text": [
      "Enter a positive number:  abhii\n"
     ]
    },
    {
     "name": "stdout",
     "output_type": "stream",
     "text": [
      "Invalid input! Please enter a number.\n"
     ]
    }
   ],
   "source": [
    "class NegativeNumberError(Exception):\n",
    "    # Constructor to initialize the exception with a custom message\n",
    "    def __init__(self, message=\"Negative numbers are not allowed\"):\n",
    "        self.message = message  # Store the message\n",
    "        super().__init__(self.message)  # Call the parent Exception class constructor\n",
    "\n",
    "# Function that checks if a number is positive and raises an exception if not\n",
    "def check_positive(num):\n",
    "    if num < 0:  # If the number is negative\n",
    "        raise NegativeNumberError(f\"Invalid input: {num} is negative\")  # Raise custom exception\n",
    "    else:\n",
    "        print(f\"Valid input: {num}\")  # Print valid input message\n",
    "\n",
    "# Handle the custom exception using try-except\n",
    "try:\n",
    "    num = int(input(\"Enter a positive number: \"))  # Take user input and convert to integer\n",
    "    check_positive(num)  # Call the function to check the number\n",
    "except NegativeNumberError as e:  # Catch the custom exception\n",
    "    print(\"Custom Exception Caught:\", e)  # Print the error message\n",
    "except ValueError:  # Catch invalid (non-numeric) input errors\n",
    "    print(\"Invalid input! Please enter a number.\") "
   ]
  },
  {
   "cell_type": "code",
   "execution_count": null,
   "id": "90f18cc8-1e32-4819-84b5-16b0cab57334",
   "metadata": {},
   "outputs": [],
   "source": []
  },
  {
   "cell_type": "code",
   "execution_count": null,
   "id": "85fc5a9f-cde2-4cf4-a975-47150c9ef3ce",
   "metadata": {},
   "outputs": [],
   "source": []
  },
  {
   "cell_type": "code",
   "execution_count": 19,
   "id": "50fecb24-fd2d-4075-aa87-d2015148eb1d",
   "metadata": {},
   "outputs": [
    {
     "name": "stdin",
     "output_type": "stream",
     "text": [
      "Enter your age -60\n"
     ]
    }
   ],
   "source": [
    "# we want to handle the error by using cutom exception handling\n",
    "age=int(input(\"Enter your age\"))"
   ]
  },
  {
   "cell_type": "code",
   "execution_count": 42,
   "id": "40bd7e17-c9a3-4d13-ba3c-a2759dc881c1",
   "metadata": {},
   "outputs": [
    {
     "name": "stdin",
     "output_type": "stream",
     "text": [
      "Enter your age:  -55\n"
     ]
    },
    {
     "name": "stdout",
     "output_type": "stream",
     "text": [
      "Entered age is negative, please give a positive number\n"
     ]
    }
   ],
   "source": [
    "# Define a custom exception class 'validateage' that inherits from the built-in Exception class\n",
    "class validateage(Exception):  # inheriting Exception class property in the 'validateage' class\n",
    "    def __init__(self, msg):  # Constructor to initialize the exception with a message\n",
    "        self.msg = msg  # Store the error message\n",
    "\n",
    "# Define a function to validate the age input\n",
    "def validate(age):\n",
    "    if age < 0:  # Check if the age is negative\n",
    "        raise validateage(\"Entered age is negative, please give a positive number\")  # Raise custom exception\n",
    "    elif age > 150:  # Check if the age is unrealistic (greater than 200)\n",
    "        raise validateage(\"Entered age is very high\")  # Raise custom exception\n",
    "    else:\n",
    "        print(\"Age is valid\")  # Print message if age is valid\n",
    "\n",
    "# Exception handling block\n",
    "try:\n",
    "    age = int(input(\"Enter your age: \"))  # Take user input and convert it to an integer\n",
    "    validate(age)  # Call the validate function to check the age\n",
    "except validateage as e:  # Catch the custom exception\n",
    "    print(e)  # Print the custom error message\n",
    "except ValueError:  # Catch invalid (non-numeric) input errors\n",
    "    print(\"Invalid input! Please enter a valid number.\")  "
   ]
  },
  {
   "cell_type": "code",
   "execution_count": null,
   "id": "1c4ba829-08b3-457b-b1c8-aa107f756c3e",
   "metadata": {},
   "outputs": [],
   "source": []
  }
 ],
 "metadata": {
  "kernelspec": {
   "display_name": "Python [conda env:base] *",
   "language": "python",
   "name": "conda-base-py"
  },
  "language_info": {
   "codemirror_mode": {
    "name": "ipython",
    "version": 3
   },
   "file_extension": ".py",
   "mimetype": "text/x-python",
   "name": "python",
   "nbconvert_exporter": "python",
   "pygments_lexer": "ipython3",
   "version": "3.12.7"
  }
 },
 "nbformat": 4,
 "nbformat_minor": 5
}
