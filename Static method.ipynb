{
 "cells": [
  {
   "cell_type": "code",
   "execution_count": 4,
   "id": "86d290d0-6c80-461f-8bb1-b54c81d4c697",
   "metadata": {},
   "outputs": [
    {
     "name": "stdout",
     "output_type": "stream",
     "text": [
      "15\n"
     ]
    }
   ],
   "source": [
    "# Static method- A static method in Python is a method that belongs to a class but does not depend on instance-specific data. \n",
    "  #It does not take self or cls as parameters and behaves like a regular function inside a class\n",
    "  #use the @staticmethod decorator to define a static method inside a class\n",
    "\n",
    "class oyh:\n",
    "    @staticmethod\n",
    "    def add(x, y):  \n",
    "        return x + y  \n",
    "\n",
    "# Call the static method without creating an instance/object\n",
    "print(oyh.add(5, 10))"
   ]
  },
  {
   "cell_type": "code",
   "execution_count": 16,
   "id": "6cde5a7e-d37a-4e00-8e20-493e67e9e412",
   "metadata": {},
   "outputs": [
    {
     "name": "stdout",
     "output_type": "stream",
     "text": [
      "jgjg jufjj@gmai.com 94717877788\n"
     ]
    }
   ],
   "source": [
    "# normally, we make a function that we can access by making an object\n",
    "class abc :\n",
    "    def stu_det(self, name, email, number): # instance method, directly associated to class\n",
    "        print(name, email, number)\n",
    "x=abc()\n",
    "x.stu_det(\"jgjg\", \"jufjj@gmai.com\", 94717877788)"
   ]
  },
  {
   "cell_type": "code",
   "execution_count": 14,
   "id": "5fbf7910-e9eb-4c13-bf5b-e26139c41b64",
   "metadata": {},
   "outputs": [
    {
     "name": "stdout",
     "output_type": "stream",
     "text": [
      "['sudh', 'hansh']\n"
     ]
    }
   ],
   "source": [
    "# but we want to make a function that we can access without making an object\n",
    "class abc1 :\n",
    "    def stu_det(self, name, email, number): # if we want to access this class function then we have to make an object\n",
    "        print(name, email, number)\n",
    "    @staticmethod             # decorator to make a class under static method\n",
    "    def mentor_class(list_mentor):\n",
    "        print(list_mentor)\n",
    "abc1.mentor_class([\"sudh\", \"hansh\"]) #accessing function without making any object"
   ]
  },
  {
   "cell_type": "code",
   "execution_count": 38,
   "id": "11a7b263-eb1b-4e1c-8127-4108ffcc20b3",
   "metadata": {},
   "outputs": [
    {
     "name": "stdout",
     "output_type": "stream",
     "text": [
      "['krish', 'Abhi']\n"
     ]
    }
   ],
   "source": [
    "# we want to use a static method inside a class method \n",
    "\n",
    "class abc2 :\n",
    "    def stu_det(self, name, email, number):\n",
    "        print(name, email, number)\n",
    "\n",
    "    @staticmethod            # decorator to make a class under static method\n",
    "    def mentor_id(mail_id_mentor):\n",
    "        print (mail_id_mentor)\n",
    "        \n",
    "    @staticmethod            \n",
    "    def mentor_class(list_mentor):\n",
    "        print(list_mentor)\n",
    "\n",
    "    @classmethod             # decorator to make a class under class method\n",
    "    def class_name(cls):\n",
    "        cls.mentor_class([\"krish\", \"Abhi\"])\n",
    "        \n",
    "    def mentor(self, mentor_list):\n",
    "        print(mentor_list)\n",
    "        \n",
    "abc2.class_name() # accessing class method under static method"
   ]
  },
  {
   "cell_type": "code",
   "execution_count": 44,
   "id": "f3a9787d-796d-4a50-a86c-90f337449337",
   "metadata": {},
   "outputs": [
    {
     "name": "stdout",
     "output_type": "stream",
     "text": [
      "['jjjfjf@gmail.com', 'dbfgnng@gmail.com']\n",
      "['behdds', 'dnndmdm']\n"
     ]
    }
   ],
   "source": [
    "# we want to call a static method under another static method\n",
    "class abc3 :\n",
    "    def stu_det(self, name, email, number): \n",
    "        print(name, email, number)\n",
    "\n",
    "    @staticmethod            # decorator to make a class under static method\n",
    "    def mentor_id(mail_id_mentor):\n",
    "        print (mail_id_mentor)\n",
    "        \n",
    "    @staticmethod            \n",
    "    def mentor_class(list_mentor):\n",
    "        abc2.mentor_id([\"jjjfjf@gmail.com\", \"dbfgnng@gmail.com\"])  # we want to call a static method under another static method\n",
    "        print(list_mentor)\n",
    "\n",
    "    @classmethod             # decorator to make a class under class method\n",
    "    def class_name(cls):\n",
    "        cls.mentor_class([\"krish\", \"Abhi\"])\n",
    "        \n",
    "    def mentor(self, mentor_list):\n",
    "        print(mentor_list)\n",
    "\n",
    "abc3.mentor_class([\"behdds\", \"dnndmdm\"])"
   ]
  },
  {
   "cell_type": "code",
   "execution_count": null,
   "id": "243b48e6-d335-4e56-85bd-76805a27514b",
   "metadata": {},
   "outputs": [],
   "source": []
  }
 ],
 "metadata": {
  "kernelspec": {
   "display_name": "Python [conda env:base] *",
   "language": "python",
   "name": "conda-base-py"
  },
  "language_info": {
   "codemirror_mode": {
    "name": "ipython",
    "version": 3
   },
   "file_extension": ".py",
   "mimetype": "text/x-python",
   "name": "python",
   "nbconvert_exporter": "python",
   "pygments_lexer": "ipython3",
   "version": "3.12.7"
  }
 },
 "nbformat": 4,
 "nbformat_minor": 5
}
