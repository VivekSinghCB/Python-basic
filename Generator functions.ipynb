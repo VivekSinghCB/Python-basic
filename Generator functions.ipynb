{
 "cells": [
  {
   "cell_type": "code",
   "execution_count": 20,
   "id": "4b452455-16a9-44a7-967a-b7fbb2118009",
   "metadata": {},
   "outputs": [
    {
     "name": "stdout",
     "output_type": "stream",
     "text": [
      "0\n",
      "1\n",
      "1\n",
      "2\n",
      "3\n",
      "5\n",
      "8\n",
      "13\n",
      "21\n",
      "34\n"
     ]
    }
   ],
   "source": [
    "# Generator function- that returns an iterator and allows iteration over a sequence without storing the entire sequence in memory.\n",
    "# It uses the yield keyword instead of return\n",
    "# trying Fibonacci sequence\n",
    "def test_fb(n):  # Function takes 'n' as input\n",
    "    a, b = 0, 1  # Initialize first two Fibonacci numbers\n",
    "    for i in range(n):  # Loop runs 'n' times\n",
    "        yield a  # Yield the current Fibonacci number\n",
    "        a, b = b, a + b  # Update 'a' and 'b' for the next term\n",
    "\n",
    "# Calling the generator function and printing Fibonacci numbers\n",
    "for i in test_fb(10):  # Get the first 10 Fibonacci numbers\n",
    "    print(i)"
   ]
  },
  {
   "cell_type": "code",
   "execution_count": 16,
   "id": "3ad611f8-b6f3-4952-8fb5-b5c384bbd827",
   "metadata": {},
   "outputs": [
    {
     "name": "stdout",
     "output_type": "stream",
     "text": [
      "0\n",
      "1\n",
      "1\n",
      "2\n",
      "3\n",
      "5\n",
      "8\n",
      "13\n",
      "21\n",
      "34\n"
     ]
    }
   ],
   "source": [
    "# using while loop with generator function\n",
    "def test_fb1():    \n",
    "    a, b = 0, 1  # Initializing variables\n",
    "    while True:  # Infinite loop to continuously generate Fibonacci numbers\n",
    "        yield a  # Yield current value of 'a'\n",
    "        a, b = b, a + b  # Update values\n",
    "\n",
    "# Calling the generator function\n",
    "fib = test_fb1()  # Generator that produces infinite Fibonacci numbers\n",
    "\n",
    "for i in range(10):  # Fetch and print first 10 Fibonacci numbers\n",
    "    print(next(fib)) # 'next' is used for iterator, by default it will not work for string(is by default iterable) data type but it can be made an iterator"
   ]
  },
  {
   "cell_type": "code",
   "execution_count": 37,
   "id": "3d9ef1bd-dc30-46d8-8862-e32d3cc805ad",
   "metadata": {},
   "outputs": [
    {
     "data": {
      "text/plain": [
       "generator"
      ]
     },
     "execution_count": 37,
     "metadata": {},
     "output_type": "execute_result"
    }
   ],
   "source": [
    "type(fib)"
   ]
  },
  {
   "cell_type": "code",
   "execution_count": 24,
   "id": "d60f1410-cfa6-4d62-ad42-13fcd4f17334",
   "metadata": {},
   "outputs": [
    {
     "data": {
      "text/plain": [
       "'f'"
      ]
     },
     "execution_count": 24,
     "metadata": {},
     "output_type": "execute_result"
    }
   ],
   "source": [
    "# we can make a string iterator\n",
    "s=\"fjj\"\n",
    "s1=iter(s) # 'iter'  function is used\n",
    "next(s1)"
   ]
  },
  {
   "cell_type": "code",
   "execution_count": 26,
   "id": "058b96e4-655c-42d7-a278-fb45795597c2",
   "metadata": {},
   "outputs": [
    {
     "data": {
      "text/plain": [
       "'j'"
      ]
     },
     "execution_count": 26,
     "metadata": {},
     "output_type": "execute_result"
    }
   ],
   "source": [
    "next(s1)"
   ]
  },
  {
   "cell_type": "code",
   "execution_count": 28,
   "id": "f349f088-21d0-494f-8ec0-7f0f7ac58dd0",
   "metadata": {},
   "outputs": [
    {
     "data": {
      "text/plain": [
       "'j'"
      ]
     },
     "execution_count": 28,
     "metadata": {},
     "output_type": "execute_result"
    }
   ],
   "source": [
    "next(s1)"
   ]
  },
  {
   "cell_type": "code",
   "execution_count": 39,
   "id": "0274b438-5393-437f-9298-5ad6f52252f5",
   "metadata": {},
   "outputs": [
    {
     "ename": "TypeError",
     "evalue": "'int' object is not iterable",
     "output_type": "error",
     "traceback": [
      "\u001b[1;31m---------------------------------------------------------------------------\u001b[0m",
      "\u001b[1;31mTypeError\u001b[0m                                 Traceback (most recent call last)",
      "Cell \u001b[1;32mIn[39], line 3\u001b[0m\n\u001b[0;32m      1\u001b[0m \u001b[38;5;66;03m# which is by default is already iterable (e.g. string, tuple, list)  only can be made to iterator\u001b[39;00m\n\u001b[0;32m      2\u001b[0m \u001b[38;5;66;03m# int, float, complex is NOT iterable\u001b[39;00m\n\u001b[1;32m----> 3\u001b[0m \u001b[38;5;28miter\u001b[39m(\u001b[38;5;241m45\u001b[39m)\n",
      "\u001b[1;31mTypeError\u001b[0m: 'int' object is not iterable"
     ]
    }
   ],
   "source": [
    "# which is by default already iterable (e.g. string, tuple, list)  only can be made to iterator\n",
    "# int, float, complex is NOT iterable\n",
    "iter(45)"
   ]
  },
  {
   "cell_type": "code",
   "execution_count": 45,
   "id": "3dbdd0f9-b969-4b5a-bc41-98b97e60db24",
   "metadata": {},
   "outputs": [
    {
     "name": "stdout",
     "output_type": "stream",
     "text": [
      "1\n",
      "2\n",
      "3\n",
      "4\n",
      "5\n"
     ]
    }
   ],
   "source": [
    "def count_test(n):\n",
    "    count = 1  # Initialize count to 1\n",
    "    while count <= n:  # Loop runs until count reaches n\n",
    "        yield count  # Yield the current value of count\n",
    "        count = count + 1  # Increment count by 1\n",
    "\n",
    "c = count_test(5)  # Create a generator object\n",
    "for i in c:  # Iterate through the generator and print values\n",
    "    print(i)"
   ]
  },
  {
   "cell_type": "code",
   "execution_count": 47,
   "id": "e1bf5100-2813-4474-81d2-85b9f3a0e13e",
   "metadata": {},
   "outputs": [
    {
     "data": {
      "text/plain": [
       "generator"
      ]
     },
     "execution_count": 47,
     "metadata": {},
     "output_type": "execute_result"
    }
   ],
   "source": [
    "type(c)"
   ]
  },
  {
   "cell_type": "code",
   "execution_count": null,
   "id": "fbed883b-a73a-41b3-8541-a99c362322ad",
   "metadata": {},
   "outputs": [],
   "source": []
  }
 ],
 "metadata": {
  "kernelspec": {
   "display_name": "Python [conda env:base] *",
   "language": "python",
   "name": "conda-base-py"
  },
  "language_info": {
   "codemirror_mode": {
    "name": "ipython",
    "version": 3
   },
   "file_extension": ".py",
   "mimetype": "text/x-python",
   "name": "python",
   "nbconvert_exporter": "python",
   "pygments_lexer": "ipython3",
   "version": "3.12.7"
  }
 },
 "nbformat": 4,
 "nbformat_minor": 5
}
