{
 "cells": [
  {
   "cell_type": "code",
   "execution_count": 78,
   "id": "78e6cb9f-936d-4909-8a8a-48634ac9a42d",
   "metadata": {
    "scrolled": true
   },
   "outputs": [
    {
     "name": "stdout",
     "output_type": "stream",
     "text": [
      "20\n",
      "80\n"
     ]
    },
    {
     "data": {
      "text/plain": [
       "bool"
      ]
     },
     "execution_count": 78,
     "metadata": {},
     "output_type": "execute_result"
    }
   ],
   "source": [
    "# variable declaration\n",
    "a=20\n",
    "viv=80\n",
    "c=\"Hello\"\n",
    "d='Hello'\n",
    "e=822.05\n",
    "f=True\n",
    "g=False\n",
    "\n",
    "print(a)\n",
    "print(viv)\n",
    "a+viv\n",
    "type(a)\n",
    "type(viv)\n",
    "type(c)\n",
    "type(d)\n",
    "type(e)\n",
    "type(f)\n",
    "type(g)"
   ]
  },
  {
   "cell_type": "code",
   "execution_count": 15,
   "id": "b63d10df-e099-4797-a0a9-7ba03a09a54f",
   "metadata": {},
   "outputs": [
    {
     "data": {
      "text/plain": [
       "False"
      ]
     },
     "execution_count": 15,
     "metadata": {},
     "output_type": "execute_result"
    }
   ],
   "source": [
    "a\n",
    "viv\n",
    "a+viv\n",
    "c\n",
    "d\n",
    "e\n",
    "f\n",
    "g"
   ]
  },
  {
   "cell_type": "code",
   "execution_count": 21,
   "id": "283c3a65-e8b0-4426-b959-2026c7d4ca09",
   "metadata": {},
   "outputs": [
    {
     "data": {
      "text/plain": [
       "80"
      ]
     },
     "execution_count": 21,
     "metadata": {},
     "output_type": "execute_result"
    }
   ],
   "source": [
    "viv"
   ]
  },
  {
   "cell_type": "code",
   "execution_count": 39,
   "id": "9dbbf521-c897-4531-aade-bbbe9965212c",
   "metadata": {},
   "outputs": [
    {
     "data": {
      "text/plain": [
       "float"
      ]
     },
     "execution_count": 39,
     "metadata": {},
     "output_type": "execute_result"
    }
   ],
   "source": [
    "type(e) # or press shift tab together by putting cursor beside the ) \n",
    "        # WE CAN USE THIS ANYWHERE BEFORE EXECUTING ANY SHELL "
   ]
  },
  {
   "cell_type": "code",
   "execution_count": 25,
   "id": "5b344563-af6a-46a1-856b-a9aefd20434f",
   "metadata": {},
   "outputs": [
    {
     "data": {
      "text/plain": [
       "True"
      ]
     },
     "execution_count": 25,
     "metadata": {},
     "output_type": "execute_result"
    }
   ],
   "source": [
    "f"
   ]
  },
  {
   "cell_type": "code",
   "execution_count": 27,
   "id": "ebedbe85-c988-4a6b-a518-55b2d85ec353",
   "metadata": {},
   "outputs": [
    {
     "data": {
      "text/plain": [
       "1"
      ]
     },
     "execution_count": 27,
     "metadata": {},
     "output_type": "execute_result"
    }
   ],
   "source": [
    "f+g"
   ]
  },
  {
   "cell_type": "code",
   "execution_count": 57,
   "id": "fc4134fc-237d-4e5a-a73f-df9546f50772",
   "metadata": {},
   "outputs": [
    {
     "ename": "ZeroDivisionError",
     "evalue": "division by zero",
     "output_type": "error",
     "traceback": [
      "\u001b[1;31m---------------------------------------------------------------------------\u001b[0m",
      "\u001b[1;31mZeroDivisionError\u001b[0m                         Traceback (most recent call last)",
      "Cell \u001b[1;32mIn[57], line 1\u001b[0m\n\u001b[1;32m----> 1\u001b[0m f\u001b[38;5;241m/\u001b[39mg\n",
      "\u001b[1;31mZeroDivisionError\u001b[0m: division by zero"
     ]
    }
   ],
   "source": [
    "f/g"
   ]
  },
  {
   "cell_type": "code",
   "execution_count": 31,
   "id": "931e0d9b-8b71-4057-aec3-282450c7260c",
   "metadata": {},
   "outputs": [
    {
     "data": {
      "text/plain": [
       "0"
      ]
     },
     "execution_count": 31,
     "metadata": {},
     "output_type": "execute_result"
    }
   ],
   "source": [
    "f*g"
   ]
  },
  {
   "cell_type": "code",
   "execution_count": 35,
   "id": "7517bb5f-7117-46d4-b89f-06d810355837",
   "metadata": {},
   "outputs": [
    {
     "data": {
      "text/plain": [
       "0"
      ]
     },
     "execution_count": 35,
     "metadata": {},
     "output_type": "execute_result"
    }
   ],
   "source": [
    "True*False"
   ]
  },
  {
   "cell_type": "code",
   "execution_count": 37,
   "id": "25b59a89-271f-4356-980b-9d9915bd64e5",
   "metadata": {},
   "outputs": [
    {
     "ename": "ZeroDivisionError",
     "evalue": "division by zero",
     "output_type": "error",
     "traceback": [
      "\u001b[1;31m---------------------------------------------------------------------------\u001b[0m",
      "\u001b[1;31mZeroDivisionError\u001b[0m                         Traceback (most recent call last)",
      "Cell \u001b[1;32mIn[37], line 1\u001b[0m\n\u001b[1;32m----> 1\u001b[0m \u001b[38;5;28;01mTrue\u001b[39;00m\u001b[38;5;241m/\u001b[39m\u001b[38;5;28;01mFalse\u001b[39;00m\n",
      "\u001b[1;31mZeroDivisionError\u001b[0m: division by zero"
     ]
    }
   ],
   "source": [
    "True/False"
   ]
  },
  {
   "cell_type": "code",
   "execution_count": 41,
   "id": "9f4176ec-2063-4d4b-9d0b-c85c7a01ef43",
   "metadata": {},
   "outputs": [
    {
     "data": {
      "text/plain": [
       "0.0"
      ]
     },
     "execution_count": 41,
     "metadata": {},
     "output_type": "execute_result"
    }
   ],
   "source": [
    "False/True"
   ]
  },
  {
   "cell_type": "code",
   "execution_count": 47,
   "id": "20c6c20c-a20f-46c4-81fa-321820b51cf4",
   "metadata": {},
   "outputs": [
    {
     "data": {
      "text/plain": [
       "complex"
      ]
     },
     "execution_count": 47,
     "metadata": {},
     "output_type": "execute_result"
    }
   ],
   "source": [
    "v=40+8j#complex variable\n",
    "type(v)"
   ]
  },
  {
   "cell_type": "code",
   "execution_count": 49,
   "id": "69606428-dde6-40f4-8841-a63fb20970e2",
   "metadata": {},
   "outputs": [
    {
     "data": {
      "text/plain": [
       "complex"
      ]
     },
     "execution_count": 49,
     "metadata": {},
     "output_type": "execute_result"
    }
   ],
   "source": [
    "x=80+8J\n",
    "type(x)"
   ]
  },
  {
   "cell_type": "code",
   "execution_count": 51,
   "id": "527db406-4f9d-4481-a653-7f89d8f7a1c0",
   "metadata": {},
   "outputs": [
    {
     "ename": "SyntaxError",
     "evalue": "invalid decimal literal (2749936346.py, line 1)",
     "output_type": "error",
     "traceback": [
      "\u001b[1;36m  Cell \u001b[1;32mIn[51], line 1\u001b[1;36m\u001b[0m\n\u001b[1;33m    r=80+8ij\u001b[0m\n\u001b[1;37m         ^\u001b[0m\n\u001b[1;31mSyntaxError\u001b[0m\u001b[1;31m:\u001b[0m invalid decimal literal\n"
     ]
    }
   ],
   "source": [
    "r=80+8ij\n",
    "type(r)"
   ]
  },
  {
   "cell_type": "code",
   "execution_count": 53,
   "id": "e4e9fc28-4dbc-471f-9bb4-2a7583c060b1",
   "metadata": {},
   "outputs": [
    {
     "ename": "SyntaxError",
     "evalue": "invalid decimal literal (702652181.py, line 1)",
     "output_type": "error",
     "traceback": [
      "\u001b[1;36m  Cell \u001b[1;32mIn[53], line 1\u001b[1;36m\u001b[0m\n\u001b[1;33m    r=80+8IJ\u001b[0m\n\u001b[1;37m         ^\u001b[0m\n\u001b[1;31mSyntaxError\u001b[0m\u001b[1;31m:\u001b[0m invalid decimal literal\n"
     ]
    }
   ],
   "source": [
    "r=80+8IJ\n",
    "type(r)"
   ]
  },
  {
   "cell_type": "code",
   "execution_count": 55,
   "id": "0ceab308-9f6c-489d-9782-b0ba924e50ea",
   "metadata": {},
   "outputs": [
    {
     "ename": "SyntaxError",
     "evalue": "invalid decimal literal (2275406264.py, line 1)",
     "output_type": "error",
     "traceback": [
      "\u001b[1;36m  Cell \u001b[1;32mIn[55], line 1\u001b[1;36m\u001b[0m\n\u001b[1;33m    r=80+8m\u001b[0m\n\u001b[1;37m         ^\u001b[0m\n\u001b[1;31mSyntaxError\u001b[0m\u001b[1;31m:\u001b[0m invalid decimal literal\n"
     ]
    }
   ],
   "source": [
    "r=80+8m\n",
    "type(r)"
   ]
  },
  {
   "cell_type": "code",
   "execution_count": 68,
   "id": "77f4af9f-ee41-4723-980e-ebe453ff11b9",
   "metadata": {},
   "outputs": [
    {
     "data": {
      "text/plain": [
       "8.0"
      ]
     },
     "execution_count": 68,
     "metadata": {},
     "output_type": "execute_result"
    }
   ],
   "source": [
    "x=80+8J \n",
    "x.real  # to extract the real number from complex number\n",
    "x.imag  # to extract the imaginary number from complex number"
   ]
  },
  {
   "cell_type": "code",
   "execution_count": 70,
   "id": "ff76a746-5ff8-4434-ab92-d2528d8760ed",
   "metadata": {},
   "outputs": [
    {
     "data": {
      "text/plain": [
       "(80+8j)"
      ]
     },
     "execution_count": 70,
     "metadata": {},
     "output_type": "execute_result"
    }
   ],
   "source": [
    "x"
   ]
  },
  {
   "cell_type": "code",
   "execution_count": 104,
   "id": "0aec3617-778d-4f04-ac87-336bc17cf28e",
   "metadata": {},
   "outputs": [],
   "source": [
    "k=\"hello buddy\" # Indexing [Forward and backward]"
   ]
  },
  {
   "cell_type": "code",
   "execution_count": 112,
   "id": "c8a0bf37-cba3-4dac-bf18-adc476d9971e",
   "metadata": {},
   "outputs": [
    {
     "data": {
      "text/plain": [
       "str"
      ]
     },
     "execution_count": 112,
     "metadata": {},
     "output_type": "execute_result"
    }
   ],
   "source": [
    "type(k)"
   ]
  },
  {
   "cell_type": "code",
   "execution_count": 114,
   "id": "6c10ce1e-997e-464e-bee2-fcfe92d584f4",
   "metadata": {},
   "outputs": [
    {
     "data": {
      "text/plain": [
       "'h'"
      ]
     },
     "execution_count": 114,
     "metadata": {},
     "output_type": "execute_result"
    }
   ],
   "source": [
    "k[0] # extract a word"
   ]
  },
  {
   "cell_type": "code",
   "execution_count": 116,
   "id": "99fa0b22-8edc-4e55-ae5d-4d56c4a38f3d",
   "metadata": {},
   "outputs": [
    {
     "data": {
      "text/plain": [
       "'e'"
      ]
     },
     "execution_count": 116,
     "metadata": {},
     "output_type": "execute_result"
    }
   ],
   "source": [
    "k[1]"
   ]
  },
  {
   "cell_type": "code",
   "execution_count": 118,
   "id": "50845c13-fb2d-498a-9f14-ab47db4ae6e2",
   "metadata": {},
   "outputs": [
    {
     "data": {
      "text/plain": [
       "' '"
      ]
     },
     "execution_count": 118,
     "metadata": {},
     "output_type": "execute_result"
    }
   ],
   "source": [
    "k[5]"
   ]
  },
  {
   "cell_type": "code",
   "execution_count": 120,
   "id": "b2867e13-4c7f-4584-aeb5-de2a540ca085",
   "metadata": {},
   "outputs": [
    {
     "data": {
      "text/plain": [
       "'b'"
      ]
     },
     "execution_count": 120,
     "metadata": {},
     "output_type": "execute_result"
    }
   ],
   "source": [
    "k[6]"
   ]
  },
  {
   "cell_type": "code",
   "execution_count": 122,
   "id": "956e4e1d-ac3c-4445-9205-60f9ea185771",
   "metadata": {},
   "outputs": [
    {
     "data": {
      "text/plain": [
       "'y'"
      ]
     },
     "execution_count": 122,
     "metadata": {},
     "output_type": "execute_result"
    }
   ],
   "source": [
    "k[-1]"
   ]
  },
  {
   "cell_type": "code",
   "execution_count": 126,
   "id": "de8fd1f6-9a35-49eb-8b9b-4df0379c27bf",
   "metadata": {},
   "outputs": [
    {
     "data": {
      "text/plain": [
       "'he'"
      ]
     },
     "execution_count": 126,
     "metadata": {},
     "output_type": "execute_result"
    }
   ],
   "source": [
    "k[0:2] #extract a chunk i.e. SLICING \n",
    "       # it will extract from index of 0-1 not upper bound - 1 i.e. 2-1=1 SO, 01 chunk"
   ]
  },
  {
   "cell_type": "code",
   "execution_count": 128,
   "id": "a3d782a7-e248-4b56-8cd6-d391486541c6",
   "metadata": {},
   "outputs": [
    {
     "data": {
      "text/plain": [
       "'hlobdy'"
      ]
     },
     "execution_count": 128,
     "metadata": {},
     "output_type": "execute_result"
    }
   ],
   "source": [
    "k[0:11:2]"
   ]
  },
  {
   "cell_type": "code",
   "execution_count": 130,
   "id": "17a7eaad-8a50-407e-a205-95afd5c4c1a0",
   "metadata": {},
   "outputs": [
    {
     "data": {
      "text/plain": [
       "'hlobdy'"
      ]
     },
     "execution_count": 130,
     "metadata": {},
     "output_type": "execute_result"
    }
   ],
   "source": [
    "k[::2]"
   ]
  },
  {
   "cell_type": "code",
   "execution_count": 132,
   "id": "5f1de917-d012-4908-a245-7cb669ed12b9",
   "metadata": {},
   "outputs": [
    {
     "ename": "ValueError",
     "evalue": "slice step cannot be zero",
     "output_type": "error",
     "traceback": [
      "\u001b[1;31m---------------------------------------------------------------------------\u001b[0m",
      "\u001b[1;31mValueError\u001b[0m                                Traceback (most recent call last)",
      "Cell \u001b[1;32mIn[132], line 1\u001b[0m\n\u001b[1;32m----> 1\u001b[0m k[::\u001b[38;5;241m0\u001b[39m]\n",
      "\u001b[1;31mValueError\u001b[0m: slice step cannot be zero"
     ]
    }
   ],
   "source": [
    "k[::0]"
   ]
  },
  {
   "cell_type": "code",
   "execution_count": 136,
   "id": "3f5e3127-9721-4d7d-9060-71266e02347c",
   "metadata": {},
   "outputs": [
    {
     "data": {
      "text/plain": [
       "'yddub olleh'"
      ]
     },
     "execution_count": 136,
     "metadata": {},
     "output_type": "execute_result"
    }
   ],
   "source": [
    "k[::-1]"
   ]
  },
  {
   "cell_type": "code",
   "execution_count": 138,
   "id": "0f493157-fb19-4d0f-a59c-f0c7607136de",
   "metadata": {},
   "outputs": [
    {
     "data": {
      "text/plain": [
       "''"
      ]
     },
     "execution_count": 138,
     "metadata": {},
     "output_type": "execute_result"
    }
   ],
   "source": [
    "k[1:5:-1] # we are going from 1-5, i.e. +ve direction but trying to jump in -ve direction"
   ]
  },
  {
   "cell_type": "code",
   "execution_count": 140,
   "id": "1c28c8b4-be73-4c8c-854b-6f55625097ef",
   "metadata": {},
   "outputs": [
    {
     "data": {
      "text/plain": [
       "''"
      ]
     },
     "execution_count": 140,
     "metadata": {},
     "output_type": "execute_result"
    }
   ],
   "source": [
    "k[5:0] # By default jump value is +1 So, again concept as above  "
   ]
  },
  {
   "cell_type": "code",
   "execution_count": 144,
   "id": "0e6c0634-097d-4503-a82d-a32f6d6ec289",
   "metadata": {},
   "outputs": [
    {
     "data": {
      "text/plain": [
       "'yddu'"
      ]
     },
     "execution_count": 144,
     "metadata": {},
     "output_type": "execute_result"
    }
   ],
   "source": [
    "k[:-5:-1]"
   ]
  },
  {
   "cell_type": "code",
   "execution_count": 146,
   "id": "efa731fb-a9a4-42d4-9617-d4a1ac5e81d8",
   "metadata": {},
   "outputs": [],
   "source": [
    " d=\"my name is hello\""
   ]
  },
  {
   "cell_type": "code",
   "execution_count": 148,
   "id": "e212ef1b-f031-4a16-b37f-7647d0efe045",
   "metadata": {},
   "outputs": [
    {
     "data": {
      "text/plain": [
       "16"
      ]
     },
     "execution_count": 148,
     "metadata": {},
     "output_type": "execute_result"
    }
   ],
   "source": [
    "len(d)"
   ]
  },
  {
   "cell_type": "code",
   "execution_count": 154,
   "id": "215c66b8-7cc8-43e4-a797-efe6e382b376",
   "metadata": {},
   "outputs": [
    {
     "data": {
      "text/plain": [
       "8"
      ]
     },
     "execution_count": 154,
     "metadata": {},
     "output_type": "execute_result"
    }
   ],
   "source": [
    "d.find('i') # to know how many In-build function can be performed after d. then \n",
    "            # just put the cursor beside d. and press Tab"
   ]
  },
  {
   "cell_type": "code",
   "execution_count": 158,
   "id": "c6db9f96-437d-474b-aa50-7f5cbf4b9123",
   "metadata": {},
   "outputs": [
    {
     "data": {
      "text/plain": [
       "11"
      ]
     },
     "execution_count": 158,
     "metadata": {},
     "output_type": "execute_result"
    }
   ],
   "source": [
    "d.find('he')"
   ]
  },
  {
   "cell_type": "code",
   "execution_count": 160,
   "id": "9ecdec93-6a39-4e81-b729-fd9aaf682e9d",
   "metadata": {},
   "outputs": [
    {
     "data": {
      "text/plain": [
       "2"
      ]
     },
     "execution_count": 160,
     "metadata": {},
     "output_type": "execute_result"
    }
   ],
   "source": [
    "d.count('e')"
   ]
  },
  {
   "cell_type": "code",
   "execution_count": 162,
   "id": "fa10ff04-5ee6-410a-ad96-793de89778be",
   "metadata": {},
   "outputs": [
    {
     "ename": "TypeError",
     "evalue": "can only concatenate str (not \"int\") to str",
     "output_type": "error",
     "traceback": [
      "\u001b[1;31m---------------------------------------------------------------------------\u001b[0m",
      "\u001b[1;31mTypeError\u001b[0m                                 Traceback (most recent call last)",
      "Cell \u001b[1;32mIn[162], line 1\u001b[0m\n\u001b[1;32m----> 1\u001b[0m d\u001b[38;5;241m+\u001b[39m\u001b[38;5;241m1\u001b[39m\n",
      "\u001b[1;31mTypeError\u001b[0m: can only concatenate str (not \"int\") to str"
     ]
    }
   ],
   "source": [
    "d+1 # Concatenation can only be done between same data type or either we have to perform \n",
    "    # Typecasting i.e. data type conversion"
   ]
  },
  {
   "cell_type": "code",
   "execution_count": 164,
   "id": "e13a4d97-e6de-47a1-b719-35ed7912c159",
   "metadata": {},
   "outputs": [
    {
     "data": {
      "text/plain": [
       "'my name is hello1'"
      ]
     },
     "execution_count": 164,
     "metadata": {},
     "output_type": "execute_result"
    }
   ],
   "source": [
    "d+'1'"
   ]
  },
  {
   "cell_type": "code",
   "execution_count": 166,
   "id": "5cd7667c-c308-4f8d-abba-1641410d847a",
   "metadata": {},
   "outputs": [
    {
     "data": {
      "text/plain": [
       "'my name is hellomy name is hellomy name is hello'"
      ]
     },
     "execution_count": 166,
     "metadata": {},
     "output_type": "execute_result"
    }
   ],
   "source": [
    "d*3"
   ]
  },
  {
   "cell_type": "code",
   "execution_count": 168,
   "id": "bda372e3-e11c-4afb-b804-5d4135327e18",
   "metadata": {},
   "outputs": [
    {
     "ename": "TypeError",
     "evalue": "unsupported operand type(s) for /: 'str' and 'int'",
     "output_type": "error",
     "traceback": [
      "\u001b[1;31m---------------------------------------------------------------------------\u001b[0m",
      "\u001b[1;31mTypeError\u001b[0m                                 Traceback (most recent call last)",
      "Cell \u001b[1;32mIn[168], line 1\u001b[0m\n\u001b[1;32m----> 1\u001b[0m d\u001b[38;5;241m/\u001b[39m\u001b[38;5;241m3\u001b[39m\n",
      "\u001b[1;31mTypeError\u001b[0m: unsupported operand type(s) for /: 'str' and 'int'"
     ]
    }
   ],
   "source": [
    "d/3"
   ]
  },
  {
   "cell_type": "code",
   "execution_count": 170,
   "id": "60897d5c-00d1-4437-b06d-fcb834bd3507",
   "metadata": {},
   "outputs": [
    {
     "ename": "TypeError",
     "evalue": "unsupported operand type(s) for -: 'str' and 'int'",
     "output_type": "error",
     "traceback": [
      "\u001b[1;31m---------------------------------------------------------------------------\u001b[0m",
      "\u001b[1;31mTypeError\u001b[0m                                 Traceback (most recent call last)",
      "Cell \u001b[1;32mIn[170], line 1\u001b[0m\n\u001b[1;32m----> 1\u001b[0m d\u001b[38;5;241m-\u001b[39m\u001b[38;5;241m1\u001b[39m\n",
      "\u001b[1;31mTypeError\u001b[0m: unsupported operand type(s) for -: 'str' and 'int'"
     ]
    }
   ],
   "source": [
    "d-1"
   ]
  },
  {
   "cell_type": "code",
   "execution_count": 176,
   "id": "460843ef-23de-47b4-a925-5f617ef615b3",
   "metadata": {},
   "outputs": [
    {
     "ename": "SyntaxError",
     "evalue": "unterminated string literal (detected at line 4) (2247116054.py, line 4)",
     "output_type": "error",
     "traceback": [
      "\u001b[1;36m  Cell \u001b[1;32mIn[176], line 4\u001b[1;36m\u001b[0m\n\u001b[1;33m    'don't come.'\u001b[0m\n\u001b[1;37m                ^\u001b[0m\n\u001b[1;31mSyntaxError\u001b[0m\u001b[1;31m:\u001b[0m unterminated string literal (detected at line 4)\n"
     ]
    }
   ],
   "source": [
    "# to execute a string either use ' or \" just opposite\n",
    "#if you have already a ' or \" is present inside a string\n",
    "\n",
    "'don't come.'"
   ]
  },
  {
   "cell_type": "code",
   "execution_count": 178,
   "id": "fa0ef975-ce0d-49e7-ad60-7e1e3b28b2bd",
   "metadata": {},
   "outputs": [
    {
     "data": {
      "text/plain": [
       "\"don't come.\""
      ]
     },
     "execution_count": 178,
     "metadata": {},
     "output_type": "execute_result"
    }
   ],
   "source": [
    "\"don't come.\""
   ]
  },
  {
   "cell_type": "code",
   "execution_count": null,
   "id": "976b570a-6095-45d4-91de-b7170319fa14",
   "metadata": {},
   "outputs": [],
   "source": []
  },
  {
   "cell_type": "code",
   "execution_count": null,
   "id": "9eabffeb-cbca-41f7-a186-e4296119597d",
   "metadata": {},
   "outputs": [],
   "source": []
  }
 ],
 "metadata": {
  "kernelspec": {
   "display_name": "Python [conda env:base] *",
   "language": "python",
   "name": "conda-base-py"
  },
  "language_info": {
   "codemirror_mode": {
    "name": "ipython",
    "version": 3
   },
   "file_extension": ".py",
   "mimetype": "text/x-python",
   "name": "python",
   "nbconvert_exporter": "python",
   "pygments_lexer": "ipython3",
   "version": "3.12.7"
  }
 },
 "nbformat": 4,
 "nbformat_minor": 5
}
