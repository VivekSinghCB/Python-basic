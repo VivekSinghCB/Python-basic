{
 "cells": [
  {
   "cell_type": "code",
   "execution_count": 4,
   "id": "b4378b58-bf8e-45a6-95bd-dcde6ed3d09c",
   "metadata": {},
   "outputs": [
    {
     "data": {
      "text/plain": [
       "[1, 64, 36, 49, 64, 81, 36, 9]"
      ]
     },
     "execution_count": 4,
     "metadata": {},
     "output_type": "execute_result"
    }
   ],
   "source": [
    "# List comprehension i.e. summary\n",
    "# want to produce a new list which should contain the square of the given list\n",
    "l=[1,8,6,7,8,9,6,3]\n",
    "l1=[]\n",
    "for i in l:\n",
    "    l1.append(i**2) # i to power 2\n",
    "l1"
   ]
  },
  {
   "cell_type": "code",
   "execution_count": 6,
   "id": "c319b7d0-8579-4537-9434-0b62a147505c",
   "metadata": {},
   "outputs": [
    {
     "data": {
      "text/plain": [
       "[1, 64, 36, 49, 64, 81, 36, 9]"
      ]
     },
     "execution_count": 6,
     "metadata": {},
     "output_type": "execute_result"
    }
   ],
   "source": [
    "# comprehension\n",
    "[i**2 for i in l]"
   ]
  },
  {
   "cell_type": "code",
   "execution_count": 12,
   "id": "0b7dd2c8-9301-42c9-8e65-b8cb1f92060d",
   "metadata": {},
   "outputs": [
    {
     "data": {
      "text/plain": [
       "[8, 6, 8, 6]"
      ]
     },
     "execution_count": 12,
     "metadata": {},
     "output_type": "execute_result"
    }
   ],
   "source": [
    "# pulling out even numbers from above list\n",
    "[i for i in l if i % 2 == 0]  # as all even number if divided by 2 then gives 0"
   ]
  },
  {
   "cell_type": "code",
   "execution_count": 22,
   "id": "69d06416-515e-49fc-96f4-92d4db90182c",
   "metadata": {},
   "outputs": [
    {
     "data": {
      "text/plain": [
       "['BUHHHU', 'MKKKO', 'MGMKE']"
      ]
     },
     "execution_count": 22,
     "metadata": {},
     "output_type": "execute_result"
    }
   ],
   "source": [
    "#comprehension to convert all to uppercase\n",
    "l2=[\"buhhhu\", \"mkkko\", \"mgmke\"]\n",
    "[i.upper() for i in l2]"
   ]
  },
  {
   "cell_type": "code",
   "execution_count": 24,
   "id": "a90d8d35-bdd8-418f-af4d-c5becd61e623",
   "metadata": {},
   "outputs": [
    {
     "data": {
      "text/plain": [
       "[16, 7921, 3969, 49, 25, 36, 64, 81, 1936]"
      ]
     },
     "execution_count": 24,
     "metadata": {},
     "output_type": "execute_result"
    }
   ],
   "source": [
    "# tuple comprehension\n",
    "l3=[4,89,63,7,5,6,8,9,44]\n",
    "list(i**2 for i in l3)"
   ]
  },
  {
   "cell_type": "code",
   "execution_count": 30,
   "id": "3caf6060-3d47-4dcf-bc4f-da9a7b253c41",
   "metadata": {},
   "outputs": [
    {
     "data": {
      "text/plain": [
       "{'key1': 49, 'key2': 64, 'key3': 9, 'key4': 36}"
      ]
     },
     "execution_count": 30,
     "metadata": {},
     "output_type": "execute_result"
    }
   ],
   "source": [
    "# dict. comprehension\n",
    "# square the values of the key \n",
    "d={\"key1\":1,\"key2\":8, \"key3\":3, \"key4\":6}\n",
    "{k:v**2 for k , v in d.items()} # assigning k for key and v for value"
   ]
  },
  {
   "cell_type": "code",
   "execution_count": 34,
   "id": "b90bbdc9-9b8b-474c-a8eb-c08b46841ec1",
   "metadata": {},
   "outputs": [
    {
     "data": {
      "text/plain": [
       "{'key1': 7, 'key2': 8, 'key3': 3, 'key4': 6}"
      ]
     },
     "execution_count": 34,
     "metadata": {},
     "output_type": "execute_result"
    }
   ],
   "source": [
    "# from above dict., print only those whose value > 1 only\n",
    "{k:v for k , v in d.items() if v>1}"
   ]
  },
  {
   "cell_type": "code",
   "execution_count": null,
   "id": "9c575134-8bdf-43b1-a743-c801b984e84a",
   "metadata": {},
   "outputs": [],
   "source": []
  }
 ],
 "metadata": {
  "kernelspec": {
   "display_name": "Python [conda env:base] *",
   "language": "python",
   "name": "conda-base-py"
  },
  "language_info": {
   "codemirror_mode": {
    "name": "ipython",
    "version": 3
   },
   "file_extension": ".py",
   "mimetype": "text/x-python",
   "name": "python",
   "nbconvert_exporter": "python",
   "pygments_lexer": "ipython3",
   "version": "3.12.7"
  }
 },
 "nbformat": 4,
 "nbformat_minor": 5
}
