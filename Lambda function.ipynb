{
 "cells": [
  {
   "cell_type": "code",
   "execution_count": 2,
   "id": "25e8b012-a40b-4a34-8122-6d32ba97720a",
   "metadata": {},
   "outputs": [
    {
     "data": {
      "text/plain": [
       "9"
      ]
     },
     "execution_count": 2,
     "metadata": {},
     "output_type": "execute_result"
    }
   ],
   "source": [
    "# Lambda function- is a small, anonymous function (i.e., a function without a name). \n",
    "# It is used for short, single-expression functions where defining a full function with def would be unnecessary\n",
    "# e.g. calculating power of a given number\n",
    "# usaully we write-\n",
    "n=3\n",
    "p=2\n",
    "def test(n,p):\n",
    "    return n**p\n",
    "test(3,2)"
   ]
  },
  {
   "cell_type": "code",
   "execution_count": 8,
   "id": "43a3ba41-fdbe-4574-acc5-981ca919c473",
   "metadata": {},
   "outputs": [
    {
     "data": {
      "text/plain": [
       "9"
      ]
     },
     "execution_count": 8,
     "metadata": {},
     "output_type": "execute_result"
    }
   ],
   "source": [
    "# using lambda ( is a reserved keyword) function\n",
    "a=lambda n,p:n**p  # using lambda instead of def, it is anonymous function(i.e., a function without a name)\n",
    "                   # variable= lambda input:output\n",
    "a(3,2)"
   ]
  },
  {
   "cell_type": "code",
   "execution_count": 10,
   "id": "877fb8be-849b-4de5-9cc5-52e0addbc2c9",
   "metadata": {},
   "outputs": [
    {
     "data": {
      "text/plain": [
       "17"
      ]
     },
     "execution_count": 10,
     "metadata": {},
     "output_type": "execute_result"
    }
   ],
   "source": [
    "add=lambda x,y:x+y\n",
    "add(8,9)"
   ]
  },
  {
   "cell_type": "code",
   "execution_count": 18,
   "id": "0bff187f-581b-4e27-876a-27ba0f040886",
   "metadata": {},
   "outputs": [
    {
     "data": {
      "text/plain": [
       "77.0"
      ]
     },
     "execution_count": 18,
     "metadata": {},
     "output_type": "execute_result"
    }
   ],
   "source": [
    "# converting Celsius to Fahrenheit\n",
    "c_to_f=lambda c:(9/5)*c+32\n",
    "c_to_f(25)"
   ]
  },
  {
   "cell_type": "code",
   "execution_count": 35,
   "id": "43775554-3746-4222-91d3-7cce968d9205",
   "metadata": {},
   "outputs": [
    {
     "data": {
      "text/plain": [
       "60"
      ]
     },
     "execution_count": 35,
     "metadata": {},
     "output_type": "execute_result"
    }
   ],
   "source": [
    "# finding max num. between two num.\n",
    "find_max=lambda x,y : x if x>y else y  # giving condition to lambda function\n",
    "find_max(40,60)"
   ]
  },
  {
   "cell_type": "code",
   "execution_count": 39,
   "id": "a3a1fe37-199e-4bdd-8dfe-f1ee9e60871d",
   "metadata": {},
   "outputs": [
    {
     "data": {
      "text/plain": [
       "6"
      ]
     },
     "execution_count": 39,
     "metadata": {},
     "output_type": "execute_result"
    }
   ],
   "source": [
    "# length of string\n",
    "s=\"ijijit\"\n",
    "find_len=lambda s : len(s)\n",
    "find_len(s)"
   ]
  },
  {
   "cell_type": "code",
   "execution_count": null,
   "id": "7b5bcacb-7fc0-41fd-aba7-a9079d573576",
   "metadata": {},
   "outputs": [],
   "source": []
  }
 ],
 "metadata": {
  "kernelspec": {
   "display_name": "Python [conda env:base] *",
   "language": "python",
   "name": "conda-base-py"
  },
  "language_info": {
   "codemirror_mode": {
    "name": "ipython",
    "version": 3
   },
   "file_extension": ".py",
   "mimetype": "text/x-python",
   "name": "python",
   "nbconvert_exporter": "python",
   "pygments_lexer": "ipython3",
   "version": "3.12.7"
  }
 },
 "nbformat": 4,
 "nbformat_minor": 5
}
