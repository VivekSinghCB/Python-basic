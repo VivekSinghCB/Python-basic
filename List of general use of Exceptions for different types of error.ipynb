{
 "cells": [
  {
   "cell_type": "code",
   "execution_count": 46,
   "id": "60915b61-bb3a-4387-82db-95e3a7ef2e93",
   "metadata": {},
   "outputs": [
    {
     "data": {
      "text/plain": [
       "['__cause__',\n",
       " '__class__',\n",
       " '__context__',\n",
       " '__delattr__',\n",
       " '__dict__',\n",
       " '__dir__',\n",
       " '__doc__',\n",
       " '__eq__',\n",
       " '__format__',\n",
       " '__ge__',\n",
       " '__getattribute__',\n",
       " '__getstate__',\n",
       " '__gt__',\n",
       " '__hash__',\n",
       " '__init__',\n",
       " '__init_subclass__',\n",
       " '__le__',\n",
       " '__lt__',\n",
       " '__ne__',\n",
       " '__new__',\n",
       " '__reduce__',\n",
       " '__reduce_ex__',\n",
       " '__repr__',\n",
       " '__setattr__',\n",
       " '__setstate__',\n",
       " '__sizeof__',\n",
       " '__str__',\n",
       " '__subclasshook__',\n",
       " '__suppress_context__',\n",
       " '__traceback__',\n",
       " 'add_note',\n",
       " 'args',\n",
       " 'with_traceback']"
      ]
     },
     "execution_count": 46,
     "metadata": {},
     "output_type": "execute_result"
    }
   ],
   "source": [
    "dir(Exception) # Exception is a superclass, it can handle all types of error"
   ]
  },
  {
   "cell_type": "code",
   "execution_count": 2,
   "id": "c1cd2452-d1cd-46b9-99f6-d276a8622682",
   "metadata": {},
   "outputs": [
    {
     "name": "stdout",
     "output_type": "stream",
     "text": [
      "division by zero\n"
     ]
    }
   ],
   "source": [
    "# List of general use of Exceptions for handling different types of errors\n",
    "\n",
    "try :\n",
    "    a=10/0\n",
    "except ZeroDivisionError as e :\n",
    "    print(e)"
   ]
  },
  {
   "cell_type": "code",
   "execution_count": 4,
   "id": "0fce0ebd-28e5-44fc-be2b-f601ce95f3f9",
   "metadata": {},
   "outputs": [
    {
     "name": "stdout",
     "output_type": "stream",
     "text": [
      "invalid literal for int() with base 10: 'gbuhh'\n"
     ]
    }
   ],
   "source": [
    "try :\n",
    "    int(\"gbuhh\")\n",
    "except (ValueError, TypeError) as x:\n",
    "    print(x)"
   ]
  },
  {
   "cell_type": "code",
   "execution_count": 6,
   "id": "31efcfb5-b0d9-449c-aa49-9104881f01ec",
   "metadata": {},
   "outputs": [
    {
     "name": "stdout",
     "output_type": "stream",
     "text": [
      "This will catch an error\n"
     ]
    }
   ],
   "source": [
    "# if we don't know what type of error is going to come\n",
    "try :\n",
    "    int(\"gbuhh\")\n",
    "except :\n",
    "    print(\"This will catch an error\")"
   ]
  },
  {
   "cell_type": "code",
   "execution_count": 10,
   "id": "84a2d0d6-0693-4322-8d16-a074e53393d1",
   "metadata": {},
   "outputs": [
    {
     "name": "stdout",
     "output_type": "stream",
     "text": [
      "No module named 'sudh'\n"
     ]
    },
    {
     "data": {
      "text/plain": [
       "25.0"
      ]
     },
     "execution_count": 10,
     "metadata": {},
     "output_type": "execute_result"
    }
   ],
   "source": [
    "try :\n",
    "    import sudh\n",
    "except ImportError as a:\n",
    "    print(a)\n",
    "50/2"
   ]
  },
  {
   "cell_type": "code",
   "execution_count": 18,
   "id": "ceeba0a3-474c-4016-a2c5-9172aa63ebbb",
   "metadata": {},
   "outputs": [
    {
     "name": "stdout",
     "output_type": "stream",
     "text": [
      "'key2'\n"
     ]
    }
   ],
   "source": [
    "try :\n",
    "    d = {\"key\" : \"raj\", 1 : [4,9,6,7,3]}\n",
    "    print(d[\"key2\"])\n",
    "except KeyError as n:\n",
    "    print(n)"
   ]
  },
  {
   "cell_type": "code",
   "execution_count": 36,
   "id": "73344457-e5f3-4822-9625-81018a4114c7",
   "metadata": {},
   "outputs": [
    {
     "name": "stdout",
     "output_type": "stream",
     "text": [
      "'str' object has no attribute 'test'\n"
     ]
    }
   ],
   "source": [
    "try :\n",
    "    \"fmf\".test()\n",
    "except AttributeError as v :\n",
    "    print(v)"
   ]
  },
  {
   "cell_type": "code",
   "execution_count": 38,
   "id": "c59f60a7-4622-4652-9ac7-ff74c56dfa68",
   "metadata": {},
   "outputs": [
    {
     "name": "stdout",
     "output_type": "stream",
     "text": [
      "list index out of range\n"
     ]
    }
   ],
   "source": [
    "try :\n",
    "    l = [7,9,5,4,6,7]\n",
    "    print(l[9])\n",
    "except IndexError as u:\n",
    "    print(u)"
   ]
  },
  {
   "cell_type": "code",
   "execution_count": 40,
   "id": "a003cac9-aa44-46dc-8ed9-131d73ca42b2",
   "metadata": {},
   "outputs": [
    {
     "name": "stdout",
     "output_type": "stream",
     "text": [
      "unsupported operand type(s) for +: 'int' and 'str'\n"
     ]
    }
   ],
   "source": [
    "try:\n",
    "    488+\"ijjiig\"\n",
    "except TypeError as d:\n",
    "    print(d)"
   ]
  },
  {
   "cell_type": "code",
   "execution_count": 42,
   "id": "50136ed7-9231-47b4-bdf6-9c456f9462ca",
   "metadata": {},
   "outputs": [
    {
     "name": "stdout",
     "output_type": "stream",
     "text": [
      "[Errno 2] No such file or directory: 'hug.txt'\n"
     ]
    }
   ],
   "source": [
    "try :\n",
    "    with open(\"hug.txt\" , 'r') as f:\n",
    "        f.read()\n",
    "except FileNotFoundError as p:\n",
    "    print(p)"
   ]
  },
  {
   "cell_type": "code",
   "execution_count": 50,
   "id": "0f084132-fcfb-4b53-92cf-ab3c70a0793d",
   "metadata": {},
   "outputs": [
    {
     "name": "stdout",
     "output_type": "stream",
     "text": [
      "[Errno 2] No such file or directory: 'hug.txt'\n"
     ]
    }
   ],
   "source": [
    "try :\n",
    "    with open(\"hug.txt\" , 'r') as f:\n",
    "        f.read()\n",
    "except Exception as p:  # first error will try to get handled by this block, if it does not get handled then it will go to next except block to get handled\n",
    "    print(p)            # Exception class is a superclass, it should be written at last so that if other blocks present above are not able to handle the error then at last it will be handled by this super class Exception  \n",
    "except FileNotFoundError as p:\n",
    "    print(\"hug\", p)"
   ]
  },
  {
   "cell_type": "code",
   "execution_count": 60,
   "id": "8ba91e98-a369-484b-8fb2-12b8789c75c9",
   "metadata": {},
   "outputs": [],
   "source": [
    "def test(file):\n",
    " try :\n",
    "   with open(\"hug.txt\" , 'r') as f:\n",
    "       test =  f.read()\n",
    " except Exception as p:\n",
    "     print(p)\n",
    " except FileNotFoundError as p:\n",
    "     print(\"hug\", p)"
   ]
  },
  {
   "cell_type": "code",
   "execution_count": null,
   "id": "a50361fa-0a88-45f2-9ba2-09b7fe41cc31",
   "metadata": {},
   "outputs": [],
   "source": []
  }
 ],
 "metadata": {
  "kernelspec": {
   "display_name": "Python [conda env:base] *",
   "language": "python",
   "name": "conda-base-py"
  },
  "language_info": {
   "codemirror_mode": {
    "name": "ipython",
    "version": 3
   },
   "file_extension": ".py",
   "mimetype": "text/x-python",
   "name": "python",
   "nbconvert_exporter": "python",
   "pygments_lexer": "ipython3",
   "version": "3.12.7"
  }
 },
 "nbformat": 4,
 "nbformat_minor": 5
}
