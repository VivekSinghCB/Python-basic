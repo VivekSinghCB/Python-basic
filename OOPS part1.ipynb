{
 "cells": [
  {
   "cell_type": "code",
   "execution_count": 2,
   "id": "d658cc98-4be8-4430-b00b-16bfd829be28",
   "metadata": {},
   "outputs": [
    {
     "name": "stdout",
     "output_type": "stream",
     "text": [
      "<class 'int'>\n"
     ]
    }
   ],
   "source": [
    "# OOPS- Object-Oriented Programming is a programming paradigm that organizes code using objects and classes. \n",
    "  #It allows for structuring programs using reusable and modular components\n",
    "a=1\n",
    "print(type(a))"
   ]
  },
  {
   "cell_type": "code",
   "execution_count": 4,
   "id": "b6807b43-3a8a-4594-8c41-1c479724ba2c",
   "metadata": {},
   "outputs": [
    {
     "name": "stdout",
     "output_type": "stream",
     "text": [
      "<class 'str'>\n"
     ]
    }
   ],
   "source": [
    "print (type(\"bpehd\"))"
   ]
  },
  {
   "cell_type": "code",
   "execution_count": 8,
   "id": "ae4be94c-bf01-46f5-b7d7-d87a77b9cb34",
   "metadata": {},
   "outputs": [],
   "source": [
    "# class= A class is a blueprint for creating objects. It defines properties (attributes) and behaviors (methods)\n",
    "# Object= An object is an instance of a class. It has its own values for the attributes defined in the class\n",
    "\n",
    "class test:  # class is a reserve keyword, which makes program structured, reusable\n",
    "    pass"
   ]
  },
  {
   "cell_type": "code",
   "execution_count": 28,
   "id": "2a349d9d-d132-47c3-a929-f153523dd232",
   "metadata": {},
   "outputs": [
    {
     "name": "stdout",
     "output_type": "stream",
     "text": [
      "Purple is nice colour\n"
     ]
    }
   ],
   "source": [
    "class c:  # Define a class named 'c'\n",
    "    def colour(self):  # Define a method 'colour' inside the class, self binds method to class 'c'\n",
    "        print(\"Purple is nice colour\")  # This method prints a message\n",
    "\n",
    "viv = c()  # Create an object (instance) of the 'c' class\n",
    "viv.colour()  # Call the 'colour' method using the object 'viv'"
   ]
  },
  {
   "cell_type": "code",
   "execution_count": 64,
   "id": "db0843ba-e604-4546-bc5b-1237f6c0ff0c",
   "metadata": {},
   "outputs": [
    {
     "ename": "TypeError",
     "evalue": "t.__init__() missing 3 required positional arguments: 'phone', 'email', and 'id'",
     "output_type": "error",
     "traceback": [
      "\u001b[1;31m---------------------------------------------------------------------------\u001b[0m",
      "\u001b[1;31mTypeError\u001b[0m                                 Traceback (most recent call last)",
      "Cell \u001b[1;32mIn[64], line 8\u001b[0m\n\u001b[0;32m      6\u001b[0m     \u001b[38;5;28;01mdef\u001b[39;00m \u001b[38;5;21mstu_detail\u001b[39m(\u001b[38;5;28mself\u001b[39m):\n\u001b[0;32m      7\u001b[0m         \u001b[38;5;28;01mreturn\u001b[39;00m \u001b[38;5;28mself\u001b[39m\u001b[38;5;241m.\u001b[39mphone, \u001b[38;5;28mself\u001b[39m\u001b[38;5;241m.\u001b[39memail, \u001b[38;5;28mself\u001b[39m\u001b[38;5;241m.\u001b[39mid\n\u001b[1;32m----> 8\u001b[0m vivek\u001b[38;5;241m=\u001b[39mt()\n",
      "\u001b[1;31mTypeError\u001b[0m: t.__init__() missing 3 required positional arguments: 'phone', 'email', and 'id'"
     ]
    }
   ],
   "source": [
    "class t:\n",
    "    def __init__(self , phone, email, id): # __init__ is inbuid function, used to pass data inside class\n",
    "        self.phone=phone\n",
    "        self.email=email\n",
    "        self.id=id\n",
    "    def stu_detail(self):\n",
    "        return self.phone, self.email, self.id\n",
    "vivek=t()  # it will give error as we have to provide the data as we have used __init__"
   ]
  },
  {
   "cell_type": "code",
   "execution_count": 66,
   "id": "1f3b33dd-6b98-438e-aa94-d627abb22883",
   "metadata": {},
   "outputs": [
    {
     "data": {
      "text/plain": [
       "(9486776, 'bjnf@gmail.com', 7884)"
      ]
     },
     "execution_count": 66,
     "metadata": {},
     "output_type": "execute_result"
    }
   ],
   "source": [
    "vivek= t(9486776, \"bjnf@gmail.com\", 7884)\n",
    "vivek.stu_detail()"
   ]
  },
  {
   "cell_type": "code",
   "execution_count": 54,
   "id": "117c92cd-895c-411f-8289-a7c23a257dd9",
   "metadata": {},
   "outputs": [
    {
     "data": {
      "text/plain": [
       "'bjnf@gmail.com'"
      ]
     },
     "execution_count": 54,
     "metadata": {},
     "output_type": "execute_result"
    }
   ],
   "source": [
    "# extracting individual data\n",
    "vivek.email"
   ]
  },
  {
   "cell_type": "code",
   "execution_count": 56,
   "id": "5583a8a9-c04d-4a8d-92d3-ef43cc1a4f4d",
   "metadata": {},
   "outputs": [
    {
     "data": {
      "text/plain": [
       "7884"
      ]
     },
     "execution_count": 56,
     "metadata": {},
     "output_type": "execute_result"
    }
   ],
   "source": [
    "vivek.id"
   ]
  },
  {
   "cell_type": "code",
   "execution_count": 50,
   "id": "ecb2c9dd-aa62-44ad-995e-3e20138a0860",
   "metadata": {},
   "outputs": [
    {
     "data": {
      "text/plain": [
       "(9456885, 'nfijf@gmail.com', 884)"
      ]
     },
     "execution_count": 50,
     "metadata": {},
     "output_type": "execute_result"
    }
   ],
   "source": [
    "abhi= t(9456885, \"nfijf@gmail.com\", 884)\n",
    "abhi.stu_detail()"
   ]
  },
  {
   "cell_type": "code",
   "execution_count": null,
   "id": "9c8a8313-c07a-4329-b3f5-5c1fd02b4eb6",
   "metadata": {},
   "outputs": [],
   "source": []
  },
  {
   "cell_type": "code",
   "execution_count": 84,
   "id": "c8667a08-8479-4416-8891-b903ddf2d987",
   "metadata": {},
   "outputs": [
    {
     "data": {
      "text/plain": [
       "(9486776, 'bjnf@gmail.com', 7884)"
      ]
     },
     "execution_count": 84,
     "metadata": {},
     "output_type": "execute_result"
    }
   ],
   "source": [
    "# class takes the variable which is associated with self, not which is written after =\n",
    "# e.g. we change the self.email1 = email, not try vivek.email to extract the email for vivek. It will give an error\n",
    "# So, we have to give vivek.email1\n",
    "class t1:\n",
    "    def __init__(self, phone, email, id): # __init__ is an inbuild function, used to pass data inside class\n",
    "        self.phone1=phone\n",
    "        self.email1=email\n",
    "        self.id1=id\n",
    "    def stu_detail(self):\n",
    "        return self.phone1, self.email1, self.id1 # should be same as associated with self. above\n",
    "vivek= t1(9486776, \"bjnf@gmail.com\", 7884)\n",
    "vivek.stu_detail()"
   ]
  },
  {
   "cell_type": "code",
   "execution_count": 80,
   "id": "b698b1ab-b109-4d15-9730-da16089ac4e9",
   "metadata": {},
   "outputs": [
    {
     "ename": "AttributeError",
     "evalue": "'t1' object has no attribute 'email'",
     "output_type": "error",
     "traceback": [
      "\u001b[1;31m---------------------------------------------------------------------------\u001b[0m",
      "\u001b[1;31mAttributeError\u001b[0m                            Traceback (most recent call last)",
      "Cell \u001b[1;32mIn[80], line 1\u001b[0m\n\u001b[1;32m----> 1\u001b[0m vivek\u001b[38;5;241m.\u001b[39memail\n",
      "\u001b[1;31mAttributeError\u001b[0m: 't1' object has no attribute 'email'"
     ]
    }
   ],
   "source": [
    "vivek.email"
   ]
  },
  {
   "cell_type": "code",
   "execution_count": 82,
   "id": "fdf01c97-f584-4d9f-97b2-ae1ac4916f21",
   "metadata": {},
   "outputs": [
    {
     "data": {
      "text/plain": [
       "'bjnf@gmail.com'"
      ]
     },
     "execution_count": 82,
     "metadata": {},
     "output_type": "execute_result"
    }
   ],
   "source": [
    "vivek.email1"
   ]
  },
  {
   "cell_type": "code",
   "execution_count": 88,
   "id": "3ec89903-9409-4c02-90fb-c1bec9b86049",
   "metadata": {},
   "outputs": [
    {
     "data": {
      "text/plain": [
       "(9486776, 'bjnf@gmail.com', 7884)"
      ]
     },
     "execution_count": 88,
     "metadata": {},
     "output_type": "execute_result"
    }
   ],
   "source": [
    "# self is not a reserved keyword, it can be replaced by other words\n",
    "class t1:\n",
    "    def __init__(abc, phone, email, id):   # replacing all self with e.g. 'abc' word\n",
    "        abc.phone1=phone  \n",
    "        abc.email1=email\n",
    "        abc.id1=id\n",
    "    def stu_detail(abc):\n",
    "        return abc.phone1, abc.email1, abc.id1 \n",
    "vivek= t1(9486776, \"bjnf@gmail.com\", 7884)\n",
    "vivek.stu_detail()"
   ]
  },
  {
   "cell_type": "code",
   "execution_count": 90,
   "id": "4514f8b5-d0d7-49c2-9b2a-c0e028747785",
   "metadata": {},
   "outputs": [
    {
     "data": {
      "text/plain": [
       "7884"
      ]
     },
     "execution_count": 90,
     "metadata": {},
     "output_type": "execute_result"
    }
   ],
   "source": [
    "vivek.id1"
   ]
  },
  {
   "cell_type": "code",
   "execution_count": null,
   "id": "3df88e44-6d2c-42ab-bf40-223c5c0d4781",
   "metadata": {},
   "outputs": [],
   "source": []
  }
 ],
 "metadata": {
  "kernelspec": {
   "display_name": "Python [conda env:base] *",
   "language": "python",
   "name": "conda-base-py"
  },
  "language_info": {
   "codemirror_mode": {
    "name": "ipython",
    "version": 3
   },
   "file_extension": ".py",
   "mimetype": "text/x-python",
   "name": "python",
   "nbconvert_exporter": "python",
   "pygments_lexer": "ipython3",
   "version": "3.12.7"
  }
 },
 "nbformat": 4,
 "nbformat_minor": 5
}
